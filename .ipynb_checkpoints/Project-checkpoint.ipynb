{
 "cells": [
  {
   "cell_type": "markdown",
   "metadata": {},
   "source": [
    "<h2>A Data Driven Approach to Predicting Chemical Reaction Kinetics</h2>\n",
    "<br>\n",
    "Maneet Goyal<sup>1</sup>, Keren Zhang<sup>2</sup>\n",
    "<br>\n",
    "<i><sup>1</sup>School of Civil and Environmental Engineering, <sup>2</sup>School of Chemical and Biomolecular Engineering, Georgia Institute of Technology, Atlanta, GA</i>\n",
    "<hr>"
   ]
  },
  {
   "cell_type": "code",
   "execution_count": 1,
   "metadata": {},
   "outputs": [
    {
     "data": {
      "text/html": [
       "\n",
       "        <iframe\n",
       "            width=\"1000\"\n",
       "            height=\"500\"\n",
       "            src=\"Proposals/OldProposal.pdf\"\n",
       "            frameborder=\"0\"\n",
       "            allowfullscreen\n",
       "        ></iframe>\n",
       "        "
      ],
      "text/plain": [
       "<IPython.lib.display.IFrame at 0x22316faf1d0>"
      ]
     },
     "execution_count": 1,
     "metadata": {},
     "output_type": "execute_result"
    }
   ],
   "source": [
    "# Displaying Old Proposal PDF\n",
    "from IPython.display import IFrame\n",
    "IFrame(\"Proposals/OldProposal.pdf\", width=1000, height=500)"
   ]
  },
  {
   "cell_type": "markdown",
   "metadata": {},
   "source": [
    "<h3>Response to Proposal Review</h3>"
   ]
  },
  {
   "cell_type": "markdown",
   "metadata": {},
   "source": [
    "<u>Reviewer Comments: </u>The proposed project is certainly related to chemical engineering, and the dataset is far too large and complex for traditional tools, so this is an appropriate project idea. The fact that the team has already scraped the data is commendable, as is the idea of ultimately delivering a Python package. However, the goals are very vague, and should be significantly clarified. I suggest making major revisions to the proposal before moving forward with the project. Specifically, it is not clear to me <u>what the inputs/outputs of the proposed algorithm will be</u>, and <u>how this relates to existing work</u>. \n",
    "\n",
    "The proposal indicates that half of “goal 1” is already achieved, so I would focus on the “feature vector” part of this goal. The process of identifying feature vectors for chemical reactions is far from trivial. The proposal glosses over this complexity, but determining <u>an appropriate representation for the molecular inputs</u> may be the most challenging part of the project. <u>Will the reactants be cross-referenced with PubChem to extract information about the bonds that are formed/broken?</u> <u>How will radical species be represented?</u> <u>How will reactions with 2 reactants/products be compared to reactions with 1 or 3 reactants/products?</u> These questions are critical and should be explored further in the proposal goals.\n",
    "\n",
    "The scope of the outputs should be narrowed, given the challenges with defining the inputs. I recommend focusing on activation energies, since this implicitly defines “feasibility”. Predicting activation energies is also extremely useful. The authors should review the work of Bill Greene at MIT, and the RMG code, which uses some physically-inspired models to predict reaction barriers. This provides a good benchmark for what constitutes “good” performance from a new approach, and a high level of success could be defined as a model that out-performs the existing approach."
   ]
  },
  {
   "cell_type": "markdown",
   "metadata": {},
   "source": [
    "<u>Response</u>"
   ]
  },
  {
   "cell_type": "markdown",
   "metadata": {},
   "source": [
    "<ol>\n",
    "<li>The input to the model (at the time of prediction) will be a feature vector depicting a reaction under consideration. Output will be reaction order and activation energy. Prime focus is on reaction order since we have more data for the same. More than 55% of our reaction records don't have any reported activation energy.</li>\n",
    "\n",
    "Here's a more complete picture: we have around 28000 reactions. Corresponding to these 28000 reactions, there are about 65000 records in total. Each record has reaction order, activation enery, Arrhenius rate law constants, reaction temperature, etc. stored in it which were reported in some or the other work/paper. Around 37000 of these records don't have activation enery reported. On the other hand, only around 1000 records have reaction order missing.\n",
    "\n",
    "<li>We are currently looking into leveraging past work to aid our analysis. We have take a note of Bill Greene's work and will refer to it as necessary.</li>\n",
    "\n",
    "<li>Molecular representation will be done with a feature vector containing elements like the number of following entities (functional groups): C-H, C=H, C#H, C=C, -OH, -CHO, -COOH, -Cl, -Br, -Fl, etc. We plan to use around 20-30 such entities including the reaction temperature.</li>\n",
    "\n",
    "<li>We have used the ChemSpider Web API to query individual reactants. Around 35% of the reactants weren't found in their database. Of those found, some had multiple structures reported. The reactions that weren't found will be cleaned using OpenRefine and again queried using the same API. We will look into PubChem API also to query these reactants to extract some more relevant elements to complete our features. The reactants for which multiple structures are reported will be scanned through to select the most relevant structure. Here, structure implies SMILE representation. In the end, whichever reactants have fully developed feature vectors will be mapped to their reactions and only those reactions will be used for training.</li>\n",
    "\n",
    "<li>Currently, we plan to use a binary element in the feature to reprsent whther the reactant is a radical or not.</li>\n",
    "\n",
    "<li>The feature vector for the reaction will be formed by appending the feature vectors of the involved reactants and the normalized reaction temperature. The first half of the reactions' feature vector will correspond to the reactant of higher molecular weight just to ensure uniformity. For 3-reactant reactions, the features vectors of the 2 lowest molecular weight compounds will be summed and then appended to the feature vector of the first element. If the sum of the molecular weights of these 2 reactants is more than that of the third compound, the corresponding feature vector will occupy the first half of the reaction feature vector.</li>\n",
    "\n",
    "</ol>"
   ]
  },
  {
   "cell_type": "markdown",
   "metadata": {},
   "source": [
    "<h3>Revised Proposal</h3>"
   ]
  },
  {
   "cell_type": "code",
   "execution_count": 2,
   "metadata": {},
   "outputs": [
    {
     "data": {
      "text/html": [
       "\n",
       "        <iframe\n",
       "            width=\"1000\"\n",
       "            height=\"500\"\n",
       "            src=\"Proposals/RevisedProposal.pdf\"\n",
       "            frameborder=\"0\"\n",
       "            allowfullscreen\n",
       "        ></iframe>\n",
       "        "
      ],
      "text/plain": [
       "<IPython.lib.display.IFrame at 0x22316faf588>"
      ]
     },
     "execution_count": 2,
     "metadata": {},
     "output_type": "execute_result"
    }
   ],
   "source": [
    "# Displaying Revised Proposal PDF\n",
    "from IPython.display import IFrame\n",
    "IFrame(\"Proposals/RevisedProposal.pdf\", width=1000, height=500)"
   ]
  },
  {
   "cell_type": "markdown",
   "metadata": {},
   "source": [
    "<h3>Importing our Source File for HTML Parsing</h3>"
   ]
  },
  {
   "cell_type": "code",
   "execution_count": 3,
   "metadata": {},
   "outputs": [],
   "source": [
    "import htmlparser as hp # Our Source File. Open the file in a code editor for viewing the completing implementation."
   ]
  },
  {
   "cell_type": "markdown",
   "metadata": {},
   "source": [
    "<h3>Creating an in-memory table from the input HTML file</h3>"
   ]
  },
  {
   "cell_type": "code",
   "execution_count": 4,
   "metadata": {},
   "outputs": [
    {
     "name": "stdout",
     "output_type": "stream",
     "text": [
      "----Status----\n",
      "HTML File read in memory.\n",
      "----Status----\n",
      "Soup created out of the HTML file\n",
      "----Status----\n",
      "Done\n"
     ]
    }
   ],
   "source": [
    "myTableCreator = hp.TableCreator(\"ReactionHTMLFile/NIST Chemical Kinetics Database.html\")"
   ]
  },
  {
   "cell_type": "markdown",
   "metadata": {},
   "source": [
    "<p style=\"color:magenta;\">*Soup, specific to BeautifulSoup is a alternate representation of the HTML data that makes it easy for us to filter out the required data.</p>"
   ]
  },
  {
   "cell_type": "markdown",
   "metadata": {},
   "source": [
    "<h3>Creating an output \".tsv\" file after reading all the reactions</h3>"
   ]
  },
  {
   "cell_type": "code",
   "execution_count": 5,
   "metadata": {},
   "outputs": [
    {
     "name": "stdout",
     "output_type": "stream",
     "text": [
      "----Status----\n",
      "All reactions written into the output .tsv file in TSV format.\n"
     ]
    }
   ],
   "source": [
    "myTableCreator.extrct_rxn_to_txt(\"PreliminaryOutput/DemoGenerated/reactions.tsv\")"
   ]
  },
  {
   "cell_type": "markdown",
   "metadata": {},
   "source": [
    "<h3>Read HREFs from the Input \".tsv\" file path into a Pandas DataFrame</h3>"
   ]
  },
  {
   "cell_type": "code",
   "execution_count": 6,
   "metadata": {},
   "outputs": [
    {
     "name": "stdout",
     "output_type": "stream",
     "text": [
      "----Status----\n",
      "Reactions '.tsv' file read into a Pandas DataFrame.\n",
      "\n",
      "----Heres how our dataframe looks----\n",
      "                                         Reaction Link  Records\n",
      "RID                                                            \n",
      "1    http://kinetics.nist.gov/kinetics/ReactionSear...        1\n",
      "2    http://kinetics.nist.gov/kinetics/ReactionSear...        1\n",
      "3    http://kinetics.nist.gov/kinetics/ReactionSear...        1\n",
      "4    http://kinetics.nist.gov/kinetics/ReactionSear...        1\n",
      "5    http://kinetics.nist.gov/kinetics/ReactionSear...        1\n",
      "6    http://kinetics.nist.gov/kinetics/ReactionSear...        1\n",
      "7    http://kinetics.nist.gov/kinetics/ReactionSear...        1\n",
      "8    http://kinetics.nist.gov/kinetics/ReactionSear...        1\n",
      "9    http://kinetics.nist.gov/kinetics/ReactionSear...        1\n",
      "10   http://kinetics.nist.gov/kinetics/ReactionSear...        1\n",
      "\n",
      "----No. of Rows---\n",
      "28983\n"
     ]
    }
   ],
   "source": [
    "myRxnExtrator = hp.RxnDetailsExtractor(\"PreliminaryOutput/DemoGenerated/reactions.tsv\")\n",
    "print('\\n----Here''s how our dataframe looks----')\n",
    "print(myRxnExtrator.reactions_df.head(10))\n",
    "print('\\n----No. of Rows---')\n",
    "print(len(myRxnExtrator.reactions_df.index))"
   ]
  },
  {
   "cell_type": "markdown",
   "metadata": {},
   "source": [
    "<h3>Scraping data from the url suplied by the DataFrame above into TSV files.</h3>\n",
    "<h4 style=\"color: red;\">We suggest terminating the below code as soon as you are convinced that it works. On our system, the entire scraping was done in around 2 hours.</h4>\n",
    "<h4 style=\"color: green;\">The records.tsv and ref_reaction.tsv files were generated using BeautifulSoup and is given with the code. You don't need to generate it.</h4>\n",
    "<h4>Here, records.tsv will contain all the data pertaining to a reaction order, for e.g., reaction order, activation enery, temperature, etc. \"ref_reaction.tsv\", on the other hand, will contain information on reactive whose kinetics was studied with respect to some other reactions. These reactions will not be included in our analysis.</h4>\n",
    "<p>The code should start running and printing log instantly. In case the code takes a lot of time and still doesn't print anything, check whether the NIST Server is responding by going to http://kinetics.nist.gov/.</p>"
   ]
  },
  {
   "cell_type": "code",
   "execution_count": 7,
   "metadata": {},
   "outputs": [],
   "source": [
    "#myRxnExtrator.extrct_rec_to_tsv(\"PreliminaryOutput/DemoGenerated/records.tsv\", \"PreliminaryOutput/DemoGenerated/ref_reaction.tsv\")"
   ]
  },
  {
   "cell_type": "markdown",
   "metadata": {},
   "source": [
    "<hr>\n",
    "<h4 style=\"color: blue;\">Beyond this point, we manually dealt with the records<u>.tsv</u> to fix some formatting issues that accompanied the scraping process. OpenRefine was also used for a few tasks. The cleaned version of the file is provided in <u>'CleanedData'</u> folder in a <u>.xlsx</u> format.</h4> \n",
    "<hr>"
   ]
  },
  {
   "cell_type": "code",
   "execution_count": 8,
   "metadata": {},
   "outputs": [
    {
     "name": "stderr",
     "output_type": "stream",
     "text": [
      "c:\\users\\maneet\\appdata\\local\\programs\\python\\python36\\lib\\site-packages\\IPython\\core\\interactiveshell.py:2910: PerformanceWarning: \n",
      "your performance may suffer as PyTables will pickle object types that it cannot\n",
      "map directly to c-types [inferred_type->mixed-integer,key->block2_values] [items->['RecordType', 'Squib', 'PaperDetails', 'Temperature', 'FrequencyFactor', 'RateConstant']]\n",
      "\n",
      "  exec(code_obj, self.user_global_ns, self.user_ns)\n"
     ]
    }
   ],
   "source": [
    "# The cleaned records were then stored as a Dataframe\n",
    "myRxnExtrator.send_records_to_hdf(records_file=\"CleanedData/records.xlsx\", dataframe_key=\"Records\", output_hdf=\"PreliminaryOutput/DemoGenerated/DataDF.h5\")"
   ]
  },
  {
   "cell_type": "markdown",
   "metadata": {},
   "source": [
    "<p>This is how our records dataframe looks:</p>"
   ]
  },
  {
   "cell_type": "code",
   "execution_count": 9,
   "metadata": {},
   "outputs": [
    {
     "name": "stdout",
     "output_type": "stream",
     "text": [
      "          RID RecordType                                              Squib  \\\n",
      "RecordID                                                                      \n",
      "1           1     Theory  http://kinetics.nist.gov/kinetics/Detail;jsess...   \n",
      "2           2     Theory  http://kinetics.nist.gov/kinetics/Detail;jsess...   \n",
      "3           3     Theory  http://kinetics.nist.gov/kinetics/Detail;jsess...   \n",
      "\n",
      "                                               PaperDetails Temperature  \\\n",
      "RecordID                                                                  \n",
      "1         Ab initio and DFT calculations on the gas phas...   613 - 273   \n",
      "2         Kinetics of the formation reactions of trichlo...   200 - 400   \n",
      "3         Kinetics of the formation reactions of trichlo...   200 - 400   \n",
      "\n",
      "         FrequencyFactor  TemperatureRatioExponent  ActivationEnergy  \\\n",
      "RecordID                                                               \n",
      "1               6.30E+12                       NaN          173000.0   \n",
      "2               1.41E+16                     -0.67          320000.0   \n",
      "3               4.00E+15                     -0.03          158000.0   \n",
      "\n",
      "         RateConstant  ReactionOrder  \n",
      "RecordID                              \n",
      "1                 NaN            1.0  \n",
      "2            1.21e-40            1.0  \n",
      "3            6.68e-13            1.0  \n"
     ]
    }
   ],
   "source": [
    "import species as sp\n",
    "sp.Populator.print_from_hdf5(hdf5_store=\"PreliminaryOutput/DemoGenerated/DataDF.h5\", dataframe_key=\"Records\", lines=3)"
   ]
  },
  {
   "cell_type": "markdown",
   "metadata": {},
   "source": [
    "<h3>Initializing Populator</h3>\n",
    "<p><em>Here, we extract all the unique reactants and products from all our reactions and augment the database with some markers. Species data is manually fetched and these markers help us plan which species should be fetched earlier than the rest.</em></p>"
   ]
  },
  {
   "cell_type": "code",
   "execution_count": 10,
   "metadata": {},
   "outputs": [
    {
     "name": "stderr",
     "output_type": "stream",
     "text": [
      "DEBUG:chemspipy.api:Initializing ChemSpider\n"
     ]
    },
    {
     "name": "stdout",
     "output_type": "stream",
     "text": [
      "--Populator Initialized--\n"
     ]
    }
   ],
   "source": [
    "my_populator = sp.Populator()"
   ]
  },
  {
   "cell_type": "markdown",
   "metadata": {},
   "source": [
    "<h3>Moving Reactions and Individual Chemical Species to a HDF5 File as Pandas Dataframes.</h3>"
   ]
  },
  {
   "cell_type": "code",
   "execution_count": 11,
   "metadata": {},
   "outputs": [
    {
     "name": "stderr",
     "output_type": "stream",
     "text": [
      "c:\\users\\maneet\\appdata\\local\\programs\\python\\python36\\lib\\site-packages\\pandas\\core\\generic.py:1471: PerformanceWarning: \n",
      "your performance may suffer as PyTables will pickle object types that it cannot\n",
      "map directly to c-types [inferred_type->mixed,key->block1_values] [items->['Reaction Link', 'Reactants', 'Products', 'Reactants_List', 'Products_List', 'Reactants_SIDs_List', 'Products_SIDs_List']]\n",
      "\n",
      "  return pytables.to_hdf(path_or_buf, key, self, **kwargs)\n"
     ]
    },
    {
     "name": "stdout",
     "output_type": "stream",
     "text": [
      "-- DataFrames Created and Stored in PreliminaryOutput/DemoGenerated/DataDF.h5 --\n"
     ]
    }
   ],
   "source": [
    "my_populator.reactions_and_species('PreliminaryOutput/DemoGenerated/reactions.tsv', 'PreliminaryOutput/DemoGenerated/DataDF.h5', 'Reactions', 'Species')"
   ]
  },
  {
   "cell_type": "markdown",
   "metadata": {},
   "source": [
    "<p>This is how our reactions dataframe looks:</p>"
   ]
  },
  {
   "cell_type": "code",
   "execution_count": 12,
   "metadata": {},
   "outputs": [
    {
     "name": "stdout",
     "output_type": "stream",
     "text": [
      "                                         Reaction Link  Records  \\\n",
      "RID                                                               \n",
      "1    http://kinetics.nist.gov/kinetics/ReactionSear...        1   \n",
      "2    http://kinetics.nist.gov/kinetics/ReactionSear...        1   \n",
      "3    http://kinetics.nist.gov/kinetics/ReactionSear...        1   \n",
      "4    http://kinetics.nist.gov/kinetics/ReactionSear...        1   \n",
      "5    http://kinetics.nist.gov/kinetics/ReactionSear...        1   \n",
      "\n",
      "         Reactants            Products   Reactants_List       Products_List  \\\n",
      "RID                                                                           \n",
      "1    C2H5OCH=CHNH2  C2H4 + CH3NH2 + CO  [C2H5OCH=CHNH2]  [C2H4, CH3NH2, CO]   \n",
      "2           CBr3OF           CBr3 + OF         [CBr3OF]          [CBr3, OF]   \n",
      "3           CBr3OF     CBr3O(Â·) + Â·F         [CBr3OF]      [CBr3O(·), ·F]   \n",
      "4           CCl3OF         Â·F + CCl3O         [CCl3OF]         [·F, CCl3O]   \n",
      "5           CCl3OF         Â·CCl3 + OF         [CCl3OF]         [·CCl3, OF]   \n",
      "\n",
      "    Reactants_SIDs_List Products_SIDs_List  \n",
      "RID                                         \n",
      "1                [5251]   [8505, 92, 7600]  \n",
      "2                 [984]       [4544, 7422]  \n",
      "3                 [984]      [1231, 11090]  \n",
      "4                [7261]      [11090, 8656]  \n",
      "5                [7261]      [10186, 7422]  \n"
     ]
    }
   ],
   "source": [
    "my_populator.print_from_hdf5(hdf5_store=\"PreliminaryOutput/DemoGenerated/DataDF.h5\", dataframe_key=\"Reactions\", lines=5)"
   ]
  },
  {
   "cell_type": "markdown",
   "metadata": {},
   "source": [
    "<h3>Assigning Scores to Individual Chemical Species.</h3>\n",
    "<p style=\"color: green;\">A <u>Score</u> (here) is defined as <em>No. of times a species is occuring as a product or as a reactant<em>.</p>"
   ]
  },
  {
   "cell_type": "code",
   "execution_count": 13,
   "metadata": {},
   "outputs": [
    {
     "name": "stdout",
     "output_type": "stream",
     "text": [
      "-- Scores Assigned --\n",
      "\n"
     ]
    }
   ],
   "source": [
    "sp.Populator.status_check('PreliminaryOutput/DemoGenerated/DataDF.h5', 'Reactions', 'Species')"
   ]
  },
  {
   "cell_type": "markdown",
   "metadata": {},
   "source": [
    "<p>This is how our updated species dataframe looks:</p>"
   ]
  },
  {
   "cell_type": "code",
   "execution_count": 14,
   "metadata": {},
   "outputs": [
    {
     "name": "stdout",
     "output_type": "stream",
     "text": [
      "                               Species  Scores\n",
      "SID                                           \n",
      "0                            CH3CF=CH2      15\n",
      "1                             (E)-ONOH       1\n",
      "2        2-methyl-tetrahydrofuran-4-yl       1\n",
      "3         2-hydroxy-1,3,5-triazin-5-yl       4\n",
      "4                              CH3SiH3      32\n",
      "5                       O2(b1Sigma_g+)      13\n",
      "6    (Z)-1,2-bis(4-methylphenyl)ethene       1\n",
      "7            Benzene, 1,2-propadienyl-       8\n"
     ]
    }
   ],
   "source": [
    "my_populator.print_from_hdf5(hdf5_store=\"PreliminaryOutput/DemoGenerated/DataDF.h5\", dataframe_key=\"Species\", lines=8)"
   ]
  },
  {
   "cell_type": "markdown",
   "metadata": {},
   "source": [
    "<h3>Assign boolean flags to each reaction</h3>\n",
    "<p> These boolean flags are Status50, Status75, Status100, Products_Available. Here, <em>StatusX = True</em> implies that the corresponding reaction's reactants and products have a <u>Score >= X</u>. And Products_Available = True implies that the products of that reaction has been reported.</p>"
   ]
  },
  {
   "cell_type": "code",
   "execution_count": 15,
   "metadata": {},
   "outputs": [
    {
     "name": "stdout",
     "output_type": "stream",
     "text": [
      "-- Boolean Flags Assigned --\n",
      "\n"
     ]
    },
    {
     "name": "stderr",
     "output_type": "stream",
     "text": [
      "c:\\users\\maneet\\appdata\\local\\programs\\python\\python36\\lib\\site-packages\\pandas\\core\\generic.py:1471: PerformanceWarning: \n",
      "your performance may suffer as PyTables will pickle object types that it cannot\n",
      "map directly to c-types [inferred_type->mixed,key->block2_values] [items->['Reaction Link', 'Reactants', 'Products', 'Reactants_List', 'Products_List', 'Reactants_SIDs_List', 'Products_SIDs_List']]\n",
      "\n",
      "  return pytables.to_hdf(path_or_buf, key, self, **kwargs)\n"
     ]
    }
   ],
   "source": [
    "my_populator.reaction_status('PreliminaryOutput/DemoGenerated/DataDF.h5', 'Reactions', 'Species')"
   ]
  },
  {
   "cell_type": "markdown",
   "metadata": {},
   "source": [
    "<hr>\n",
    "<h4 style=\"color: blue;\">Beyond this point, we manually fetched the data (PubChem IDs) for \"Species\" DF. The file is provided in <u>'CleanedData'</u> folder in a <u>.xlsx</u> format. \n",
    "</h4>\n",
    "<hr>"
   ]
  },
  {
   "cell_type": "code",
   "execution_count": 16,
   "metadata": {},
   "outputs": [
    {
     "name": "stderr",
     "output_type": "stream",
     "text": [
      "c:\\users\\maneet\\appdata\\local\\programs\\python\\python36\\lib\\site-packages\\IPython\\core\\interactiveshell.py:2910: PerformanceWarning: \n",
      "your performance may suffer as PyTables will pickle object types that it cannot\n",
      "map directly to c-types [inferred_type->mixed,key->block2_values] [items->['Species']]\n",
      "\n",
      "  exec(code_obj, self.user_global_ns, self.user_ns)\n"
     ]
    }
   ],
   "source": [
    "# Storing the updated species.xlsx into our HDF5 file\n",
    "myRxnExtrator.send_records_to_hdf(records_file=\"CleanedData/species.xlsx\", dataframe_key=\"Species\", output_hdf=\"PreliminaryOutput/DemoGenerated/DataDF.h5\")"
   ]
  },
  {
   "cell_type": "markdown",
   "metadata": {},
   "source": [
    "<h3>Augementing \"Records\" DF, \"Reactions\" DF and \"Species\" DF</h3>"
   ]
  },
  {
   "cell_type": "code",
   "execution_count": 17,
   "metadata": {},
   "outputs": [
    {
     "name": "stderr",
     "output_type": "stream",
     "text": [
      "c:\\users\\maneet\\appdata\\local\\programs\\python\\python36\\lib\\site-packages\\pandas\\core\\generic.py:1471: PerformanceWarning: \n",
      "your performance may suffer as PyTables will pickle object types that it cannot\n",
      "map directly to c-types [inferred_type->mixed,key->block2_values] [items->['Reaction Link', 'Reactants', 'Products', 'Reactants_List', 'Products_List', 'Reactants_SIDs_List', 'Products_SIDs_List', 'ReactionOrder']]\n",
      "\n",
      "  return pytables.to_hdf(path_or_buf, key, self, **kwargs)\n"
     ]
    },
    {
     "name": "stdout",
     "output_type": "stream",
     "text": [
      "--Records stored into HDF5 file--\n"
     ]
    },
    {
     "name": "stderr",
     "output_type": "stream",
     "text": [
      "c:\\users\\maneet\\appdata\\local\\programs\\python\\python36\\lib\\site-packages\\pandas\\core\\generic.py:1471: PerformanceWarning: \n",
      "your performance may suffer as PyTables will pickle object types that it cannot\n",
      "map directly to c-types [inferred_type->mixed,key->block2_values] [items->['Reaction Link', 'Reactants', 'Products', 'Reactants_List', 'Products_List', 'Reactants_SIDs_List', 'Products_SIDs_List', 'ReactionOrder', 'ActivationEnergy']]\n",
      "\n",
      "  return pytables.to_hdf(path_or_buf, key, self, **kwargs)\n"
     ]
    },
    {
     "name": "stdout",
     "output_type": "stream",
     "text": [
      "--Records stored into HDF5 file--\n"
     ]
    },
    {
     "name": "stderr",
     "output_type": "stream",
     "text": [
      "c:\\users\\maneet\\appdata\\local\\programs\\python\\python36\\lib\\site-packages\\pandas\\core\\generic.py:1471: PerformanceWarning: \n",
      "your performance may suffer as PyTables will pickle object types that it cannot\n",
      "map directly to c-types [inferred_type->mixed,key->block2_values] [items->['Reaction Link', 'Reactants', 'Products', 'Reactants_List', 'Products_List', 'Reactants_SIDs_List', 'Products_SIDs_List', 'ReactionOrder', 'ActivationEnergy', 'ReactantCID', 'ProductCID']]\n",
      "\n",
      "  return pytables.to_hdf(path_or_buf, key, self, **kwargs)\n"
     ]
    },
    {
     "name": "stdout",
     "output_type": "stream",
     "text": [
      "--Records stored into HDF5 file--\n"
     ]
    }
   ],
   "source": [
    "import recordmapper as rm\n",
    "rm.RecordMapper.fill_rxn_order('PreliminaryOutput/DemoGenerated/DataDF.h5', 'Reactions', 'Records')\n",
    "rm.RecordMapper.fill_activ_enrgy('PreliminaryOutput/DemoGenerated/DataDF.h5', 'Reactions', 'Records')\n",
    "rm.RecordMapper.map_rid_to_cid('PreliminaryOutput/DemoGenerated/DataDF.h5', 'Reactions', 'Species')"
   ]
  },
  {
   "cell_type": "markdown",
   "metadata": {},
   "source": [
    "<h3>Augmenting Species Dataframe with PubChem Data</h3>"
   ]
  },
  {
   "cell_type": "code",
   "execution_count": 18,
   "metadata": {},
   "outputs": [
    {
     "name": "stderr",
     "output_type": "stream",
     "text": [
      "DEBUG:urllib3.connectionpool:Starting new HTTPS connection (1): pubchem.ncbi.nlm.nih.gov\n",
      "DEBUG:urllib3.connectionpool:https://pubchem.ncbi.nlm.nih.gov:443 \"GET /rest/pug/compound/cid/137767/record/json HTTP/1.1\" 200 None\n",
      "DEBUG:urllib3.connectionpool:Starting new HTTPS connection (1): pubchem.ncbi.nlm.nih.gov\n"
     ]
    },
    {
     "name": "stdout",
     "output_type": "stream",
     "text": [
      "158 done\n"
     ]
    },
    {
     "name": "stderr",
     "output_type": "stream",
     "text": [
      "DEBUG:urllib3.connectionpool:https://pubchem.ncbi.nlm.nih.gov:443 \"GET /rest/pug/compound/cid/280/record/json HTTP/1.1\" 200 None\n",
      "DEBUG:urllib3.connectionpool:Starting new HTTPS connection (1): pubchem.ncbi.nlm.nih.gov\n"
     ]
    },
    {
     "name": "stdout",
     "output_type": "stream",
     "text": [
      "261 done\n"
     ]
    },
    {
     "name": "stderr",
     "output_type": "stream",
     "text": [
      "DEBUG:urllib3.connectionpool:https://pubchem.ncbi.nlm.nih.gov:443 \"GET /rest/pug/compound/cid/6335/record/json HTTP/1.1\" 200 None\n",
      "DEBUG:urllib3.connectionpool:Starting new HTTPS connection (1): pubchem.ncbi.nlm.nih.gov\n"
     ]
    },
    {
     "name": "stdout",
     "output_type": "stream",
     "text": [
      "284 done\n"
     ]
    },
    {
     "name": "stderr",
     "output_type": "stream",
     "text": [
      "DEBUG:urllib3.connectionpool:https://pubchem.ncbi.nlm.nih.gov:443 \"GET /rest/pug/compound/cid/3034819/record/json HTTP/1.1\" 200 None\n",
      "DEBUG:urllib3.connectionpool:Starting new HTTPS connection (1): pubchem.ncbi.nlm.nih.gov\n"
     ]
    },
    {
     "name": "stdout",
     "output_type": "stream",
     "text": [
      "368 done\n"
     ]
    },
    {
     "name": "stderr",
     "output_type": "stream",
     "text": [
      "DEBUG:urllib3.connectionpool:https://pubchem.ncbi.nlm.nih.gov:443 \"GET /rest/pug/compound/cid/7844/record/json HTTP/1.1\" 200 None\n",
      "DEBUG:urllib3.connectionpool:Starting new HTTPS connection (1): pubchem.ncbi.nlm.nih.gov\n"
     ]
    },
    {
     "name": "stdout",
     "output_type": "stream",
     "text": [
      "411 done\n"
     ]
    },
    {
     "name": "stderr",
     "output_type": "stream",
     "text": [
      "DEBUG:urllib3.connectionpool:https://pubchem.ncbi.nlm.nih.gov:443 \"GET /rest/pug/compound/cid/123136/record/json HTTP/1.1\" 200 None\n",
      "DEBUG:urllib3.connectionpool:Starting new HTTPS connection (1): pubchem.ncbi.nlm.nih.gov\n"
     ]
    },
    {
     "name": "stdout",
     "output_type": "stream",
     "text": [
      "625 done\n"
     ]
    },
    {
     "name": "stderr",
     "output_type": "stream",
     "text": [
      "DEBUG:urllib3.connectionpool:https://pubchem.ncbi.nlm.nih.gov:443 \"GET /rest/pug/compound/cid/180/record/json HTTP/1.1\" 200 None\n",
      "DEBUG:urllib3.connectionpool:Starting new HTTPS connection (1): pubchem.ncbi.nlm.nih.gov\n"
     ]
    },
    {
     "name": "stdout",
     "output_type": "stream",
     "text": [
      "786 done\n"
     ]
    },
    {
     "name": "stderr",
     "output_type": "stream",
     "text": [
      "DEBUG:urllib3.connectionpool:https://pubchem.ncbi.nlm.nih.gov:443 \"GET /rest/pug/compound/cid/123146/record/json HTTP/1.1\" 200 None\n",
      "DEBUG:urllib3.connectionpool:Starting new HTTPS connection (1): pubchem.ncbi.nlm.nih.gov\n"
     ]
    },
    {
     "name": "stdout",
     "output_type": "stream",
     "text": [
      "1225 done\n"
     ]
    },
    {
     "name": "stderr",
     "output_type": "stream",
     "text": [
      "DEBUG:urllib3.connectionpool:https://pubchem.ncbi.nlm.nih.gov:443 \"GET /rest/pug/compound/cid/6327/record/json HTTP/1.1\" 200 None\n",
      "DEBUG:urllib3.connectionpool:Starting new HTTPS connection (1): pubchem.ncbi.nlm.nih.gov\n"
     ]
    },
    {
     "name": "stdout",
     "output_type": "stream",
     "text": [
      "1595 done\n"
     ]
    },
    {
     "name": "stderr",
     "output_type": "stream",
     "text": [
      "DEBUG:urllib3.connectionpool:https://pubchem.ncbi.nlm.nih.gov:443 \"GET /rest/pug/compound/cid/5362487/record/json HTTP/1.1\" 200 None\n",
      "DEBUG:urllib3.connectionpool:Starting new HTTPS connection (1): pubchem.ncbi.nlm.nih.gov\n"
     ]
    },
    {
     "name": "stdout",
     "output_type": "stream",
     "text": [
      "1687 done\n"
     ]
    },
    {
     "name": "stderr",
     "output_type": "stream",
     "text": [
      "DEBUG:urllib3.connectionpool:https://pubchem.ncbi.nlm.nih.gov:443 \"GET /rest/pug/compound/cid/5460627/record/json HTTP/1.1\" 200 None\n",
      "DEBUG:urllib3.connectionpool:Starting new HTTPS connection (1): pubchem.ncbi.nlm.nih.gov\n"
     ]
    },
    {
     "name": "stdout",
     "output_type": "stream",
     "text": [
      "1760 done\n"
     ]
    },
    {
     "name": "stderr",
     "output_type": "stream",
     "text": [
      "DEBUG:urllib3.connectionpool:https://pubchem.ncbi.nlm.nih.gov:443 \"GET /rest/pug/compound/cid/5360545/record/json HTTP/1.1\" 200 None\n",
      "DEBUG:urllib3.connectionpool:Starting new HTTPS connection (1): pubchem.ncbi.nlm.nih.gov\n"
     ]
    },
    {
     "name": "stdout",
     "output_type": "stream",
     "text": [
      "1777 done\n"
     ]
    },
    {
     "name": "stderr",
     "output_type": "stream",
     "text": [
      "DEBUG:urllib3.connectionpool:https://pubchem.ncbi.nlm.nih.gov:443 \"GET /rest/pug/compound/cid/21844680/record/json HTTP/1.1\" 200 None\n",
      "DEBUG:urllib3.connectionpool:Starting new HTTPS connection (1): pubchem.ncbi.nlm.nih.gov\n"
     ]
    },
    {
     "name": "stdout",
     "output_type": "stream",
     "text": [
      "1869 done\n"
     ]
    },
    {
     "name": "stderr",
     "output_type": "stream",
     "text": [
      "DEBUG:urllib3.connectionpool:https://pubchem.ncbi.nlm.nih.gov:443 \"GET /rest/pug/compound/cid/6325/record/json HTTP/1.1\" 200 None\n",
      "DEBUG:urllib3.connectionpool:Starting new HTTPS connection (1): pubchem.ncbi.nlm.nih.gov\n"
     ]
    },
    {
     "name": "stdout",
     "output_type": "stream",
     "text": [
      "1887 done\n"
     ]
    },
    {
     "name": "stderr",
     "output_type": "stream",
     "text": [
      "DEBUG:urllib3.connectionpool:https://pubchem.ncbi.nlm.nih.gov:443 \"GET /rest/pug/compound/cid/1119/record/json HTTP/1.1\" 200 None\n",
      "DEBUG:urllib3.connectionpool:Starting new HTTPS connection (1): pubchem.ncbi.nlm.nih.gov\n"
     ]
    },
    {
     "name": "stdout",
     "output_type": "stream",
     "text": [
      "2016 done\n"
     ]
    },
    {
     "name": "stderr",
     "output_type": "stream",
     "text": [
      "DEBUG:urllib3.connectionpool:https://pubchem.ncbi.nlm.nih.gov:443 \"GET /rest/pug/compound/cid/5360525/record/json HTTP/1.1\" 200 None\n",
      "DEBUG:urllib3.connectionpool:Starting new HTTPS connection (1): pubchem.ncbi.nlm.nih.gov\n"
     ]
    },
    {
     "name": "stdout",
     "output_type": "stream",
     "text": [
      "2221 done\n"
     ]
    },
    {
     "name": "stderr",
     "output_type": "stream",
     "text": [
      "DEBUG:urllib3.connectionpool:https://pubchem.ncbi.nlm.nih.gov:443 \"GET /rest/pug/compound/cid/123138/record/json HTTP/1.1\" 200 None\n",
      "DEBUG:urllib3.connectionpool:Starting new HTTPS connection (1): pubchem.ncbi.nlm.nih.gov\n"
     ]
    },
    {
     "name": "stdout",
     "output_type": "stream",
     "text": [
      "2324 done\n"
     ]
    },
    {
     "name": "stderr",
     "output_type": "stream",
     "text": [
      "DEBUG:urllib3.connectionpool:https://pubchem.ncbi.nlm.nih.gov:443 \"GET /rest/pug/compound/cid/145068/record/json HTTP/1.1\" 200 None\n",
      "DEBUG:urllib3.connectionpool:Starting new HTTPS connection (1): pubchem.ncbi.nlm.nih.gov\n"
     ]
    },
    {
     "name": "stdout",
     "output_type": "stream",
     "text": [
      "2457 done\n"
     ]
    },
    {
     "name": "stderr",
     "output_type": "stream",
     "text": [
      "DEBUG:urllib3.connectionpool:https://pubchem.ncbi.nlm.nih.gov:443 \"GET /rest/pug/compound/cid/138039/record/json HTTP/1.1\" 200 None\n",
      "DEBUG:urllib3.connectionpool:Starting new HTTPS connection (1): pubchem.ncbi.nlm.nih.gov\n"
     ]
    },
    {
     "name": "stdout",
     "output_type": "stream",
     "text": [
      "2476 done\n"
     ]
    },
    {
     "name": "stderr",
     "output_type": "stream",
     "text": [
      "DEBUG:urllib3.connectionpool:https://pubchem.ncbi.nlm.nih.gov:443 \"GET /rest/pug/compound/cid/768/record/json HTTP/1.1\" 200 None\n",
      "DEBUG:urllib3.connectionpool:Starting new HTTPS connection (1): pubchem.ncbi.nlm.nih.gov\n"
     ]
    },
    {
     "name": "stdout",
     "output_type": "stream",
     "text": [
      "2541 done\n"
     ]
    },
    {
     "name": "stderr",
     "output_type": "stream",
     "text": [
      "DEBUG:urllib3.connectionpool:https://pubchem.ncbi.nlm.nih.gov:443 \"GET /rest/pug/compound/cid/1140/record/json HTTP/1.1\" 200 None\n",
      "DEBUG:urllib3.connectionpool:Starting new HTTPS connection (1): pubchem.ncbi.nlm.nih.gov\n"
     ]
    },
    {
     "name": "stdout",
     "output_type": "stream",
     "text": [
      "2754 done\n"
     ]
    },
    {
     "name": "stderr",
     "output_type": "stream",
     "text": [
      "DEBUG:urllib3.connectionpool:https://pubchem.ncbi.nlm.nih.gov:443 \"GET /rest/pug/compound/cid/5460607/record/json HTTP/1.1\" 200 None\n",
      "DEBUG:urllib3.connectionpool:Starting new HTTPS connection (1): pubchem.ncbi.nlm.nih.gov\n"
     ]
    },
    {
     "name": "stdout",
     "output_type": "stream",
     "text": [
      "2856 done\n"
     ]
    },
    {
     "name": "stderr",
     "output_type": "stream",
     "text": [
      "DEBUG:urllib3.connectionpool:https://pubchem.ncbi.nlm.nih.gov:443 \"GET /rest/pug/compound/cid/520535/record/json HTTP/1.1\" 200 None\n",
      "DEBUG:urllib3.connectionpool:Starting new HTTPS connection (1): pubchem.ncbi.nlm.nih.gov\n"
     ]
    },
    {
     "name": "stdout",
     "output_type": "stream",
     "text": [
      "2910 done\n"
     ]
    },
    {
     "name": "stderr",
     "output_type": "stream",
     "text": [
      "DEBUG:urllib3.connectionpool:https://pubchem.ncbi.nlm.nih.gov:443 \"GET /rest/pug/compound/cid/122980/record/json HTTP/1.1\" 200 None\n",
      "DEBUG:urllib3.connectionpool:Starting new HTTPS connection (1): pubchem.ncbi.nlm.nih.gov\n"
     ]
    },
    {
     "name": "stdout",
     "output_type": "stream",
     "text": [
      "3045 done\n"
     ]
    },
    {
     "name": "stderr",
     "output_type": "stream",
     "text": [
      "DEBUG:urllib3.connectionpool:https://pubchem.ncbi.nlm.nih.gov:443 \"GET /rest/pug/compound/cid/24529/record/json HTTP/1.1\" 200 None\n",
      "DEBUG:urllib3.connectionpool:Starting new HTTPS connection (1): pubchem.ncbi.nlm.nih.gov\n"
     ]
    },
    {
     "name": "stdout",
     "output_type": "stream",
     "text": [
      "3138 done\n"
     ]
    },
    {
     "name": "stderr",
     "output_type": "stream",
     "text": [
      "DEBUG:urllib3.connectionpool:https://pubchem.ncbi.nlm.nih.gov:443 \"GET /rest/pug/compound/cid/6373/record/json HTTP/1.1\" 200 None\n",
      "DEBUG:urllib3.connectionpool:Starting new HTTPS connection (1): pubchem.ncbi.nlm.nih.gov\n"
     ]
    },
    {
     "name": "stdout",
     "output_type": "stream",
     "text": [
      "3140 done\n"
     ]
    },
    {
     "name": "stderr",
     "output_type": "stream",
     "text": [
      "DEBUG:urllib3.connectionpool:https://pubchem.ncbi.nlm.nih.gov:443 \"GET /rest/pug/compound/cid/123159/record/json HTTP/1.1\" 200 None\n",
      "DEBUG:urllib3.connectionpool:Starting new HTTPS connection (1): pubchem.ncbi.nlm.nih.gov\n"
     ]
    },
    {
     "name": "stdout",
     "output_type": "stream",
     "text": [
      "3230 done\n"
     ]
    },
    {
     "name": "stderr",
     "output_type": "stream",
     "text": [
      "DEBUG:urllib3.connectionpool:https://pubchem.ncbi.nlm.nih.gov:443 \"GET /rest/pug/compound/cid/241/record/json HTTP/1.1\" 200 None\n",
      "DEBUG:urllib3.connectionpool:Starting new HTTPS connection (1): pubchem.ncbi.nlm.nih.gov\n"
     ]
    },
    {
     "name": "stdout",
     "output_type": "stream",
     "text": [
      "3305 done\n"
     ]
    },
    {
     "name": "stderr",
     "output_type": "stream",
     "text": [
      "DEBUG:urllib3.connectionpool:https://pubchem.ncbi.nlm.nih.gov:443 \"GET /rest/pug/compound/cid/123271/record/json HTTP/1.1\" 200 None\n",
      "DEBUG:urllib3.connectionpool:Starting new HTTPS connection (1): pubchem.ncbi.nlm.nih.gov\n"
     ]
    },
    {
     "name": "stdout",
     "output_type": "stream",
     "text": [
      "3556 done\n"
     ]
    },
    {
     "name": "stderr",
     "output_type": "stream",
     "text": [
      "DEBUG:urllib3.connectionpool:https://pubchem.ncbi.nlm.nih.gov:443 \"GET /rest/pug/compound/cid/297/record/json HTTP/1.1\" 200 None\n",
      "DEBUG:urllib3.connectionpool:Starting new HTTPS connection (1): pubchem.ncbi.nlm.nih.gov\n"
     ]
    },
    {
     "name": "stdout",
     "output_type": "stream",
     "text": [
      "3619 done\n"
     ]
    },
    {
     "name": "stderr",
     "output_type": "stream",
     "text": [
      "DEBUG:urllib3.connectionpool:https://pubchem.ncbi.nlm.nih.gov:443 \"GET /rest/pug/compound/cid/176/record/json HTTP/1.1\" 200 None\n",
      "DEBUG:urllib3.connectionpool:Starting new HTTPS connection (1): pubchem.ncbi.nlm.nih.gov\n"
     ]
    },
    {
     "name": "stdout",
     "output_type": "stream",
     "text": [
      "3880 done\n"
     ]
    },
    {
     "name": "stderr",
     "output_type": "stream",
     "text": [
      "DEBUG:urllib3.connectionpool:https://pubchem.ncbi.nlm.nih.gov:443 \"GET /rest/pug/compound/cid/947/record/json HTTP/1.1\" 200 None\n",
      "DEBUG:urllib3.connectionpool:Starting new HTTPS connection (1): pubchem.ncbi.nlm.nih.gov\n"
     ]
    },
    {
     "name": "stdout",
     "output_type": "stream",
     "text": [
      "4034 done\n"
     ]
    },
    {
     "name": "stderr",
     "output_type": "stream",
     "text": [
      "DEBUG:urllib3.connectionpool:https://pubchem.ncbi.nlm.nih.gov:443 \"GET /rest/pug/compound/cid/5460635/record/json HTTP/1.1\" 200 None\n",
      "DEBUG:urllib3.connectionpool:Starting new HTTPS connection (1): pubchem.ncbi.nlm.nih.gov\n"
     ]
    },
    {
     "name": "stdout",
     "output_type": "stream",
     "text": [
      "4162 done\n"
     ]
    },
    {
     "name": "stderr",
     "output_type": "stream",
     "text": [
      "DEBUG:urllib3.connectionpool:https://pubchem.ncbi.nlm.nih.gov:443 \"GET /rest/pug/compound/cid/6334/record/json HTTP/1.1\" 200 None\n",
      "DEBUG:urllib3.connectionpool:Starting new HTTPS connection (1): pubchem.ncbi.nlm.nih.gov\n"
     ]
    },
    {
     "name": "stdout",
     "output_type": "stream",
     "text": [
      "4417 done\n"
     ]
    },
    {
     "name": "stderr",
     "output_type": "stream",
     "text": [
      "DEBUG:urllib3.connectionpool:https://pubchem.ncbi.nlm.nih.gov:443 \"GET /rest/pug/compound/cid/123370/record/json HTTP/1.1\" 200 None\n",
      "DEBUG:urllib3.connectionpool:Starting new HTTPS connection (1): pubchem.ncbi.nlm.nih.gov\n"
     ]
    },
    {
     "name": "stdout",
     "output_type": "stream",
     "text": [
      "4556 done\n"
     ]
    },
    {
     "name": "stderr",
     "output_type": "stream",
     "text": [
      "DEBUG:urllib3.connectionpool:https://pubchem.ncbi.nlm.nih.gov:443 \"GET /rest/pug/compound/cid/24823/record/json HTTP/1.1\" 200 None\n",
      "DEBUG:urllib3.connectionpool:Starting new HTTPS connection (1): pubchem.ncbi.nlm.nih.gov\n"
     ]
    },
    {
     "name": "stdout",
     "output_type": "stream",
     "text": [
      "4781 done\n"
     ]
    },
    {
     "name": "stderr",
     "output_type": "stream",
     "text": [
      "DEBUG:urllib3.connectionpool:https://pubchem.ncbi.nlm.nih.gov:443 \"GET /rest/pug/compound/cid/5360523/record/json HTTP/1.1\" 200 None\n",
      "DEBUG:urllib3.connectionpool:Starting new HTTPS connection (1): pubchem.ncbi.nlm.nih.gov\n"
     ]
    },
    {
     "name": "stdout",
     "output_type": "stream",
     "text": [
      "4817 done\n"
     ]
    },
    {
     "name": "stderr",
     "output_type": "stream",
     "text": [
      "DEBUG:urllib3.connectionpool:https://pubchem.ncbi.nlm.nih.gov:443 \"GET /rest/pug/compound/cid/123166/record/json HTTP/1.1\" 200 None\n",
      "DEBUG:urllib3.connectionpool:Starting new HTTPS connection (1): pubchem.ncbi.nlm.nih.gov\n"
     ]
    },
    {
     "name": "stdout",
     "output_type": "stream",
     "text": [
      "4858 done\n"
     ]
    },
    {
     "name": "stderr",
     "output_type": "stream",
     "text": [
      "DEBUG:urllib3.connectionpool:https://pubchem.ncbi.nlm.nih.gov:443 \"GET /rest/pug/compound/cid/157350/record/json HTTP/1.1\" 200 None\n",
      "DEBUG:urllib3.connectionpool:Starting new HTTPS connection (1): pubchem.ncbi.nlm.nih.gov\n"
     ]
    },
    {
     "name": "stdout",
     "output_type": "stream",
     "text": [
      "5058 done\n"
     ]
    },
    {
     "name": "stderr",
     "output_type": "stream",
     "text": [
      "DEBUG:urllib3.connectionpool:https://pubchem.ncbi.nlm.nih.gov:443 \"GET /rest/pug/compound/cid/6360/record/json HTTP/1.1\" 200 None\n",
      "DEBUG:urllib3.connectionpool:Starting new HTTPS connection (1): pubchem.ncbi.nlm.nih.gov\n"
     ]
    },
    {
     "name": "stdout",
     "output_type": "stream",
     "text": [
      "5080 done\n"
     ]
    },
    {
     "name": "stderr",
     "output_type": "stream",
     "text": [
      "DEBUG:urllib3.connectionpool:https://pubchem.ncbi.nlm.nih.gov:443 \"GET /rest/pug/compound/cid/5360770/record/json HTTP/1.1\" 200 None\n",
      "DEBUG:urllib3.connectionpool:Starting new HTTPS connection (1): pubchem.ncbi.nlm.nih.gov\n"
     ]
    },
    {
     "name": "stdout",
     "output_type": "stream",
     "text": [
      "5166 done\n"
     ]
    },
    {
     "name": "stderr",
     "output_type": "stream",
     "text": [
      "DEBUG:urllib3.connectionpool:https://pubchem.ncbi.nlm.nih.gov:443 \"GET /rest/pug/compound/cid/140912/record/json HTTP/1.1\" 200 None\n",
      "DEBUG:urllib3.connectionpool:Starting new HTTPS connection (1): pubchem.ncbi.nlm.nih.gov\n"
     ]
    },
    {
     "name": "stdout",
     "output_type": "stream",
     "text": [
      "5314 done\n"
     ]
    },
    {
     "name": "stderr",
     "output_type": "stream",
     "text": [
      "DEBUG:urllib3.connectionpool:https://pubchem.ncbi.nlm.nih.gov:443 \"GET /rest/pug/compound/cid/945/record/json HTTP/1.1\" 200 None\n",
      "DEBUG:urllib3.connectionpool:Starting new HTTPS connection (1): pubchem.ncbi.nlm.nih.gov\n"
     ]
    },
    {
     "name": "stdout",
     "output_type": "stream",
     "text": [
      "5335 done\n"
     ]
    },
    {
     "name": "stderr",
     "output_type": "stream",
     "text": [
      "DEBUG:urllib3.connectionpool:https://pubchem.ncbi.nlm.nih.gov:443 \"GET /rest/pug/compound/cid/962/record/json HTTP/1.1\" 200 None\n",
      "DEBUG:urllib3.connectionpool:Starting new HTTPS connection (1): pubchem.ncbi.nlm.nih.gov\n"
     ]
    },
    {
     "name": "stdout",
     "output_type": "stream",
     "text": [
      "5353 done\n"
     ]
    },
    {
     "name": "stderr",
     "output_type": "stream",
     "text": [
      "DEBUG:urllib3.connectionpool:https://pubchem.ncbi.nlm.nih.gov:443 \"GET /rest/pug/compound/cid/6324/record/json HTTP/1.1\" 200 None\n",
      "DEBUG:urllib3.connectionpool:Starting new HTTPS connection (1): pubchem.ncbi.nlm.nih.gov\n"
     ]
    },
    {
     "name": "stdout",
     "output_type": "stream",
     "text": [
      "5356 done\n"
     ]
    },
    {
     "name": "stderr",
     "output_type": "stream",
     "text": [
      "DEBUG:urllib3.connectionpool:https://pubchem.ncbi.nlm.nih.gov:443 \"GET /rest/pug/compound/cid/222/record/json HTTP/1.1\" 200 None\n",
      "DEBUG:urllib3.connectionpool:Starting new HTTPS connection (1): pubchem.ncbi.nlm.nih.gov\n"
     ]
    },
    {
     "name": "stdout",
     "output_type": "stream",
     "text": [
      "5477 done\n"
     ]
    },
    {
     "name": "stderr",
     "output_type": "stream",
     "text": [
      "DEBUG:urllib3.connectionpool:https://pubchem.ncbi.nlm.nih.gov:443 \"GET /rest/pug/compound/cid/177/record/json HTTP/1.1\" 200 None\n",
      "DEBUG:urllib3.connectionpool:Starting new HTTPS connection (1): pubchem.ncbi.nlm.nih.gov\n"
     ]
    },
    {
     "name": "stdout",
     "output_type": "stream",
     "text": [
      "5687 done\n"
     ]
    },
    {
     "name": "stderr",
     "output_type": "stream",
     "text": [
      "DEBUG:urllib3.connectionpool:https://pubchem.ncbi.nlm.nih.gov:443 \"GET /rest/pug/compound/cid/281/record/json HTTP/1.1\" 200 None\n",
      "DEBUG:urllib3.connectionpool:Starting new HTTPS connection (1): pubchem.ncbi.nlm.nih.gov\n"
     ]
    },
    {
     "name": "stdout",
     "output_type": "stream",
     "text": [
      "5699 done\n"
     ]
    },
    {
     "name": "stderr",
     "output_type": "stream",
     "text": [
      "DEBUG:urllib3.connectionpool:https://pubchem.ncbi.nlm.nih.gov:443 \"GET /rest/pug/compound/cid/5462310/record/json HTTP/1.1\" 200 None\n",
      "DEBUG:urllib3.connectionpool:Starting new HTTPS connection (1): pubchem.ncbi.nlm.nih.gov\n"
     ]
    },
    {
     "name": "stdout",
     "output_type": "stream",
     "text": [
      "5734 done\n"
     ]
    },
    {
     "name": "stderr",
     "output_type": "stream",
     "text": [
      "DEBUG:urllib3.connectionpool:https://pubchem.ncbi.nlm.nih.gov:443 \"GET /rest/pug/compound/cid/5460613/record/json HTTP/1.1\" 200 None\n",
      "DEBUG:urllib3.connectionpool:Starting new HTTPS connection (1): pubchem.ncbi.nlm.nih.gov\n"
     ]
    },
    {
     "name": "stdout",
     "output_type": "stream",
     "text": [
      "5805 done\n"
     ]
    },
    {
     "name": "stderr",
     "output_type": "stream",
     "text": [
      "DEBUG:urllib3.connectionpool:https://pubchem.ncbi.nlm.nih.gov:443 \"GET /rest/pug/compound/cid/123147/record/json HTTP/1.1\" 200 None\n",
      "DEBUG:urllib3.connectionpool:Starting new HTTPS connection (1): pubchem.ncbi.nlm.nih.gov\n"
     ]
    },
    {
     "name": "stdout",
     "output_type": "stream",
     "text": [
      "5867 done\n"
     ]
    },
    {
     "name": "stderr",
     "output_type": "stream",
     "text": [
      "DEBUG:urllib3.connectionpool:https://pubchem.ncbi.nlm.nih.gov:443 \"GET /rest/pug/compound/cid/260/record/json HTTP/1.1\" 200 None\n",
      "DEBUG:urllib3.connectionpool:Starting new HTTPS connection (1): pubchem.ncbi.nlm.nih.gov\n"
     ]
    },
    {
     "name": "stdout",
     "output_type": "stream",
     "text": [
      "6017 done\n"
     ]
    },
    {
     "name": "stderr",
     "output_type": "stream",
     "text": [
      "DEBUG:urllib3.connectionpool:https://pubchem.ncbi.nlm.nih.gov:443 \"GET /rest/pug/compound/cid/166686/record/json HTTP/1.1\" 200 None\n",
      "DEBUG:urllib3.connectionpool:Starting new HTTPS connection (1): pubchem.ncbi.nlm.nih.gov\n"
     ]
    },
    {
     "name": "stdout",
     "output_type": "stream",
     "text": [
      "6160 done\n"
     ]
    },
    {
     "name": "stderr",
     "output_type": "stream",
     "text": [
      "DEBUG:urllib3.connectionpool:https://pubchem.ncbi.nlm.nih.gov:443 \"GET /rest/pug/compound/cid/6914119/record/json HTTP/1.1\" 200 None\n",
      "DEBUG:urllib3.connectionpool:Starting new HTTPS connection (1): pubchem.ncbi.nlm.nih.gov\n"
     ]
    },
    {
     "name": "stdout",
     "output_type": "stream",
     "text": [
      "6562 done\n"
     ]
    },
    {
     "name": "stderr",
     "output_type": "stream",
     "text": [
      "DEBUG:urllib3.connectionpool:https://pubchem.ncbi.nlm.nih.gov:443 \"GET /rest/pug/compound/cid/167583/record/json HTTP/1.1\" 200 None\n",
      "DEBUG:urllib3.connectionpool:Starting new HTTPS connection (1): pubchem.ncbi.nlm.nih.gov\n"
     ]
    },
    {
     "name": "stdout",
     "output_type": "stream",
     "text": [
      "6628 done\n"
     ]
    },
    {
     "name": "stderr",
     "output_type": "stream",
     "text": [
      "DEBUG:urllib3.connectionpool:https://pubchem.ncbi.nlm.nih.gov:443 \"GET /rest/pug/compound/cid/137654/record/json HTTP/1.1\" 200 None\n",
      "DEBUG:urllib3.connectionpool:Starting new HTTPS connection (1): pubchem.ncbi.nlm.nih.gov\n"
     ]
    },
    {
     "name": "stdout",
     "output_type": "stream",
     "text": [
      "6790 done\n"
     ]
    },
    {
     "name": "stderr",
     "output_type": "stream",
     "text": [
      "DEBUG:urllib3.connectionpool:https://pubchem.ncbi.nlm.nih.gov:443 \"GET /rest/pug/compound/cid/7845/record/json HTTP/1.1\" 200 None\n",
      "DEBUG:urllib3.connectionpool:Starting new HTTPS connection (1): pubchem.ncbi.nlm.nih.gov\n"
     ]
    },
    {
     "name": "stdout",
     "output_type": "stream",
     "text": [
      "6812 done\n"
     ]
    },
    {
     "name": "stderr",
     "output_type": "stream",
     "text": [
      "DEBUG:urllib3.connectionpool:https://pubchem.ncbi.nlm.nih.gov:443 \"GET /rest/pug/compound/cid/137103/record/json HTTP/1.1\" 200 None\n",
      "DEBUG:urllib3.connectionpool:Starting new HTTPS connection (1): pubchem.ncbi.nlm.nih.gov\n"
     ]
    },
    {
     "name": "stdout",
     "output_type": "stream",
     "text": [
      "6832 done\n"
     ]
    },
    {
     "name": "stderr",
     "output_type": "stream",
     "text": [
      "DEBUG:urllib3.connectionpool:https://pubchem.ncbi.nlm.nih.gov:443 \"GET /rest/pug/compound/cid/11605/record/json HTTP/1.1\" 200 None\n",
      "DEBUG:urllib3.connectionpool:Starting new HTTPS connection (1): pubchem.ncbi.nlm.nih.gov\n"
     ]
    },
    {
     "name": "stdout",
     "output_type": "stream",
     "text": [
      "6907 done\n"
     ]
    },
    {
     "name": "stderr",
     "output_type": "stream",
     "text": [
      "DEBUG:urllib3.connectionpool:https://pubchem.ncbi.nlm.nih.gov:443 \"GET /rest/pug/compound/cid/137284/record/json HTTP/1.1\" 200 None\n",
      "DEBUG:urllib3.connectionpool:Starting new HTTPS connection (1): pubchem.ncbi.nlm.nih.gov\n"
     ]
    },
    {
     "name": "stdout",
     "output_type": "stream",
     "text": [
      "7075 done\n"
     ]
    },
    {
     "name": "stderr",
     "output_type": "stream",
     "text": [
      "DEBUG:urllib3.connectionpool:https://pubchem.ncbi.nlm.nih.gov:443 \"GET /rest/pug/compound/cid/6326/record/json HTTP/1.1\" 200 None\n",
      "DEBUG:urllib3.connectionpool:Starting new HTTPS connection (1): pubchem.ncbi.nlm.nih.gov\n"
     ]
    },
    {
     "name": "stdout",
     "output_type": "stream",
     "text": [
      "7095 done\n"
     ]
    },
    {
     "name": "stderr",
     "output_type": "stream",
     "text": [
      "DEBUG:urllib3.connectionpool:https://pubchem.ncbi.nlm.nih.gov:443 \"GET /rest/pug/compound/cid/24526/record/json HTTP/1.1\" 200 None\n",
      "DEBUG:urllib3.connectionpool:Starting new HTTPS connection (1): pubchem.ncbi.nlm.nih.gov\n"
     ]
    },
    {
     "name": "stdout",
     "output_type": "stream",
     "text": [
      "7596 done\n"
     ]
    },
    {
     "name": "stderr",
     "output_type": "stream",
     "text": [
      "DEBUG:urllib3.connectionpool:https://pubchem.ncbi.nlm.nih.gov:443 \"GET /rest/pug/compound/cid/8252/record/json HTTP/1.1\" 200 None\n",
      "DEBUG:urllib3.connectionpool:Starting new HTTPS connection (1): pubchem.ncbi.nlm.nih.gov\n"
     ]
    },
    {
     "name": "stdout",
     "output_type": "stream",
     "text": [
      "7763 done\n"
     ]
    },
    {
     "name": "stderr",
     "output_type": "stream",
     "text": [
      "DEBUG:urllib3.connectionpool:https://pubchem.ncbi.nlm.nih.gov:443 \"GET /rest/pug/compound/cid/24408/record/json HTTP/1.1\" 200 None\n",
      "DEBUG:urllib3.connectionpool:Starting new HTTPS connection (1): pubchem.ncbi.nlm.nih.gov\n"
     ]
    },
    {
     "name": "stdout",
     "output_type": "stream",
     "text": [
      "7846 done\n"
     ]
    },
    {
     "name": "stderr",
     "output_type": "stream",
     "text": [
      "DEBUG:urllib3.connectionpool:https://pubchem.ncbi.nlm.nih.gov:443 \"GET /rest/pug/compound/cid/944/record/json HTTP/1.1\" 200 None\n",
      "DEBUG:urllib3.connectionpool:Starting new HTTPS connection (1): pubchem.ncbi.nlm.nih.gov\n"
     ]
    },
    {
     "name": "stdout",
     "output_type": "stream",
     "text": [
      "7904 done\n"
     ]
    },
    {
     "name": "stderr",
     "output_type": "stream",
     "text": [
      "DEBUG:urllib3.connectionpool:https://pubchem.ncbi.nlm.nih.gov:443 \"GET /rest/pug/compound/cid/948/record/json HTTP/1.1\" 200 None\n",
      "DEBUG:urllib3.connectionpool:Starting new HTTPS connection (1): pubchem.ncbi.nlm.nih.gov\n"
     ]
    },
    {
     "name": "stdout",
     "output_type": "stream",
     "text": [
      "7967 done\n"
     ]
    },
    {
     "name": "stderr",
     "output_type": "stream",
     "text": [
      "DEBUG:urllib3.connectionpool:https://pubchem.ncbi.nlm.nih.gov:443 \"GET /rest/pug/compound/cid/5975/record/json HTTP/1.1\" 200 None\n",
      "DEBUG:urllib3.connectionpool:Starting new HTTPS connection (1): pubchem.ncbi.nlm.nih.gov\n"
     ]
    },
    {
     "name": "stdout",
     "output_type": "stream",
     "text": [
      "8044 done\n"
     ]
    },
    {
     "name": "stderr",
     "output_type": "stream",
     "text": [
      "DEBUG:urllib3.connectionpool:https://pubchem.ncbi.nlm.nih.gov:443 \"GET /rest/pug/compound/cid/977/record/json HTTP/1.1\" 200 None\n",
      "DEBUG:urllib3.connectionpool:Starting new HTTPS connection (1): pubchem.ncbi.nlm.nih.gov\n"
     ]
    },
    {
     "name": "stdout",
     "output_type": "stream",
     "text": [
      "8185 done\n"
     ]
    },
    {
     "name": "stderr",
     "output_type": "stream",
     "text": [
      "DEBUG:urllib3.connectionpool:https://pubchem.ncbi.nlm.nih.gov:443 \"GET /rest/pug/compound/cid/123145/record/json HTTP/1.1\" 200 None\n",
      "DEBUG:urllib3.connectionpool:Starting new HTTPS connection (1): pubchem.ncbi.nlm.nih.gov\n"
     ]
    },
    {
     "name": "stdout",
     "output_type": "stream",
     "text": [
      "8203 done\n"
     ]
    },
    {
     "name": "stderr",
     "output_type": "stream",
     "text": [
      "DEBUG:urllib3.connectionpool:https://pubchem.ncbi.nlm.nih.gov:443 \"GET /rest/pug/compound/cid/5360629/record/json HTTP/1.1\" 200 None\n",
      "DEBUG:urllib3.connectionpool:Starting new HTTPS connection (1): pubchem.ncbi.nlm.nih.gov\n"
     ]
    },
    {
     "name": "stdout",
     "output_type": "stream",
     "text": [
      "8298 done\n"
     ]
    },
    {
     "name": "stderr",
     "output_type": "stream",
     "text": [
      "DEBUG:urllib3.connectionpool:https://pubchem.ncbi.nlm.nih.gov:443 \"GET /rest/pug/compound/cid/10037/record/json HTTP/1.1\" 200 None\n",
      "DEBUG:urllib3.connectionpool:Starting new HTTPS connection (1): pubchem.ncbi.nlm.nih.gov\n"
     ]
    },
    {
     "name": "stdout",
     "output_type": "stream",
     "text": [
      "8498 done\n"
     ]
    },
    {
     "name": "stderr",
     "output_type": "stream",
     "text": [
      "DEBUG:urllib3.connectionpool:https://pubchem.ncbi.nlm.nih.gov:443 \"GET /rest/pug/compound/cid/313/record/json HTTP/1.1\" 200 None\n",
      "DEBUG:urllib3.connectionpool:Starting new HTTPS connection (1): pubchem.ncbi.nlm.nih.gov\n"
     ]
    },
    {
     "name": "stdout",
     "output_type": "stream",
     "text": [
      "8683 done\n"
     ]
    },
    {
     "name": "stderr",
     "output_type": "stream",
     "text": [
      "DEBUG:urllib3.connectionpool:https://pubchem.ncbi.nlm.nih.gov:443 \"GET /rest/pug/compound/cid/137438/record/json HTTP/1.1\" 200 None\n",
      "DEBUG:urllib3.connectionpool:Starting new HTTPS connection (1): pubchem.ncbi.nlm.nih.gov\n"
     ]
    },
    {
     "name": "stdout",
     "output_type": "stream",
     "text": [
      "8768 done\n"
     ]
    },
    {
     "name": "stderr",
     "output_type": "stream",
     "text": [
      "DEBUG:urllib3.connectionpool:https://pubchem.ncbi.nlm.nih.gov:443 \"GET /rest/pug/compound/cid/8255/record/json HTTP/1.1\" 200 None\n",
      "DEBUG:urllib3.connectionpool:Starting new HTTPS connection (1): pubchem.ncbi.nlm.nih.gov\n"
     ]
    },
    {
     "name": "stdout",
     "output_type": "stream",
     "text": [
      "8867 done\n"
     ]
    },
    {
     "name": "stderr",
     "output_type": "stream",
     "text": [
      "DEBUG:urllib3.connectionpool:https://pubchem.ncbi.nlm.nih.gov:443 \"GET /rest/pug/compound/cid/3032552/record/json HTTP/1.1\" 200 None\n",
      "DEBUG:urllib3.connectionpool:Starting new HTTPS connection (1): pubchem.ncbi.nlm.nih.gov\n"
     ]
    },
    {
     "name": "stdout",
     "output_type": "stream",
     "text": [
      "8973 done\n"
     ]
    },
    {
     "name": "stderr",
     "output_type": "stream",
     "text": [
      "DEBUG:urllib3.connectionpool:https://pubchem.ncbi.nlm.nih.gov:443 \"GET /rest/pug/compound/cid/702/record/json HTTP/1.1\" 200 None\n",
      "DEBUG:urllib3.connectionpool:Starting new HTTPS connection (1): pubchem.ncbi.nlm.nih.gov\n"
     ]
    },
    {
     "name": "stdout",
     "output_type": "stream",
     "text": [
      "9027 done\n"
     ]
    },
    {
     "name": "stderr",
     "output_type": "stream",
     "text": [
      "DEBUG:urllib3.connectionpool:https://pubchem.ncbi.nlm.nih.gov:443 \"GET /rest/pug/compound/cid/7843/record/json HTTP/1.1\" 200 None\n",
      "DEBUG:urllib3.connectionpool:Starting new HTTPS connection (1): pubchem.ncbi.nlm.nih.gov\n"
     ]
    },
    {
     "name": "stdout",
     "output_type": "stream",
     "text": [
      "9056 done\n"
     ]
    },
    {
     "name": "stderr",
     "output_type": "stream",
     "text": [
      "DEBUG:urllib3.connectionpool:https://pubchem.ncbi.nlm.nih.gov:443 \"GET /rest/pug/compound/cid/784/record/json HTTP/1.1\" 200 None\n",
      "DEBUG:urllib3.connectionpool:Starting new HTTPS connection (1): pubchem.ncbi.nlm.nih.gov\n"
     ]
    },
    {
     "name": "stdout",
     "output_type": "stream",
     "text": [
      "9141 done\n"
     ]
    },
    {
     "name": "stderr",
     "output_type": "stream",
     "text": [
      "DEBUG:urllib3.connectionpool:https://pubchem.ncbi.nlm.nih.gov:443 \"GET /rest/pug/compound/cid/123329/record/json HTTP/1.1\" 200 None\n",
      "DEBUG:urllib3.connectionpool:Starting new HTTPS connection (1): pubchem.ncbi.nlm.nih.gov\n"
     ]
    },
    {
     "name": "stdout",
     "output_type": "stream",
     "text": [
      "9402 done\n"
     ]
    },
    {
     "name": "stderr",
     "output_type": "stream",
     "text": [
      "DEBUG:urllib3.connectionpool:https://pubchem.ncbi.nlm.nih.gov:443 \"GET /rest/pug/compound/cid/6327230/record/json HTTP/1.1\" 200 None\n",
      "DEBUG:urllib3.connectionpool:Starting new HTTPS connection (1): pubchem.ncbi.nlm.nih.gov\n"
     ]
    },
    {
     "name": "stdout",
     "output_type": "stream",
     "text": [
      "9451 done\n"
     ]
    },
    {
     "name": "stderr",
     "output_type": "stream",
     "text": [
      "DEBUG:urllib3.connectionpool:https://pubchem.ncbi.nlm.nih.gov:443 \"GET /rest/pug/compound/cid/6432238/record/json HTTP/1.1\" 200 None\n",
      "DEBUG:urllib3.connectionpool:Starting new HTTPS connection (1): pubchem.ncbi.nlm.nih.gov\n"
     ]
    },
    {
     "name": "stdout",
     "output_type": "stream",
     "text": [
      "9529 done\n"
     ]
    },
    {
     "name": "stderr",
     "output_type": "stream",
     "text": [
      "DEBUG:urllib3.connectionpool:https://pubchem.ncbi.nlm.nih.gov:443 \"GET /rest/pug/compound/cid/123144/record/json HTTP/1.1\" 200 None\n",
      "DEBUG:urllib3.connectionpool:Starting new HTTPS connection (1): pubchem.ncbi.nlm.nih.gov\n"
     ]
    },
    {
     "name": "stdout",
     "output_type": "stream",
     "text": [
      "9679 done\n"
     ]
    },
    {
     "name": "stderr",
     "output_type": "stream",
     "text": [
      "DEBUG:urllib3.connectionpool:https://pubchem.ncbi.nlm.nih.gov:443 \"GET /rest/pug/compound/cid/14917/record/json HTTP/1.1\" 200 None\n",
      "DEBUG:urllib3.connectionpool:Starting new HTTPS connection (1): pubchem.ncbi.nlm.nih.gov\n"
     ]
    },
    {
     "name": "stdout",
     "output_type": "stream",
     "text": [
      "9837 done\n"
     ]
    },
    {
     "name": "stderr",
     "output_type": "stream",
     "text": [
      "DEBUG:urllib3.connectionpool:https://pubchem.ncbi.nlm.nih.gov:443 \"GET /rest/pug/compound/cid/943/record/json HTTP/1.1\" 200 None\n",
      "DEBUG:urllib3.connectionpool:Starting new HTTPS connection (1): pubchem.ncbi.nlm.nih.gov\n"
     ]
    },
    {
     "name": "stdout",
     "output_type": "stream",
     "text": [
      "10042 done\n"
     ]
    },
    {
     "name": "stderr",
     "output_type": "stream",
     "text": [
      "DEBUG:urllib3.connectionpool:https://pubchem.ncbi.nlm.nih.gov:443 \"GET /rest/pug/compound/cid/5362549/record/json HTTP/1.1\" 200 None\n",
      "DEBUG:urllib3.connectionpool:Starting new HTTPS connection (1): pubchem.ncbi.nlm.nih.gov\n"
     ]
    },
    {
     "name": "stdout",
     "output_type": "stream",
     "text": [
      "10082 done\n"
     ]
    },
    {
     "name": "stderr",
     "output_type": "stream",
     "text": [
      "DEBUG:urllib3.connectionpool:https://pubchem.ncbi.nlm.nih.gov:443 \"GET /rest/pug/compound/cid/137518/record/json HTTP/1.1\" 200 None\n",
      "DEBUG:urllib3.connectionpool:Starting new HTTPS connection (1): pubchem.ncbi.nlm.nih.gov\n"
     ]
    },
    {
     "name": "stdout",
     "output_type": "stream",
     "text": [
      "10129 done\n"
     ]
    },
    {
     "name": "stderr",
     "output_type": "stream",
     "text": [
      "DEBUG:urllib3.connectionpool:https://pubchem.ncbi.nlm.nih.gov:443 \"GET /rest/pug/compound/cid/887/record/json HTTP/1.1\" 200 None\n",
      "DEBUG:urllib3.connectionpool:Starting new HTTPS connection (1): pubchem.ncbi.nlm.nih.gov\n"
     ]
    },
    {
     "name": "stdout",
     "output_type": "stream",
     "text": [
      "10220 done\n"
     ]
    },
    {
     "name": "stderr",
     "output_type": "stream",
     "text": [
      "DEBUG:urllib3.connectionpool:https://pubchem.ncbi.nlm.nih.gov:443 \"GET /rest/pug/compound/cid/159832/record/json HTTP/1.1\" 200 None\n",
      "DEBUG:urllib3.connectionpool:Starting new HTTPS connection (1): pubchem.ncbi.nlm.nih.gov\n"
     ]
    },
    {
     "name": "stdout",
     "output_type": "stream",
     "text": [
      "10299 done\n"
     ]
    },
    {
     "name": "stderr",
     "output_type": "stream",
     "text": [
      "DEBUG:urllib3.connectionpool:https://pubchem.ncbi.nlm.nih.gov:443 \"GET /rest/pug/compound/cid/783/record/json HTTP/1.1\" 200 None\n",
      "DEBUG:urllib3.connectionpool:Starting new HTTPS connection (1): pubchem.ncbi.nlm.nih.gov\n"
     ]
    },
    {
     "name": "stdout",
     "output_type": "stream",
     "text": [
      "10303 done\n"
     ]
    },
    {
     "name": "stderr",
     "output_type": "stream",
     "text": [
      "DEBUG:urllib3.connectionpool:https://pubchem.ncbi.nlm.nih.gov:443 \"GET /rest/pug/compound/cid/123164/record/json HTTP/1.1\" 200 None\n",
      "DEBUG:urllib3.connectionpool:Starting new HTTPS connection (1): pubchem.ncbi.nlm.nih.gov\n"
     ]
    },
    {
     "name": "stdout",
     "output_type": "stream",
     "text": [
      "10338 done\n"
     ]
    },
    {
     "name": "stderr",
     "output_type": "stream",
     "text": [
      "DEBUG:urllib3.connectionpool:https://pubchem.ncbi.nlm.nih.gov:443 \"GET /rest/pug/compound/cid/712/record/json HTTP/1.1\" 200 None\n",
      "DEBUG:urllib3.connectionpool:Starting new HTTPS connection (1): pubchem.ncbi.nlm.nih.gov\n"
     ]
    },
    {
     "name": "stdout",
     "output_type": "stream",
     "text": [
      "10363 done\n"
     ]
    },
    {
     "name": "stderr",
     "output_type": "stream",
     "text": [
      "DEBUG:urllib3.connectionpool:https://pubchem.ncbi.nlm.nih.gov:443 \"GET /rest/pug/compound/cid/57370662/record/json HTTP/1.1\" 200 None\n",
      "DEBUG:urllib3.connectionpool:Starting new HTTPS connection (1): pubchem.ncbi.nlm.nih.gov\n"
     ]
    },
    {
     "name": "stdout",
     "output_type": "stream",
     "text": [
      "10628 done\n"
     ]
    },
    {
     "name": "stderr",
     "output_type": "stream",
     "text": [
      "DEBUG:urllib3.connectionpool:https://pubchem.ncbi.nlm.nih.gov:443 \"GET /rest/pug/compound/cid/10038/record/json HTTP/1.1\" 200 None\n",
      "DEBUG:urllib3.connectionpool:Starting new HTTPS connection (1): pubchem.ncbi.nlm.nih.gov\n"
     ]
    },
    {
     "name": "stdout",
     "output_type": "stream",
     "text": [
      "10629 done\n"
     ]
    },
    {
     "name": "stderr",
     "output_type": "stream",
     "text": [
      "DEBUG:urllib3.connectionpool:https://pubchem.ncbi.nlm.nih.gov:443 \"GET /rest/pug/compound/cid/62695/record/json HTTP/1.1\" 200 None\n",
      "DEBUG:urllib3.connectionpool:Starting new HTTPS connection (1): pubchem.ncbi.nlm.nih.gov\n"
     ]
    },
    {
     "name": "stdout",
     "output_type": "stream",
     "text": [
      "10646 done\n"
     ]
    },
    {
     "name": "stderr",
     "output_type": "stream",
     "text": [
      "DEBUG:urllib3.connectionpool:https://pubchem.ncbi.nlm.nih.gov:443 \"GET /rest/pug/compound/cid/138305/record/json HTTP/1.1\" 200 None\n"
     ]
    },
    {
     "name": "stdout",
     "output_type": "stream",
     "text": [
      "10698 done\n"
     ]
    },
    {
     "name": "stderr",
     "output_type": "stream",
     "text": [
      "c:\\users\\maneet\\appdata\\local\\programs\\python\\python36\\lib\\site-packages\\ipykernel_launcher.py:1: PerformanceWarning: \n",
      "your performance may suffer as PyTables will pickle object types that it cannot\n",
      "map directly to c-types [inferred_type->mixed,key->block2_values] [items->['Species', 'BondsInfo']]\n",
      "\n",
      "  \"\"\"Entry point for launching an IPython kernel.\n"
     ]
    }
   ],
   "source": [
    "my_populator.get_pubchem_data(\"PreliminaryOutput/DemoGenerated/DataDF.h5\", 'Species')"
   ]
  },
  {
   "cell_type": "markdown",
   "metadata": {},
   "source": [
    "<h3>Augmenting Reactions Dataframe with Feature Vectors</h3>"
   ]
  },
  {
   "cell_type": "code",
   "execution_count": 1,
   "metadata": {},
   "outputs": [
    {
     "name": "stderr",
     "output_type": "stream",
     "text": [
      "c:\\users\\maneet\\appdata\\local\\programs\\python\\python36\\lib\\site-packages\\ipykernel_launcher.py:6: SettingWithCopyWarning: \n",
      "A value is trying to be set on a copy of a slice from a DataFrame.\n",
      "Try using .loc[row_indexer,col_indexer] = value instead\n",
      "\n",
      "See the caveats in the documentation: http://pandas.pydata.org/pandas-docs/stable/indexing.html#indexing-view-versus-copy\n",
      "  \n"
     ]
    }
   ],
   "source": [
    "# Creating an new index (based on CID) for the Species dataframe\n",
    "import pandas as pd\n",
    "import math\n",
    "species_df = pd.read_hdf(\"PreliminaryOutput/DemoGenerated/DataDF.h5\", \"Species\")\n",
    "subset_species_df = species_df.query('CID >= -1')\n",
    "subset_species_df['CID'] = subset_species_df['CID'].astype(int)"
   ]
  },
  {
   "cell_type": "code",
   "execution_count": 2,
   "metadata": {},
   "outputs": [],
   "source": [
    "subset_species_df = subset_species_df.reset_index()\n",
    "subset_species_df = subset_species_df.set_index(keys='CID', drop='False', verify_integrity=True)"
   ]
  },
  {
   "cell_type": "code",
   "execution_count": 3,
   "metadata": {},
   "outputs": [],
   "source": [
    "# Adding feature vectors to the species subset dataframe\n",
    "subset_species_df['FeatureVector'] = [\"\"]*len(subset_species_df.index)\n",
    "import features as ft"
   ]
  },
  {
   "cell_type": "code",
   "execution_count": 4,
   "metadata": {},
   "outputs": [],
   "source": [
    "# Initializing Feature Contructor\n",
    "my_constructor = ft.FeatureConstructor(\"FeatureLibrary/elements.csv\", \"FeatureLibrary/bonds.csv\")"
   ]
  },
  {
   "cell_type": "code",
   "execution_count": 6,
   "metadata": {},
   "outputs": [],
   "source": [
    "for idx, row in subset_species_df.iterrows():\n",
    "    if idx == -1:\n",
    "        subset_species_df.at[idx, 'FeatureVector'] = my_constructor.bonds_count_json(-1, None)\n",
    "    else:\n",
    "        subset_species_df.at[idx, 'FeatureVector'] = my_constructor.bonds_count_json(None, row['BondsInfo'])"
   ]
  },
  {
   "cell_type": "code",
   "execution_count": 8,
   "metadata": {},
   "outputs": [
    {
     "name": "stderr",
     "output_type": "stream",
     "text": [
      "c:\\users\\maneet\\appdata\\local\\programs\\python\\python36\\lib\\site-packages\\pandas\\core\\generic.py:1471: PerformanceWarning: \n",
      "your performance may suffer as PyTables will pickle object types that it cannot\n",
      "map directly to c-types [inferred_type->mixed,key->block1_values] [items->['Species', 'BondsInfo', 'FeatureVector']]\n",
      "\n",
      "  return pytables.to_hdf(path_or_buf, key, self, **kwargs)\n"
     ]
    }
   ],
   "source": [
    "# Storing the subset dataframe\n",
    "subset_species_df = subset_species_df.reset_index()\n",
    "subset_species_df = subset_species_df.set_index(keys='SID', drop='False', verify_integrity=True)\n",
    "subset_species_df.to_hdf(\"PreliminaryOutput/DemoGenerated/DataDF.h5\", \"TrimmedSpecies\")"
   ]
  },
  {
   "cell_type": "markdown",
   "metadata": {},
   "source": [
    "<h3>Some File IO Post Processing</h3>"
   ]
  },
  {
   "cell_type": "markdown",
   "metadata": {},
   "source": [
    "<p> The HDF5 File doesn't delete the old content when we update a dataframe that was stored in it. The new content is appended to it while the old content remains. We have to manually get rid of the old content to keep the file size under control. For more info: http://pandas.pydata.org/pandas-docs/stable/io.html#delete-from-a-table</p>"
   ]
  },
  {
   "cell_type": "code",
   "execution_count": null,
   "metadata": {},
   "outputs": [],
   "source": [
    "# Compress the present HDF5 file and replace it with the newer (smaller) version\n",
    "!ptrepack --chunkshape=auto --propindexes --complevel=9 --complib=blosc PreliminaryOutput/DemoGenerated/DataDF.h5 PreliminaryOutput/DemoGenerated/Comp_DataDF.h5\n",
    "import os\n",
    "os.remove(\"PreliminaryOutput/DemoGenerated/DataDF.h5\")\n",
    "os.rename(\"PreliminaryOutput/DemoGenerated/Comp_DataDF.h5\", \"PreliminaryOutput/DemoGenerated/DataDF.h5\")"
   ]
  },
  {
   "cell_type": "code",
   "execution_count": null,
   "metadata": {},
   "outputs": [],
   "source": [
    "# Write the updated/augmented Dataframes to Excel\n",
    "my_populator.print_all_to_excel(input_hdf5=\"PreliminaryOutput/DemoGenerated/DataDF.h5\", directory_path=\"PreliminaryOutput/DemoGenerated\")"
   ]
  },
  {
   "cell_type": "code",
   "execution_count": null,
   "metadata": {},
   "outputs": [],
   "source": []
  }
 ],
 "metadata": {
  "kernelspec": {
   "display_name": "Python 3",
   "language": "python",
   "name": "python3"
  },
  "language_info": {
   "codemirror_mode": {
    "name": "ipython",
    "version": 3
   },
   "file_extension": ".py",
   "mimetype": "text/x-python",
   "name": "python",
   "nbconvert_exporter": "python",
   "pygments_lexer": "ipython3",
   "version": "3.6.4"
  }
 },
 "nbformat": 4,
 "nbformat_minor": 2
}
