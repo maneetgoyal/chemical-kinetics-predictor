{
 "cells": [
  {
   "cell_type": "markdown",
   "metadata": {},
   "source": [
    "<h2>A Data Driven Approach to Predicting Chemical Reaction Kinetics</h2>\n",
    "<br>\n",
    "Maneet Goyal<sup>1</sup>, Keren Zhang<sup>2</sup>\n",
    "<br>\n",
    "<i><sup>1</sup>School of Civil and Environmental Engineering, <sup>2</sup>School of Chemical and Biomolecular Engineering, Georgia Institute of Technology, Atlanta, GA</i>\n",
    "<hr>"
   ]
  },
  {
   "cell_type": "code",
   "execution_count": 2,
   "metadata": {},
   "outputs": [
    {
     "data": {
      "text/html": [
       "\n",
       "        <iframe\n",
       "            width=\"1000\"\n",
       "            height=\"500\"\n",
       "            src=\"Proposals/OldProposal.pdf\"\n",
       "            frameborder=\"0\"\n",
       "            allowfullscreen\n",
       "        ></iframe>\n",
       "        "
      ],
      "text/plain": [
       "<IPython.lib.display.IFrame at 0x21d87b314e0>"
      ]
     },
     "execution_count": 2,
     "metadata": {},
     "output_type": "execute_result"
    }
   ],
   "source": [
    "# Displaying Old Proposal PDF\n",
    "from IPython.display import IFrame\n",
    "IFrame(\"Proposals/OldProposal.pdf\", width=1000, height=500)"
   ]
  },
  {
   "cell_type": "markdown",
   "metadata": {},
   "source": [
    "<h3>Response to Proposal Review</h3>"
   ]
  },
  {
   "cell_type": "markdown",
   "metadata": {},
   "source": [
    "<u>Reviewer Comments: </u>The proposed project is certainly related to chemical engineering, and the dataset is far too large and complex for traditional tools, so this is an appropriate project idea. The fact that the team has already scraped the data is commendable, as is the idea of ultimately delivering a Python package. However, the goals are very vague, and should be significantly clarified. I suggest making major revisions to the proposal before moving forward with the project. Specifically, it is not clear to me <u>what the inputs/outputs of the proposed algorithm will be</u>, and <u>how this relates to existing work</u>. \n",
    "\n",
    "The proposal indicates that half of “goal 1” is already achieved, so I would focus on the “feature vector” part of this goal. The process of identifying feature vectors for chemical reactions is far from trivial. The proposal glosses over this complexity, but determining <u>an appropriate representation for the molecular inputs</u> may be the most challenging part of the project. <u>Will the reactants be cross-referenced with PubChem to extract information about the bonds that are formed/broken?</u> <u>How will radical species be represented?</u> <u>How will reactions with 2 reactants/products be compared to reactions with 1 or 3 reactants/products?</u> These questions are critical and should be explored further in the proposal goals.\n",
    "\n",
    "The scope of the outputs should be narrowed, given the challenges with defining the inputs. I recommend focusing on activation energies, since this implicitly defines “feasibility”. Predicting activation energies is also extremely useful. The authors should review the work of Bill Greene at MIT, and the RMG code, which uses some physically-inspired models to predict reaction barriers. This provides a good benchmark for what constitutes “good” performance from a new approach, and a high level of success could be defined as a model that out-performs the existing approach."
   ]
  },
  {
   "cell_type": "markdown",
   "metadata": {},
   "source": [
    "<u>Response</u>"
   ]
  },
  {
   "cell_type": "markdown",
   "metadata": {},
   "source": [
    "<ol>\n",
    "<li>The input to the model (at the time of prediction) will be a feature vector depicting a reaction under consideration. Output will be reaction order and activation energy. Prime focus is on reaction order since we have more data for the same. More than 55% of our reaction records don't have any reported activation energy.</li>\n",
    "\n",
    "Here's a more complete picture: we have around 28000 reactions. Corresponding to these 28000 reactions, there are about 65000 records in total. Each record has reaction order, activation enery, Arrhenius rate law constants, reaction temperature, etc. stored in it which were reported in some or the other work/paper. Around 37000 of these records don't have activation enery reported. On the other hand, only around 1000 records have reaction order missing.\n",
    "\n",
    "<li>We are currently looking into leveraging past work to aid our analysis. We have take a note of Bill Greene's work and will refer to it as necessary.</li>\n",
    "\n",
    "<li>Molecular representation will be done with a feature vector containing elements like the number of following entities (functional groups): C-H, C=H, C#H, C=C, -OH, -CHO, -COOH, -Cl, -Br, -Fl, etc. We plan to use around 20-30 such entities including the reaction temperature.</li>\n",
    "\n",
    "<li>We have used the ChemSpider Web API to query individual reactants. Around 35% of the reactants weren't found in their database. Of those found, some had multiple structures reported. The reactions that weren't found will be cleaned using OpenRefine and again queried using the same API. We will look into PubChem API also to query these reactants to extract some more relevant elements to complete our features. The reactants for which multiple structures are reported will be scanned through to select the most relevant structure. Here, structure implies SMILE representation. In the end, whichever reactants have fully developed feature vectors will be mapped to their reactions and only those reactions will be used for training.</li>\n",
    "\n",
    "<li>Currently, we plan to use a binary element in the feature to reprsent whther the reactant is a radical or not.</li>\n",
    "\n",
    "<li>The feature vector for the reaction will be formed by appending the feature vectors of the involved reactants and the normalized reaction temperature. The first half of the reactions' feature vector will correspond to the reactant of higher molecular weight just to ensure uniformity. For 3-reactant reactions, the features vectors of the 2 lowest molecular weight compounds will be summed and then appended to the feature vector of the first element. If the sum of the molecular weights of these 2 reactants is more than that of the third compound, the corresponding feature vector will occupy the first half of the reaction feature vector.</li>\n",
    "\n",
    "</ol>"
   ]
  },
  {
   "cell_type": "markdown",
   "metadata": {},
   "source": [
    "<h3>Revised Proposal</h3>"
   ]
  },
  {
   "cell_type": "code",
   "execution_count": 3,
   "metadata": {},
   "outputs": [
    {
     "data": {
      "text/html": [
       "\n",
       "        <iframe\n",
       "            width=\"1000\"\n",
       "            height=\"500\"\n",
       "            src=\"Proposals/RevisedProposal.pdf\"\n",
       "            frameborder=\"0\"\n",
       "            allowfullscreen\n",
       "        ></iframe>\n",
       "        "
      ],
      "text/plain": [
       "<IPython.lib.display.IFrame at 0x21d87b31518>"
      ]
     },
     "execution_count": 3,
     "metadata": {},
     "output_type": "execute_result"
    }
   ],
   "source": [
    "# Displaying Revised Proposal PDF\n",
    "from IPython.display import IFrame\n",
    "IFrame(\"Proposals/RevisedProposal.pdf\", width=1000, height=500)"
   ]
  },
  {
   "cell_type": "markdown",
   "metadata": {},
   "source": [
    "<h3>Importing our Source File for HTML Parsing</h3>"
   ]
  },
  {
   "cell_type": "code",
   "execution_count": 5,
   "metadata": {},
   "outputs": [],
   "source": [
    "import htmlparser as hp # Our Source File. Open the file in a code editor for viewing the completing implementation."
   ]
  },
  {
   "cell_type": "markdown",
   "metadata": {},
   "source": [
    "<h3>Creating an in-memory table from the input HTML file</h3>"
   ]
  },
  {
   "cell_type": "code",
   "execution_count": 6,
   "metadata": {},
   "outputs": [
    {
     "name": "stdout",
     "output_type": "stream",
     "text": [
      "----Status----\n",
      "HTML File read in memory.\n",
      "----Status----\n",
      "Soup created out of the HTML file\n",
      "----Status----\n",
      "Done\n"
     ]
    }
   ],
   "source": [
    "myTableCreator = hp.TableCreator(\"ReactionHTMLFile/NIST Chemical Kinetics Database.html\")"
   ]
  },
  {
   "cell_type": "markdown",
   "metadata": {},
   "source": [
    "<p style=\"color:magenta;\">*Soup, specific to BeautifulSoup is a alternate representation of the HTML data that makes it easy for us to filter out the required data.</p>"
   ]
  },
  {
   "cell_type": "markdown",
   "metadata": {},
   "source": [
    "<h3>Creating an output \".tsv\" file after reading all the reactions</h3>"
   ]
  },
  {
   "cell_type": "code",
   "execution_count": 7,
   "metadata": {},
   "outputs": [
    {
     "name": "stdout",
     "output_type": "stream",
     "text": [
      "----Status----\n",
      "All reactions written into the output .tsv file in TSV format.\n"
     ]
    }
   ],
   "source": [
    "myTableCreator.extrct_rxn_to_txt(\"PreliminaryOutput/DemoGenerated/reactions.tsv\")"
   ]
  },
  {
   "cell_type": "markdown",
   "metadata": {},
   "source": [
    "<h3>Read HREFs from the Input \".tsv\" file path into a Pandas DataFrame</h3>"
   ]
  },
  {
   "cell_type": "code",
   "execution_count": 8,
   "metadata": {},
   "outputs": [
    {
     "name": "stdout",
     "output_type": "stream",
     "text": [
      "----Status----\n",
      "Reactions '.tsv' file read into a Pandas DataFrame.\n",
      "\n",
      "----Heres how our dataframe looks----\n",
      "                                         Reaction Link  Records\n",
      "RID                                                            \n",
      "1    http://kinetics.nist.gov/kinetics/ReactionSear...        1\n",
      "2    http://kinetics.nist.gov/kinetics/ReactionSear...        1\n",
      "3    http://kinetics.nist.gov/kinetics/ReactionSear...        1\n",
      "4    http://kinetics.nist.gov/kinetics/ReactionSear...        1\n",
      "5    http://kinetics.nist.gov/kinetics/ReactionSear...        1\n",
      "6    http://kinetics.nist.gov/kinetics/ReactionSear...        1\n",
      "7    http://kinetics.nist.gov/kinetics/ReactionSear...        1\n",
      "8    http://kinetics.nist.gov/kinetics/ReactionSear...        1\n",
      "9    http://kinetics.nist.gov/kinetics/ReactionSear...        1\n",
      "10   http://kinetics.nist.gov/kinetics/ReactionSear...        1\n",
      "\n",
      "----No. of Rows---\n",
      "28983\n"
     ]
    }
   ],
   "source": [
    "myRxnExtrator = hp.RxnDetailsExtractor(\"PreliminaryOutput/DemoGenerated/reactions.tsv\")\n",
    "print('\\n----Here''s how our dataframe looks----')\n",
    "print(myRxnExtrator.reactions_df.head(10))\n",
    "print('\\n----No. of Rows---')\n",
    "print(len(myRxnExtrator.reactions_df.index))"
   ]
  },
  {
   "cell_type": "markdown",
   "metadata": {},
   "source": [
    "<h3>Scraping data from the url suplied by the DataFrame above into TSV files.</h3>\n",
    "<h4 style=\"color: red;\">We suggest terminating the below code as soon as you are convinced that it works. On our system, the entire scraping was done in around 2 hours.</h4>\n",
    "<h4 style=\"color: green;\">The records.tsv and ref_reaction.tsv files were generated using BeautifulSoup and is given with the code. You don't need to generate it.</h4>\n",
    "<h4>Here, records.tsv will contain all the data pertaining to a reaction order, for e.g., reaction order, activation enery, temperature, etc. \"ref_reaction.tsv\", on the other hand, will contain information on reactive whose kinetics was studied with respect to some other reactions. These reactions will not be included in our analysis.</h4>\n",
    "<p>The code should start running and printing log instantly. In case the code takes a lot of time and still doesn't print anything, check whether the NIST Server is responding by going to http://kinetics.nist.gov/.</p>"
   ]
  },
  {
   "cell_type": "code",
   "execution_count": 23,
   "metadata": {},
   "outputs": [
    {
     "name": "stdout",
     "output_type": "stream",
     "text": [
      "RID: 1 parsed\n",
      "RID: 2 parsed\n",
      "RID: 3 parsed\n",
      "RID: 4 parsed\n",
      "RID: 5 parsed\n",
      "RID: 6 parsed\n",
      "RID: 7 parsed\n",
      "RID: 8 parsed\n",
      "RID: 9 parsed\n",
      "RID: 10 parsed\n",
      "RID: 11 parsed\n",
      "RID: 12 parsed\n",
      "RID: 13 parsed\n",
      "RID: 14 parsed\n",
      "RID: 15 parsed\n",
      "RID: 16 parsed\n",
      "RID: 17 parsed\n",
      "RID: 18 parsed\n",
      "RID: 19 parsed\n",
      "RID: 20 parsed\n",
      "RID: 21 parsed\n",
      "RID: 22 parsed\n",
      "RID: 23 parsed\n",
      "RID: 24 parsed\n",
      "RID: 25 parsed\n",
      "RID: 26 parsed\n",
      "RID: 27 parsed\n",
      "RID: 28 parsed\n",
      "RID: 29 parsed\n",
      "RID: 30 parsed\n",
      "RID: 31 parsed\n",
      "RID: 32 parsed\n",
      "RID: 33 parsed\n",
      "RID: 34 parsed\n",
      "RID: 35 parsed\n",
      "RID: 36 parsed\n",
      "RID: 37 parsed\n",
      "RID: 38 parsed\n",
      "RID: 39 parsed\n",
      "RID: 40 parsed\n",
      "RID: 41 parsed\n",
      "RID: 42 parsed\n",
      "RID: 43 parsed\n",
      "RID: 44 parsed\n",
      "RID: 45 parsed\n",
      "Bad HTML | Something is wrong with this HTML http://kinetics.nist.gov/kinetics/ReactionSearch?r0=325135340&r1=0&r2=0&r3=0&r4=0&p0=-2003113971&p1=0&p2=0&p3=0&p4=0&expandResults=true&. Proceeding with the next one.\n",
      "RID: 47 parsed\n",
      "RID: 48 parsed\n"
     ]
    },
    {
     "ename": "KeyboardInterrupt",
     "evalue": "",
     "output_type": "error",
     "traceback": [
      "\u001b[1;31m---------------------------------------------------------------------------\u001b[0m",
      "\u001b[1;31mKeyboardInterrupt\u001b[0m                         Traceback (most recent call last)",
      "\u001b[1;32m<ipython-input-23-86ee656724bf>\u001b[0m in \u001b[0;36m<module>\u001b[1;34m()\u001b[0m\n\u001b[1;32m----> 1\u001b[1;33m \u001b[0mmyRxnExtrator\u001b[0m\u001b[1;33m.\u001b[0m\u001b[0mextrct_rec_to_tsv\u001b[0m\u001b[1;33m(\u001b[0m\u001b[1;34m\"records.tsv\"\u001b[0m\u001b[1;33m,\u001b[0m \u001b[1;34m\"ref_reaction.tsv\"\u001b[0m\u001b[1;33m)\u001b[0m\u001b[1;33m\u001b[0m\u001b[0m\n\u001b[0m",
      "\u001b[1;32mG:\\References\\MS1\\Spring2018\\CHBE\\Project\\WorkflowDemo\\htmlparser.py\u001b[0m in \u001b[0;36mextrct_rec_to_tsv\u001b[1;34m(self, tsv_file_path, ref_tsv_file_path)\u001b[0m\n\u001b[0;32m    114\u001b[0m         \u001b[1;32mfor\u001b[0m \u001b[0mrid\u001b[0m\u001b[1;33m,\u001b[0m \u001b[0mrow\u001b[0m \u001b[1;32min\u001b[0m \u001b[0mself\u001b[0m\u001b[1;33m.\u001b[0m\u001b[0mreactions_df\u001b[0m\u001b[1;33m.\u001b[0m\u001b[0miterrows\u001b[0m\u001b[1;33m(\u001b[0m\u001b[1;33m)\u001b[0m\u001b[1;33m:\u001b[0m\u001b[1;33m\u001b[0m\u001b[0m\n\u001b[0;32m    115\u001b[0m             \u001b[1;32mtry\u001b[0m\u001b[1;33m:\u001b[0m\u001b[1;33m\u001b[0m\u001b[0m\n\u001b[1;32m--> 116\u001b[1;33m                 \u001b[0mreaction_html\u001b[0m \u001b[1;33m=\u001b[0m \u001b[0murlopen\u001b[0m\u001b[1;33m(\u001b[0m\u001b[0mrow\u001b[0m\u001b[1;33m[\u001b[0m\u001b[1;34m'Reaction Link'\u001b[0m\u001b[1;33m]\u001b[0m\u001b[1;33m)\u001b[0m  \u001b[1;31m# Opening html in memory\u001b[0m\u001b[1;33m\u001b[0m\u001b[0m\n\u001b[0m\u001b[0;32m    117\u001b[0m             \u001b[1;32mexcept\u001b[0m \u001b[0mConnectionError\u001b[0m\u001b[1;33m:\u001b[0m\u001b[1;33m\u001b[0m\u001b[0m\n\u001b[0;32m    118\u001b[0m                 \u001b[0mprint\u001b[0m\u001b[1;33m(\u001b[0m\u001b[1;34m\"Could not go to link {}\"\u001b[0m\u001b[1;33m.\u001b[0m\u001b[0mformat\u001b[0m\u001b[1;33m(\u001b[0m\u001b[0mrow\u001b[0m\u001b[1;33m[\u001b[0m\u001b[1;34m'Reaction Link'\u001b[0m\u001b[1;33m]\u001b[0m\u001b[1;33m)\u001b[0m\u001b[1;33m)\u001b[0m\u001b[1;33m\u001b[0m\u001b[0m\n",
      "\u001b[1;32mc:\\users\\maneet\\appdata\\local\\programs\\python\\python36\\lib\\urllib\\request.py\u001b[0m in \u001b[0;36murlopen\u001b[1;34m(url, data, timeout, cafile, capath, cadefault, context)\u001b[0m\n\u001b[0;32m    221\u001b[0m     \u001b[1;32melse\u001b[0m\u001b[1;33m:\u001b[0m\u001b[1;33m\u001b[0m\u001b[0m\n\u001b[0;32m    222\u001b[0m         \u001b[0mopener\u001b[0m \u001b[1;33m=\u001b[0m \u001b[0m_opener\u001b[0m\u001b[1;33m\u001b[0m\u001b[0m\n\u001b[1;32m--> 223\u001b[1;33m     \u001b[1;32mreturn\u001b[0m \u001b[0mopener\u001b[0m\u001b[1;33m.\u001b[0m\u001b[0mopen\u001b[0m\u001b[1;33m(\u001b[0m\u001b[0murl\u001b[0m\u001b[1;33m,\u001b[0m \u001b[0mdata\u001b[0m\u001b[1;33m,\u001b[0m \u001b[0mtimeout\u001b[0m\u001b[1;33m)\u001b[0m\u001b[1;33m\u001b[0m\u001b[0m\n\u001b[0m\u001b[0;32m    224\u001b[0m \u001b[1;33m\u001b[0m\u001b[0m\n\u001b[0;32m    225\u001b[0m \u001b[1;32mdef\u001b[0m \u001b[0minstall_opener\u001b[0m\u001b[1;33m(\u001b[0m\u001b[0mopener\u001b[0m\u001b[1;33m)\u001b[0m\u001b[1;33m:\u001b[0m\u001b[1;33m\u001b[0m\u001b[0m\n",
      "\u001b[1;32mc:\\users\\maneet\\appdata\\local\\programs\\python\\python36\\lib\\urllib\\request.py\u001b[0m in \u001b[0;36mopen\u001b[1;34m(self, fullurl, data, timeout)\u001b[0m\n\u001b[0;32m    524\u001b[0m             \u001b[0mreq\u001b[0m \u001b[1;33m=\u001b[0m \u001b[0mmeth\u001b[0m\u001b[1;33m(\u001b[0m\u001b[0mreq\u001b[0m\u001b[1;33m)\u001b[0m\u001b[1;33m\u001b[0m\u001b[0m\n\u001b[0;32m    525\u001b[0m \u001b[1;33m\u001b[0m\u001b[0m\n\u001b[1;32m--> 526\u001b[1;33m         \u001b[0mresponse\u001b[0m \u001b[1;33m=\u001b[0m \u001b[0mself\u001b[0m\u001b[1;33m.\u001b[0m\u001b[0m_open\u001b[0m\u001b[1;33m(\u001b[0m\u001b[0mreq\u001b[0m\u001b[1;33m,\u001b[0m \u001b[0mdata\u001b[0m\u001b[1;33m)\u001b[0m\u001b[1;33m\u001b[0m\u001b[0m\n\u001b[0m\u001b[0;32m    527\u001b[0m \u001b[1;33m\u001b[0m\u001b[0m\n\u001b[0;32m    528\u001b[0m         \u001b[1;31m# post-process response\u001b[0m\u001b[1;33m\u001b[0m\u001b[1;33m\u001b[0m\u001b[0m\n",
      "\u001b[1;32mc:\\users\\maneet\\appdata\\local\\programs\\python\\python36\\lib\\urllib\\request.py\u001b[0m in \u001b[0;36m_open\u001b[1;34m(self, req, data)\u001b[0m\n\u001b[0;32m    542\u001b[0m         \u001b[0mprotocol\u001b[0m \u001b[1;33m=\u001b[0m \u001b[0mreq\u001b[0m\u001b[1;33m.\u001b[0m\u001b[0mtype\u001b[0m\u001b[1;33m\u001b[0m\u001b[0m\n\u001b[0;32m    543\u001b[0m         result = self._call_chain(self.handle_open, protocol, protocol +\n\u001b[1;32m--> 544\u001b[1;33m                                   '_open', req)\n\u001b[0m\u001b[0;32m    545\u001b[0m         \u001b[1;32mif\u001b[0m \u001b[0mresult\u001b[0m\u001b[1;33m:\u001b[0m\u001b[1;33m\u001b[0m\u001b[0m\n\u001b[0;32m    546\u001b[0m             \u001b[1;32mreturn\u001b[0m \u001b[0mresult\u001b[0m\u001b[1;33m\u001b[0m\u001b[0m\n",
      "\u001b[1;32mc:\\users\\maneet\\appdata\\local\\programs\\python\\python36\\lib\\urllib\\request.py\u001b[0m in \u001b[0;36m_call_chain\u001b[1;34m(self, chain, kind, meth_name, *args)\u001b[0m\n\u001b[0;32m    502\u001b[0m         \u001b[1;32mfor\u001b[0m \u001b[0mhandler\u001b[0m \u001b[1;32min\u001b[0m \u001b[0mhandlers\u001b[0m\u001b[1;33m:\u001b[0m\u001b[1;33m\u001b[0m\u001b[0m\n\u001b[0;32m    503\u001b[0m             \u001b[0mfunc\u001b[0m \u001b[1;33m=\u001b[0m \u001b[0mgetattr\u001b[0m\u001b[1;33m(\u001b[0m\u001b[0mhandler\u001b[0m\u001b[1;33m,\u001b[0m \u001b[0mmeth_name\u001b[0m\u001b[1;33m)\u001b[0m\u001b[1;33m\u001b[0m\u001b[0m\n\u001b[1;32m--> 504\u001b[1;33m             \u001b[0mresult\u001b[0m \u001b[1;33m=\u001b[0m \u001b[0mfunc\u001b[0m\u001b[1;33m(\u001b[0m\u001b[1;33m*\u001b[0m\u001b[0margs\u001b[0m\u001b[1;33m)\u001b[0m\u001b[1;33m\u001b[0m\u001b[0m\n\u001b[0m\u001b[0;32m    505\u001b[0m             \u001b[1;32mif\u001b[0m \u001b[0mresult\u001b[0m \u001b[1;32mis\u001b[0m \u001b[1;32mnot\u001b[0m \u001b[1;32mNone\u001b[0m\u001b[1;33m:\u001b[0m\u001b[1;33m\u001b[0m\u001b[0m\n\u001b[0;32m    506\u001b[0m                 \u001b[1;32mreturn\u001b[0m \u001b[0mresult\u001b[0m\u001b[1;33m\u001b[0m\u001b[0m\n",
      "\u001b[1;32mc:\\users\\maneet\\appdata\\local\\programs\\python\\python36\\lib\\urllib\\request.py\u001b[0m in \u001b[0;36mhttp_open\u001b[1;34m(self, req)\u001b[0m\n\u001b[0;32m   1344\u001b[0m \u001b[1;33m\u001b[0m\u001b[0m\n\u001b[0;32m   1345\u001b[0m     \u001b[1;32mdef\u001b[0m \u001b[0mhttp_open\u001b[0m\u001b[1;33m(\u001b[0m\u001b[0mself\u001b[0m\u001b[1;33m,\u001b[0m \u001b[0mreq\u001b[0m\u001b[1;33m)\u001b[0m\u001b[1;33m:\u001b[0m\u001b[1;33m\u001b[0m\u001b[0m\n\u001b[1;32m-> 1346\u001b[1;33m         \u001b[1;32mreturn\u001b[0m \u001b[0mself\u001b[0m\u001b[1;33m.\u001b[0m\u001b[0mdo_open\u001b[0m\u001b[1;33m(\u001b[0m\u001b[0mhttp\u001b[0m\u001b[1;33m.\u001b[0m\u001b[0mclient\u001b[0m\u001b[1;33m.\u001b[0m\u001b[0mHTTPConnection\u001b[0m\u001b[1;33m,\u001b[0m \u001b[0mreq\u001b[0m\u001b[1;33m)\u001b[0m\u001b[1;33m\u001b[0m\u001b[0m\n\u001b[0m\u001b[0;32m   1347\u001b[0m \u001b[1;33m\u001b[0m\u001b[0m\n\u001b[0;32m   1348\u001b[0m     \u001b[0mhttp_request\u001b[0m \u001b[1;33m=\u001b[0m \u001b[0mAbstractHTTPHandler\u001b[0m\u001b[1;33m.\u001b[0m\u001b[0mdo_request_\u001b[0m\u001b[1;33m\u001b[0m\u001b[0m\n",
      "\u001b[1;32mc:\\users\\maneet\\appdata\\local\\programs\\python\\python36\\lib\\urllib\\request.py\u001b[0m in \u001b[0;36mdo_open\u001b[1;34m(self, http_class, req, **http_conn_args)\u001b[0m\n\u001b[0;32m   1316\u001b[0m             \u001b[1;32mtry\u001b[0m\u001b[1;33m:\u001b[0m\u001b[1;33m\u001b[0m\u001b[0m\n\u001b[0;32m   1317\u001b[0m                 h.request(req.get_method(), req.selector, req.data, headers,\n\u001b[1;32m-> 1318\u001b[1;33m                           encode_chunked=req.has_header('Transfer-encoding'))\n\u001b[0m\u001b[0;32m   1319\u001b[0m             \u001b[1;32mexcept\u001b[0m \u001b[0mOSError\u001b[0m \u001b[1;32mas\u001b[0m \u001b[0merr\u001b[0m\u001b[1;33m:\u001b[0m \u001b[1;31m# timeout error\u001b[0m\u001b[1;33m\u001b[0m\u001b[0m\n\u001b[0;32m   1320\u001b[0m                 \u001b[1;32mraise\u001b[0m \u001b[0mURLError\u001b[0m\u001b[1;33m(\u001b[0m\u001b[0merr\u001b[0m\u001b[1;33m)\u001b[0m\u001b[1;33m\u001b[0m\u001b[0m\n",
      "\u001b[1;32mc:\\users\\maneet\\appdata\\local\\programs\\python\\python36\\lib\\http\\client.py\u001b[0m in \u001b[0;36mrequest\u001b[1;34m(self, method, url, body, headers, encode_chunked)\u001b[0m\n\u001b[0;32m   1237\u001b[0m                 encode_chunked=False):\n\u001b[0;32m   1238\u001b[0m         \u001b[1;34m\"\"\"Send a complete request to the server.\"\"\"\u001b[0m\u001b[1;33m\u001b[0m\u001b[0m\n\u001b[1;32m-> 1239\u001b[1;33m         \u001b[0mself\u001b[0m\u001b[1;33m.\u001b[0m\u001b[0m_send_request\u001b[0m\u001b[1;33m(\u001b[0m\u001b[0mmethod\u001b[0m\u001b[1;33m,\u001b[0m \u001b[0murl\u001b[0m\u001b[1;33m,\u001b[0m \u001b[0mbody\u001b[0m\u001b[1;33m,\u001b[0m \u001b[0mheaders\u001b[0m\u001b[1;33m,\u001b[0m \u001b[0mencode_chunked\u001b[0m\u001b[1;33m)\u001b[0m\u001b[1;33m\u001b[0m\u001b[0m\n\u001b[0m\u001b[0;32m   1240\u001b[0m \u001b[1;33m\u001b[0m\u001b[0m\n\u001b[0;32m   1241\u001b[0m     \u001b[1;32mdef\u001b[0m \u001b[0m_send_request\u001b[0m\u001b[1;33m(\u001b[0m\u001b[0mself\u001b[0m\u001b[1;33m,\u001b[0m \u001b[0mmethod\u001b[0m\u001b[1;33m,\u001b[0m \u001b[0murl\u001b[0m\u001b[1;33m,\u001b[0m \u001b[0mbody\u001b[0m\u001b[1;33m,\u001b[0m \u001b[0mheaders\u001b[0m\u001b[1;33m,\u001b[0m \u001b[0mencode_chunked\u001b[0m\u001b[1;33m)\u001b[0m\u001b[1;33m:\u001b[0m\u001b[1;33m\u001b[0m\u001b[0m\n",
      "\u001b[1;32mc:\\users\\maneet\\appdata\\local\\programs\\python\\python36\\lib\\http\\client.py\u001b[0m in \u001b[0;36m_send_request\u001b[1;34m(self, method, url, body, headers, encode_chunked)\u001b[0m\n\u001b[0;32m   1283\u001b[0m             \u001b[1;31m# default charset of iso-8859-1.\u001b[0m\u001b[1;33m\u001b[0m\u001b[1;33m\u001b[0m\u001b[0m\n\u001b[0;32m   1284\u001b[0m             \u001b[0mbody\u001b[0m \u001b[1;33m=\u001b[0m \u001b[0m_encode\u001b[0m\u001b[1;33m(\u001b[0m\u001b[0mbody\u001b[0m\u001b[1;33m,\u001b[0m \u001b[1;34m'body'\u001b[0m\u001b[1;33m)\u001b[0m\u001b[1;33m\u001b[0m\u001b[0m\n\u001b[1;32m-> 1285\u001b[1;33m         \u001b[0mself\u001b[0m\u001b[1;33m.\u001b[0m\u001b[0mendheaders\u001b[0m\u001b[1;33m(\u001b[0m\u001b[0mbody\u001b[0m\u001b[1;33m,\u001b[0m \u001b[0mencode_chunked\u001b[0m\u001b[1;33m=\u001b[0m\u001b[0mencode_chunked\u001b[0m\u001b[1;33m)\u001b[0m\u001b[1;33m\u001b[0m\u001b[0m\n\u001b[0m\u001b[0;32m   1286\u001b[0m \u001b[1;33m\u001b[0m\u001b[0m\n\u001b[0;32m   1287\u001b[0m     \u001b[1;32mdef\u001b[0m \u001b[0mgetresponse\u001b[0m\u001b[1;33m(\u001b[0m\u001b[0mself\u001b[0m\u001b[1;33m)\u001b[0m\u001b[1;33m:\u001b[0m\u001b[1;33m\u001b[0m\u001b[0m\n",
      "\u001b[1;32mc:\\users\\maneet\\appdata\\local\\programs\\python\\python36\\lib\\http\\client.py\u001b[0m in \u001b[0;36mendheaders\u001b[1;34m(self, message_body, encode_chunked)\u001b[0m\n\u001b[0;32m   1232\u001b[0m         \u001b[1;32melse\u001b[0m\u001b[1;33m:\u001b[0m\u001b[1;33m\u001b[0m\u001b[0m\n\u001b[0;32m   1233\u001b[0m             \u001b[1;32mraise\u001b[0m \u001b[0mCannotSendHeader\u001b[0m\u001b[1;33m(\u001b[0m\u001b[1;33m)\u001b[0m\u001b[1;33m\u001b[0m\u001b[0m\n\u001b[1;32m-> 1234\u001b[1;33m         \u001b[0mself\u001b[0m\u001b[1;33m.\u001b[0m\u001b[0m_send_output\u001b[0m\u001b[1;33m(\u001b[0m\u001b[0mmessage_body\u001b[0m\u001b[1;33m,\u001b[0m \u001b[0mencode_chunked\u001b[0m\u001b[1;33m=\u001b[0m\u001b[0mencode_chunked\u001b[0m\u001b[1;33m)\u001b[0m\u001b[1;33m\u001b[0m\u001b[0m\n\u001b[0m\u001b[0;32m   1235\u001b[0m \u001b[1;33m\u001b[0m\u001b[0m\n\u001b[0;32m   1236\u001b[0m     def request(self, method, url, body=None, headers={}, *,\n",
      "\u001b[1;32mc:\\users\\maneet\\appdata\\local\\programs\\python\\python36\\lib\\http\\client.py\u001b[0m in \u001b[0;36m_send_output\u001b[1;34m(self, message_body, encode_chunked)\u001b[0m\n\u001b[0;32m   1024\u001b[0m         \u001b[0mmsg\u001b[0m \u001b[1;33m=\u001b[0m \u001b[1;34mb\"\\r\\n\"\u001b[0m\u001b[1;33m.\u001b[0m\u001b[0mjoin\u001b[0m\u001b[1;33m(\u001b[0m\u001b[0mself\u001b[0m\u001b[1;33m.\u001b[0m\u001b[0m_buffer\u001b[0m\u001b[1;33m)\u001b[0m\u001b[1;33m\u001b[0m\u001b[0m\n\u001b[0;32m   1025\u001b[0m         \u001b[1;32mdel\u001b[0m \u001b[0mself\u001b[0m\u001b[1;33m.\u001b[0m\u001b[0m_buffer\u001b[0m\u001b[1;33m[\u001b[0m\u001b[1;33m:\u001b[0m\u001b[1;33m]\u001b[0m\u001b[1;33m\u001b[0m\u001b[0m\n\u001b[1;32m-> 1026\u001b[1;33m         \u001b[0mself\u001b[0m\u001b[1;33m.\u001b[0m\u001b[0msend\u001b[0m\u001b[1;33m(\u001b[0m\u001b[0mmsg\u001b[0m\u001b[1;33m)\u001b[0m\u001b[1;33m\u001b[0m\u001b[0m\n\u001b[0m\u001b[0;32m   1027\u001b[0m \u001b[1;33m\u001b[0m\u001b[0m\n\u001b[0;32m   1028\u001b[0m         \u001b[1;32mif\u001b[0m \u001b[0mmessage_body\u001b[0m \u001b[1;32mis\u001b[0m \u001b[1;32mnot\u001b[0m \u001b[1;32mNone\u001b[0m\u001b[1;33m:\u001b[0m\u001b[1;33m\u001b[0m\u001b[0m\n",
      "\u001b[1;32mc:\\users\\maneet\\appdata\\local\\programs\\python\\python36\\lib\\http\\client.py\u001b[0m in \u001b[0;36msend\u001b[1;34m(self, data)\u001b[0m\n\u001b[0;32m    962\u001b[0m         \u001b[1;32mif\u001b[0m \u001b[0mself\u001b[0m\u001b[1;33m.\u001b[0m\u001b[0msock\u001b[0m \u001b[1;32mis\u001b[0m \u001b[1;32mNone\u001b[0m\u001b[1;33m:\u001b[0m\u001b[1;33m\u001b[0m\u001b[0m\n\u001b[0;32m    963\u001b[0m             \u001b[1;32mif\u001b[0m \u001b[0mself\u001b[0m\u001b[1;33m.\u001b[0m\u001b[0mauto_open\u001b[0m\u001b[1;33m:\u001b[0m\u001b[1;33m\u001b[0m\u001b[0m\n\u001b[1;32m--> 964\u001b[1;33m                 \u001b[0mself\u001b[0m\u001b[1;33m.\u001b[0m\u001b[0mconnect\u001b[0m\u001b[1;33m(\u001b[0m\u001b[1;33m)\u001b[0m\u001b[1;33m\u001b[0m\u001b[0m\n\u001b[0m\u001b[0;32m    965\u001b[0m             \u001b[1;32melse\u001b[0m\u001b[1;33m:\u001b[0m\u001b[1;33m\u001b[0m\u001b[0m\n\u001b[0;32m    966\u001b[0m                 \u001b[1;32mraise\u001b[0m \u001b[0mNotConnected\u001b[0m\u001b[1;33m(\u001b[0m\u001b[1;33m)\u001b[0m\u001b[1;33m\u001b[0m\u001b[0m\n",
      "\u001b[1;32mc:\\users\\maneet\\appdata\\local\\programs\\python\\python36\\lib\\http\\client.py\u001b[0m in \u001b[0;36mconnect\u001b[1;34m(self)\u001b[0m\n\u001b[0;32m    934\u001b[0m         \u001b[1;34m\"\"\"Connect to the host and port specified in __init__.\"\"\"\u001b[0m\u001b[1;33m\u001b[0m\u001b[0m\n\u001b[0;32m    935\u001b[0m         self.sock = self._create_connection(\n\u001b[1;32m--> 936\u001b[1;33m             (self.host,self.port), self.timeout, self.source_address)\n\u001b[0m\u001b[0;32m    937\u001b[0m         \u001b[0mself\u001b[0m\u001b[1;33m.\u001b[0m\u001b[0msock\u001b[0m\u001b[1;33m.\u001b[0m\u001b[0msetsockopt\u001b[0m\u001b[1;33m(\u001b[0m\u001b[0msocket\u001b[0m\u001b[1;33m.\u001b[0m\u001b[0mIPPROTO_TCP\u001b[0m\u001b[1;33m,\u001b[0m \u001b[0msocket\u001b[0m\u001b[1;33m.\u001b[0m\u001b[0mTCP_NODELAY\u001b[0m\u001b[1;33m,\u001b[0m \u001b[1;36m1\u001b[0m\u001b[1;33m)\u001b[0m\u001b[1;33m\u001b[0m\u001b[0m\n\u001b[0;32m    938\u001b[0m \u001b[1;33m\u001b[0m\u001b[0m\n",
      "\u001b[1;32mc:\\users\\maneet\\appdata\\local\\programs\\python\\python36\\lib\\socket.py\u001b[0m in \u001b[0;36mcreate_connection\u001b[1;34m(address, timeout, source_address)\u001b[0m\n\u001b[0;32m    711\u001b[0m             \u001b[1;32mif\u001b[0m \u001b[0msource_address\u001b[0m\u001b[1;33m:\u001b[0m\u001b[1;33m\u001b[0m\u001b[0m\n\u001b[0;32m    712\u001b[0m                 \u001b[0msock\u001b[0m\u001b[1;33m.\u001b[0m\u001b[0mbind\u001b[0m\u001b[1;33m(\u001b[0m\u001b[0msource_address\u001b[0m\u001b[1;33m)\u001b[0m\u001b[1;33m\u001b[0m\u001b[0m\n\u001b[1;32m--> 713\u001b[1;33m             \u001b[0msock\u001b[0m\u001b[1;33m.\u001b[0m\u001b[0mconnect\u001b[0m\u001b[1;33m(\u001b[0m\u001b[0msa\u001b[0m\u001b[1;33m)\u001b[0m\u001b[1;33m\u001b[0m\u001b[0m\n\u001b[0m\u001b[0;32m    714\u001b[0m             \u001b[1;31m# Break explicitly a reference cycle\u001b[0m\u001b[1;33m\u001b[0m\u001b[1;33m\u001b[0m\u001b[0m\n\u001b[0;32m    715\u001b[0m             \u001b[0merr\u001b[0m \u001b[1;33m=\u001b[0m \u001b[1;32mNone\u001b[0m\u001b[1;33m\u001b[0m\u001b[0m\n",
      "\u001b[1;31mKeyboardInterrupt\u001b[0m: "
     ]
    }
   ],
   "source": [
    "myRxnExtrator.extrct_rec_to_tsv(\"PreliminaryOutput/DemoGenerated/records.tsv\", \"PreliminaryOutput/DemoGenerated/ref_reaction.tsv\")"
   ]
  },
  {
   "cell_type": "markdown",
   "metadata": {},
   "source": [
    "<hr>\n",
    "<h4 style=\"color: blue;\">Beyond this point, we manually dealt with the records.tsv to fix some formatting issues that accompanied the scraping process.</h4> \n",
    "<hr>"
   ]
  },
  {
   "cell_type": "markdown",
   "metadata": {},
   "source": [
    "<h3>Initializing Populator</h3>\n",
    "<p><em>Here, we extract all the unique reactants and products from all our reactions.</em></p>"
   ]
  },
  {
   "cell_type": "code",
   "execution_count": 26,
   "metadata": {},
   "outputs": [
    {
     "name": "stderr",
     "output_type": "stream",
     "text": [
      "DEBUG:chemspipy.api:Initializing ChemSpider\n"
     ]
    },
    {
     "name": "stdout",
     "output_type": "stream",
     "text": [
      "--Populator Initialized--\n"
     ]
    }
   ],
   "source": [
    "import species as sp\n",
    "my_populator = sp.Populator()"
   ]
  },
  {
   "cell_type": "markdown",
   "metadata": {},
   "source": [
    "<h3>Moving Reactions and Individual Chemical Species to a HDF5 File as Pandas Dataframes.</h3>"
   ]
  },
  {
   "cell_type": "code",
   "execution_count": 27,
   "metadata": {},
   "outputs": [
    {
     "name": "stdout",
     "output_type": "stream",
     "text": [
      "--DataFrames Created and Stored in PreliminaryOutput/DemoGenerated/DataDF.h5\n"
     ]
    },
    {
     "name": "stderr",
     "output_type": "stream",
     "text": [
      "c:\\users\\maneet\\appdata\\local\\programs\\python\\python36\\lib\\site-packages\\pandas\\core\\generic.py:1471: PerformanceWarning: \n",
      "your performance may suffer as PyTables will pickle object types that it cannot\n",
      "map directly to c-types [inferred_type->mixed,key->block1_values] [items->['Reaction Link', 'Reactants', 'Products', 'Reactants_List', 'Products_List', 'Reactants_SIDs_List', 'Products_SIDs_List']]\n",
      "\n",
      "  return pytables.to_hdf(path_or_buf, key, self, **kwargs)\n"
     ]
    }
   ],
   "source": [
    "my_populator.reactions_and_species('PreliminaryOutput/DemoGenerated/reactions.tsv', 'PreliminaryOutput/DemoGenerated/DataDF.h5', 'Reactions', 'Species')"
   ]
  },
  {
   "cell_type": "markdown",
   "metadata": {},
   "source": [
    "<p>This is how our reactions dataframe looks:</p>"
   ]
  },
  {
   "cell_type": "code",
   "execution_count": 28,
   "metadata": {},
   "outputs": [
    {
     "name": "stdout",
     "output_type": "stream",
     "text": [
      "                                         Reaction Link  Records  \\\n",
      "RID                                                               \n",
      "1    http://kinetics.nist.gov/kinetics/ReactionSear...        1   \n",
      "2    http://kinetics.nist.gov/kinetics/ReactionSear...        1   \n",
      "3    http://kinetics.nist.gov/kinetics/ReactionSear...        1   \n",
      "4    http://kinetics.nist.gov/kinetics/ReactionSear...        1   \n",
      "5    http://kinetics.nist.gov/kinetics/ReactionSear...        1   \n",
      "\n",
      "         Reactants            Products   Reactants_List       Products_List  \\\n",
      "RID                                                                           \n",
      "1    C2H5OCH=CHNH2  C2H4 + CH3NH2 + CO  [C2H5OCH=CHNH2]  [C2H4, CH3NH2, CO]   \n",
      "2           CBr3OF           CBr3 + OF         [CBr3OF]          [CBr3, OF]   \n",
      "3           CBr3OF     CBr3O(Â·) + Â·F         [CBr3OF]      [CBr3O(·), ·F]   \n",
      "4           CCl3OF         Â·F + CCl3O         [CCl3OF]         [·F, CCl3O]   \n",
      "5           CCl3OF         Â·CCl3 + OF         [CCl3OF]         [·CCl3, OF]   \n",
      "\n",
      "    Reactants_SIDs_List   Products_SIDs_List  \n",
      "RID                                           \n",
      "1                [4798]  [6858, 1824, 10801]  \n",
      "2               [10501]          [398, 5581]  \n",
      "3               [10501]         [3354, 2288]  \n",
      "4                [8531]         [2288, 5535]  \n",
      "5                [8531]         [4734, 5581]  \n"
     ]
    }
   ],
   "source": [
    "my_populator.print_from_hdf5(hdf5_store=\"PreliminaryOutput/DemoGenerated/DataDF.h5\", dataframe_key=\"Reactions\", lines=5)"
   ]
  },
  {
   "cell_type": "markdown",
   "metadata": {},
   "source": [
    "<h3>Assigning Scores to Individual Chemical Species.</h3>\n",
    "<p style=\"color: green;\">A <u>Score</u> is defined as <em>No. of times a species is occuring as a product and as a reactant<em>.</p>"
   ]
  },
  {
   "cell_type": "code",
   "execution_count": 29,
   "metadata": {},
   "outputs": [],
   "source": [
    "sp.Populator.status_check('PreliminaryOutput/DemoGenerated/DataDF.h5', 'Reactions', 'Species')"
   ]
  },
  {
   "cell_type": "markdown",
   "metadata": {},
   "source": [
    "<p>This is how our updated species dataframe looks:</p>"
   ]
  },
  {
   "cell_type": "code",
   "execution_count": 30,
   "metadata": {},
   "outputs": [
    {
     "name": "stdout",
     "output_type": "stream",
     "text": [
      "                            Species  Scores\n",
      "SID                                        \n",
      "0      Ethyl-2,2-dimethylpropionate       1\n",
      "1                        CH3SCH2CH2       2\n",
      "2    Cyclobutane-1,2-d2,(1S-trans)-       1\n",
      "3                                Mn       6\n",
      "4                           (CH3N)2       7\n",
      "5                               CDO       5\n",
      "6     (CH3)2CHCH2CH(CH2)CH2CH(CH3)2       1\n",
      "7         3-methyl-1,2-benzoquinone       1\n"
     ]
    }
   ],
   "source": [
    "my_populator.print_from_hdf5(hdf5_store=\"PreliminaryOutput/DemoGenerated/DataDF.h5\", dataframe_key=\"Species\", lines=8)"
   ]
  },
  {
   "cell_type": "markdown",
   "metadata": {},
   "source": [
    "<p> The HDF5 File doesn't delete the old content when we update a dataframe that was stored in it. The new content is appended to it while the old content remains. We have to manually get rid of the old content to keep the file size under control. For more info: http://pandas.pydata.org/pandas-docs/stable/io.html#delete-from-a-table</p>"
   ]
  },
  {
   "cell_type": "code",
   "execution_count": 31,
   "metadata": {},
   "outputs": [],
   "source": [
    "# Compress the present HDF5 file and replace it with the newer (smaller) version\n",
    "!ptrepack --chunkshape=auto --propindexes --complevel=9 --complib=blosc PreliminaryOutput/DemoGenerated/DataDF.h5 PreliminaryOutput/DemoGenerated/Comp_DataDF.h5\n",
    "import os\n",
    "os.remove(\"PreliminaryOutput/DemoGenerated/DataDF.h5\")\n",
    "os.rename(\"PreliminaryOutput/DemoGenerated/Comp_DataDF.h5\", \"PreliminaryOutput/DemoGenerated/DataDF.h5\")"
   ]
  },
  {
   "cell_type": "markdown",
   "metadata": {},
   "source": [
    "<hr>\n",
    "<h4 style=\"color: blue;\">Beyond this point, we manually dealt with the unique_reactants.tsv to fix some formatting issues. The data was again stored to kinetics.db. \n",
    "</h4>\n",
    "<hr>"
   ]
  },
  {
   "cell_type": "markdown",
   "metadata": {},
   "source": [
    "<h3>Importing our Source File for Reactant Dataset Augmentation</h3>"
   ]
  },
  {
   "cell_type": "code",
   "execution_count": 27,
   "metadata": {},
   "outputs": [],
   "source": [
    "import chemicalparser as cp"
   ]
  },
  {
   "cell_type": "markdown",
   "metadata": {},
   "source": [
    "<h3> Loading Reactants into a Pandas DataFrame and augmenting it with ChemiSpider API CSIDs</h3>"
   ]
  },
  {
   "cell_type": "code",
   "execution_count": 28,
   "metadata": {},
   "outputs": [
    {
     "name": "stderr",
     "output_type": "stream",
     "text": [
      "DEBUG:chemspipy.api:Initializing ChemSpider\n"
     ]
    },
    {
     "name": "stdout",
     "output_type": "stream",
     "text": [
      "----Status----\n",
      "Unique Reactants CSV Read\n",
      "----Status----\n",
      "ChemSpider Authetication Details Loaded.\n"
     ]
    }
   ],
   "source": [
    "myChemParser = cp.ChemicalParser(\"CleanedOutput/kineticsDB_ParentFiles/unique_reactants.csv\")"
   ]
  },
  {
   "cell_type": "markdown",
   "metadata": {},
   "source": [
    "<h4 style=\"color: red;\">We suggest terminating the below code as soon as you are convinced that it works. On our system, all the calls were completed in around 2 hours.</h4>"
   ]
  },
  {
   "cell_type": "code",
   "execution_count": 29,
   "metadata": {},
   "outputs": [
    {
     "name": "stderr",
     "output_type": "stream",
     "text": [
      "DEBUG:chemspipy.search:Results init\n",
      "DEBUG:chemspipy.search:Searching in background thread\n",
      "DEBUG:chemspipy.search:Waiting for search to finish\n",
      "DEBUG:chemspipy.api:Request: https://www.chemspider.com/Search.asmx/AsyncSimpleSearch {'query': \"5,5'-Bicyclopentadienyl\"}\n",
      "DEBUG:urllib3.connectionpool:Starting new HTTPS connection (1): www.chemspider.com\n",
      "DEBUG:urllib3.connectionpool:https://www.chemspider.com:443 \"POST /Search.asmx/AsyncSimpleSearch HTTP/1.1\" 200 128\n",
      "DEBUG:chemspipy.search:Setting rid: 0fc0ea3f-8197-4d61-8616-08d215aae3d7\n",
      "DEBUG:chemspipy.search:Checking status: 0fc0ea3f-8197-4d61-8616-08d215aae3d7\n",
      "DEBUG:chemspipy.api:Request: https://www.chemspider.com/Search.asmx/GetAsyncSearchStatusAndCount {'rid': '0fc0ea3f-8197-4d61-8616-08d215aae3d7'}\n",
      "DEBUG:urllib3.connectionpool:https://www.chemspider.com:443 \"POST /Search.asmx/GetAsyncSearchStatusAndCount HTTP/1.1\" 200 292\n",
      "DEBUG:chemspipy.search:{'status': 'Processing', 'count': 0, 'elapsed': '0:00:00.443'}\n",
      "DEBUG:chemspipy.search:Checking status: 0fc0ea3f-8197-4d61-8616-08d215aae3d7\n",
      "DEBUG:chemspipy.api:Request: https://www.chemspider.com/Search.asmx/GetAsyncSearchStatusAndCount {'rid': '0fc0ea3f-8197-4d61-8616-08d215aae3d7'}\n",
      "DEBUG:urllib3.connectionpool:https://www.chemspider.com:443 \"POST /Search.asmx/GetAsyncSearchStatusAndCount HTTP/1.1\" 200 383\n",
      "DEBUG:chemspipy.search:{'status': 'ResultReady', 'count': 1, 'message': 'Found by conversion query string to chemical structure (full match)', 'elapsed': '0:00:00.813'}\n",
      "DEBUG:chemspipy.search:Search success!\n",
      "DEBUG:chemspipy.api:Request: https://www.chemspider.com/Search.asmx/GetAsyncSearchResult {'rid': '0fc0ea3f-8197-4d61-8616-08d215aae3d7'}\n",
      "DEBUG:urllib3.connectionpool:https://www.chemspider.com:443 \"POST /Search.asmx/GetAsyncSearchResult HTTP/1.1\" 200 222\n",
      "DEBUG:chemspipy.search:Results: [Compound(499905)]\n",
      "DEBUG:chemspipy.search:Waiting for search to finish\n",
      "DEBUG:chemspipy.search:Waiting for search to finish\n",
      "DEBUG:chemspipy.search:Waiting for search to finish\n",
      "DEBUG:chemspipy.search:Waiting for search to finish\n",
      "DEBUG:chemspipy.search:Results init\n",
      "DEBUG:chemspipy.search:Searching in background thread\n",
      "DEBUG:chemspipy.search:Waiting for search to finish\n",
      "DEBUG:chemspipy.api:Request: https://www.chemspider.com/Search.asmx/AsyncSimpleSearch {'query': '1,2-Propanediol, dinitrate'}\n"
     ]
    },
    {
     "name": "stdout",
     "output_type": "stream",
     "text": [
      "0\n"
     ]
    },
    {
     "name": "stderr",
     "output_type": "stream",
     "text": [
      "DEBUG:urllib3.connectionpool:https://www.chemspider.com:443 \"POST /Search.asmx/AsyncSimpleSearch HTTP/1.1\" 200 128\n",
      "DEBUG:chemspipy.search:Setting rid: 10a9e744-8539-4041-af5b-df0e0c23379f\n",
      "DEBUG:chemspipy.search:Checking status: 10a9e744-8539-4041-af5b-df0e0c23379f\n",
      "DEBUG:chemspipy.api:Request: https://www.chemspider.com/Search.asmx/GetAsyncSearchStatusAndCount {'rid': '10a9e744-8539-4041-af5b-df0e0c23379f'}\n",
      "DEBUG:urllib3.connectionpool:https://www.chemspider.com:443 \"POST /Search.asmx/GetAsyncSearchStatusAndCount HTTP/1.1\" 200 341\n",
      "DEBUG:chemspipy.search:{'status': 'ResultReady', 'count': 1, 'message': 'Found by approved synonym', 'elapsed': '0:00:00.043'}\n",
      "DEBUG:chemspipy.search:Search success!\n",
      "DEBUG:chemspipy.api:Request: https://www.chemspider.com/Search.asmx/GetAsyncSearchResult {'rid': '10a9e744-8539-4041-af5b-df0e0c23379f'}\n",
      "DEBUG:urllib3.connectionpool:https://www.chemspider.com:443 \"POST /Search.asmx/GetAsyncSearchResult HTTP/1.1\" 200 221\n",
      "DEBUG:chemspipy.search:Results: [Compound(21472)]\n",
      "DEBUG:chemspipy.search:Waiting for search to finish\n",
      "DEBUG:chemspipy.search:Waiting for search to finish\n",
      "DEBUG:chemspipy.search:Waiting for search to finish\n",
      "DEBUG:chemspipy.search:Waiting for search to finish\n",
      "DEBUG:chemspipy.search:Results init\n",
      "DEBUG:chemspipy.search:Searching in background thread\n",
      "DEBUG:chemspipy.search:Waiting for search to finish\n",
      "DEBUG:chemspipy.api:Request: https://www.chemspider.com/Search.asmx/AsyncSimpleSearch {'query': '4-tert-butylphenoxyacetic acid'}\n"
     ]
    },
    {
     "name": "stdout",
     "output_type": "stream",
     "text": [
      "1\n"
     ]
    },
    {
     "name": "stderr",
     "output_type": "stream",
     "text": [
      "DEBUG:urllib3.connectionpool:https://www.chemspider.com:443 \"POST /Search.asmx/AsyncSimpleSearch HTTP/1.1\" 200 128\n",
      "DEBUG:chemspipy.search:Setting rid: a2e73773-31d9-4d69-b56f-fb1296e7dcfc\n",
      "DEBUG:chemspipy.search:Checking status: a2e73773-31d9-4d69-b56f-fb1296e7dcfc\n",
      "DEBUG:chemspipy.api:Request: https://www.chemspider.com/Search.asmx/GetAsyncSearchStatusAndCount {'rid': 'a2e73773-31d9-4d69-b56f-fb1296e7dcfc'}\n",
      "DEBUG:urllib3.connectionpool:https://www.chemspider.com:443 \"POST /Search.asmx/GetAsyncSearchStatusAndCount HTTP/1.1\" 200 332\n",
      "DEBUG:chemspipy.search:{'status': 'ResultReady', 'count': 1, 'message': 'Found by synonym', 'elapsed': '0:00:00.013'}\n",
      "DEBUG:chemspipy.search:Search success!\n",
      "DEBUG:chemspipy.api:Request: https://www.chemspider.com/Search.asmx/GetAsyncSearchResult {'rid': 'a2e73773-31d9-4d69-b56f-fb1296e7dcfc'}\n",
      "DEBUG:urllib3.connectionpool:https://www.chemspider.com:443 \"POST /Search.asmx/GetAsyncSearchResult HTTP/1.1\" 200 221\n",
      "DEBUG:chemspipy.search:Results: [Compound(14947)]\n"
     ]
    },
    {
     "ename": "KeyboardInterrupt",
     "evalue": "",
     "output_type": "error",
     "traceback": [
      "\u001b[1;31m---------------------------------------------------------------------------\u001b[0m",
      "\u001b[1;31mKeyboardInterrupt\u001b[0m                         Traceback (most recent call last)",
      "\u001b[1;32m<ipython-input-29-5245cd09d78a>\u001b[0m in \u001b[0;36m<module>\u001b[1;34m()\u001b[0m\n\u001b[1;32m----> 1\u001b[1;33m \u001b[0mmyChemParser\u001b[0m\u001b[1;33m.\u001b[0m\u001b[0mfetch_chemspider_result\u001b[0m\u001b[1;33m(\u001b[0m\u001b[1;33m)\u001b[0m  \u001b[1;31m# Making the API calls to ChemSpider\u001b[0m\u001b[1;33m\u001b[0m\u001b[0m\n\u001b[0m",
      "\u001b[1;32mG:\\References\\MS1\\Spring2018\\CHBE\\Project\\WorkflowDemo\\chemicalparser.py\u001b[0m in \u001b[0;36mfetch_chemspider_result\u001b[1;34m(self)\u001b[0m\n\u001b[0;32m     50\u001b[0m             \u001b[0mout_result\u001b[0m \u001b[1;33m=\u001b[0m \u001b[0mself\u001b[0m\u001b[1;33m.\u001b[0m\u001b[0mcs\u001b[0m\u001b[1;33m.\u001b[0m\u001b[0msearch\u001b[0m\u001b[1;33m(\u001b[0m\u001b[0mrow\u001b[0m\u001b[1;33m[\u001b[0m\u001b[1;34m'Reactant'\u001b[0m\u001b[1;33m]\u001b[0m\u001b[1;33m)\u001b[0m  \u001b[1;31m# Requesting the ChemSpider API\u001b[0m\u001b[1;33m\u001b[0m\u001b[0m\n\u001b[0;32m     51\u001b[0m             \u001b[1;31m# for info on the input reactant\u001b[0m\u001b[1;33m\u001b[0m\u001b[1;33m\u001b[0m\u001b[0m\n\u001b[1;32m---> 52\u001b[1;33m             \u001b[0mout_result\u001b[0m\u001b[1;33m.\u001b[0m\u001b[0mwait\u001b[0m\u001b[1;33m(\u001b[0m\u001b[1;33m)\u001b[0m  \u001b[1;31m# Waiting until the API response is completely received\u001b[0m\u001b[1;33m\u001b[0m\u001b[0m\n\u001b[0m\u001b[0;32m     53\u001b[0m \u001b[1;33m\u001b[0m\u001b[0m\n\u001b[0;32m     54\u001b[0m             \u001b[0mresult_length\u001b[0m \u001b[1;33m=\u001b[0m \u001b[0mlen\u001b[0m\u001b[1;33m(\u001b[0m\u001b[0mlist\u001b[0m\u001b[1;33m(\u001b[0m\u001b[0mout_result\u001b[0m\u001b[1;33m)\u001b[0m\u001b[1;33m)\u001b[0m  \u001b[1;31m# Number of matches for a particular query\u001b[0m\u001b[1;33m\u001b[0m\u001b[0m\n",
      "\u001b[1;32mc:\\users\\maneet\\appdata\\local\\programs\\python\\python36\\lib\\site-packages\\chemspipy\\search.py\u001b[0m in \u001b[0;36mwait\u001b[1;34m(self)\u001b[0m\n\u001b[0;32m    106\u001b[0m         \u001b[1;34m\"\"\"Block until the search has completed and optionally raise any resulting exception.\"\"\"\u001b[0m\u001b[1;33m\u001b[0m\u001b[0m\n\u001b[0;32m    107\u001b[0m         \u001b[0mlog\u001b[0m\u001b[1;33m.\u001b[0m\u001b[0mdebug\u001b[0m\u001b[1;33m(\u001b[0m\u001b[1;34m'Waiting for search to finish'\u001b[0m\u001b[1;33m)\u001b[0m\u001b[1;33m\u001b[0m\u001b[0m\n\u001b[1;32m--> 108\u001b[1;33m         \u001b[0mself\u001b[0m\u001b[1;33m.\u001b[0m\u001b[0m_searchthread\u001b[0m\u001b[1;33m.\u001b[0m\u001b[0mjoin\u001b[0m\u001b[1;33m(\u001b[0m\u001b[1;33m)\u001b[0m\u001b[1;33m\u001b[0m\u001b[0m\n\u001b[0m\u001b[0;32m    109\u001b[0m         \u001b[1;32mif\u001b[0m \u001b[0mself\u001b[0m\u001b[1;33m.\u001b[0m\u001b[0m_exception\u001b[0m \u001b[1;32mand\u001b[0m \u001b[0mself\u001b[0m\u001b[1;33m.\u001b[0m\u001b[0m_raise_errors\u001b[0m\u001b[1;33m:\u001b[0m\u001b[1;33m\u001b[0m\u001b[0m\n\u001b[0;32m    110\u001b[0m             \u001b[1;32mraise\u001b[0m \u001b[0mself\u001b[0m\u001b[1;33m.\u001b[0m\u001b[0m_exception\u001b[0m\u001b[1;33m\u001b[0m\u001b[0m\n",
      "\u001b[1;32mc:\\users\\maneet\\appdata\\local\\programs\\python\\python36\\lib\\threading.py\u001b[0m in \u001b[0;36mjoin\u001b[1;34m(self, timeout)\u001b[0m\n\u001b[0;32m   1054\u001b[0m \u001b[1;33m\u001b[0m\u001b[0m\n\u001b[0;32m   1055\u001b[0m         \u001b[1;32mif\u001b[0m \u001b[0mtimeout\u001b[0m \u001b[1;32mis\u001b[0m \u001b[1;32mNone\u001b[0m\u001b[1;33m:\u001b[0m\u001b[1;33m\u001b[0m\u001b[0m\n\u001b[1;32m-> 1056\u001b[1;33m             \u001b[0mself\u001b[0m\u001b[1;33m.\u001b[0m\u001b[0m_wait_for_tstate_lock\u001b[0m\u001b[1;33m(\u001b[0m\u001b[1;33m)\u001b[0m\u001b[1;33m\u001b[0m\u001b[0m\n\u001b[0m\u001b[0;32m   1057\u001b[0m         \u001b[1;32melse\u001b[0m\u001b[1;33m:\u001b[0m\u001b[1;33m\u001b[0m\u001b[0m\n\u001b[0;32m   1058\u001b[0m             \u001b[1;31m# the behavior of a negative timeout isn't documented, but\u001b[0m\u001b[1;33m\u001b[0m\u001b[1;33m\u001b[0m\u001b[0m\n",
      "\u001b[1;32mc:\\users\\maneet\\appdata\\local\\programs\\python\\python36\\lib\\threading.py\u001b[0m in \u001b[0;36m_wait_for_tstate_lock\u001b[1;34m(self, block, timeout)\u001b[0m\n\u001b[0;32m   1070\u001b[0m         \u001b[1;32mif\u001b[0m \u001b[0mlock\u001b[0m \u001b[1;32mis\u001b[0m \u001b[1;32mNone\u001b[0m\u001b[1;33m:\u001b[0m  \u001b[1;31m# already determined that the C code is done\u001b[0m\u001b[1;33m\u001b[0m\u001b[0m\n\u001b[0;32m   1071\u001b[0m             \u001b[1;32massert\u001b[0m \u001b[0mself\u001b[0m\u001b[1;33m.\u001b[0m\u001b[0m_is_stopped\u001b[0m\u001b[1;33m\u001b[0m\u001b[0m\n\u001b[1;32m-> 1072\u001b[1;33m         \u001b[1;32melif\u001b[0m \u001b[0mlock\u001b[0m\u001b[1;33m.\u001b[0m\u001b[0macquire\u001b[0m\u001b[1;33m(\u001b[0m\u001b[0mblock\u001b[0m\u001b[1;33m,\u001b[0m \u001b[0mtimeout\u001b[0m\u001b[1;33m)\u001b[0m\u001b[1;33m:\u001b[0m\u001b[1;33m\u001b[0m\u001b[0m\n\u001b[0m\u001b[0;32m   1073\u001b[0m             \u001b[0mlock\u001b[0m\u001b[1;33m.\u001b[0m\u001b[0mrelease\u001b[0m\u001b[1;33m(\u001b[0m\u001b[1;33m)\u001b[0m\u001b[1;33m\u001b[0m\u001b[0m\n\u001b[0;32m   1074\u001b[0m             \u001b[0mself\u001b[0m\u001b[1;33m.\u001b[0m\u001b[0m_stop\u001b[0m\u001b[1;33m(\u001b[0m\u001b[1;33m)\u001b[0m\u001b[1;33m\u001b[0m\u001b[0m\n",
      "\u001b[1;31mKeyboardInterrupt\u001b[0m: "
     ]
    }
   ],
   "source": [
    "myChemParser.fetch_chemspider_result()  # Making the API calls to ChemSpider"
   ]
  },
  {
   "cell_type": "markdown",
   "metadata": {},
   "source": [
    "<h3>Storing the DataFrame into a HDF5 File for later use</h3>"
   ]
  },
  {
   "cell_type": "code",
   "execution_count": null,
   "metadata": {},
   "outputs": [],
   "source": [
    "# myChemParser.store_to_hdf5(\"reactant_df.h5\")  # Dont run this if the above code wasn't run till completion."
   ]
  },
  {
   "cell_type": "markdown",
   "metadata": {},
   "source": [
    "<h3> Exporting the DataFrame to CSV for Use in OpenRefine </h3>"
   ]
  },
  {
   "cell_type": "code",
   "execution_count": 4,
   "metadata": {},
   "outputs": [],
   "source": [
    "myChemParser.hdf5_df_to_csv(\"PreliminaryOutput/reactant_df.h5\", \"reac_df\", \"PreliminaryOutput/augemented_reac_df.csv\")"
   ]
  },
  {
   "cell_type": "markdown",
   "metadata": {},
   "source": [
    "<hr>\n",
    "<h4 style=\"color: blue;\">Now, we manually deal with the <strong>augemented_reac_df.csv</strong> to do club same data with alternate reprsentations and for more uniform classification. The cleaned data was again exported to another csv. \n",
    "</h4>\n",
    "<hr>"
   ]
  },
  {
   "cell_type": "markdown",
   "metadata": {},
   "source": [
    "<h3>Reads cleaned CSV into Pandas dataframe, augment it with SMILE strings and MOLD2D data</h3>"
   ]
  },
  {
   "cell_type": "markdown",
   "metadata": {},
   "source": [
    "<h4 style=\"color: red;\">We suggest terminating the below code as soon as you are convinced that it works. On our system, all the calls were completed in around 2 hours.</h4>"
   ]
  },
  {
   "cell_type": "code",
   "execution_count": 19,
   "metadata": {},
   "outputs": [
    {
     "name": "stderr",
     "output_type": "stream",
     "text": [
      "DEBUG:chemspipy.api:Request: https://www.chemspider.com/InChI.asmx/CSIDToMol {'csid': 499905}\n",
      "DEBUG:urllib3.connectionpool:Resetting dropped connection: www.chemspider.com\n",
      "DEBUG:urllib3.connectionpool:https://www.chemspider.com:443 \"POST /InChI.asmx/CSIDToMol HTTP/1.1\" 200 None\n",
      "DEBUG:chemspipy.api:Request: https://www.chemspider.com/InChI.asmx/CSIDToMol {'csid': 21472}\n",
      "DEBUG:urllib3.connectionpool:https://www.chemspider.com:443 \"POST /InChI.asmx/CSIDToMol HTTP/1.1\" 200 None\n",
      "DEBUG:chemspipy.api:Request: https://www.chemspider.com/InChI.asmx/CSIDToMol {'csid': 129377}\n"
     ]
    },
    {
     "name": "stdout",
     "output_type": "stream",
     "text": [
      "0\n",
      "1\n"
     ]
    },
    {
     "name": "stderr",
     "output_type": "stream",
     "text": [
      "DEBUG:urllib3.connectionpool:https://www.chemspider.com:443 \"POST /InChI.asmx/CSIDToMol HTTP/1.1\" 200 None\n",
      "DEBUG:chemspipy.api:Request: https://www.chemspider.com/InChI.asmx/CSIDToMol {'csid': 120497}\n"
     ]
    },
    {
     "name": "stdout",
     "output_type": "stream",
     "text": [
      "4\n"
     ]
    },
    {
     "name": "stderr",
     "output_type": "stream",
     "text": [
      "DEBUG:urllib3.connectionpool:https://www.chemspider.com:443 \"POST /InChI.asmx/CSIDToMol HTTP/1.1\" 200 None\n",
      "DEBUG:chemspipy.api:Request: https://www.chemspider.com/InChI.asmx/CSIDToMol {'csid': 9317711}\n"
     ]
    },
    {
     "name": "stdout",
     "output_type": "stream",
     "text": [
      "12\n"
     ]
    },
    {
     "name": "stderr",
     "output_type": "stream",
     "text": [
      "DEBUG:urllib3.connectionpool:https://www.chemspider.com:443 \"POST /InChI.asmx/CSIDToMol HTTP/1.1\" 200 None\n",
      "DEBUG:chemspipy.api:Request: https://www.chemspider.com/InChI.asmx/CSIDToMol {'csid': 217}\n",
      "DEBUG:urllib3.connectionpool:https://www.chemspider.com:443 \"POST /InChI.asmx/CSIDToMol HTTP/1.1\" 200 240\n",
      "DEBUG:chemspipy.api:Request: https://www.chemspider.com/InChI.asmx/CSIDToMol {'csid': 137749}\n"
     ]
    },
    {
     "name": "stdout",
     "output_type": "stream",
     "text": [
      "14\n",
      "17\n"
     ]
    },
    {
     "name": "stderr",
     "output_type": "stream",
     "text": [
      "DEBUG:urllib3.connectionpool:https://www.chemspider.com:443 \"POST /InChI.asmx/CSIDToMol HTTP/1.1\" 200 723\n",
      "DEBUG:chemspipy.api:Request: https://www.chemspider.com/InChI.asmx/CSIDToMol {'csid': 9645}\n",
      "DEBUG:urllib3.connectionpool:https://www.chemspider.com:443 \"POST /InChI.asmx/CSIDToMol HTTP/1.1\" 200 522\n",
      "DEBUG:chemspipy.api:Request: https://www.chemspider.com/InChI.asmx/CSIDToMol {'csid': 7605}\n"
     ]
    },
    {
     "name": "stdout",
     "output_type": "stream",
     "text": [
      "23\n",
      "25\n"
     ]
    },
    {
     "name": "stderr",
     "output_type": "stream",
     "text": [
      "DEBUG:urllib3.connectionpool:https://www.chemspider.com:443 \"POST /InChI.asmx/CSIDToMol HTTP/1.1\" 200 710\n",
      "DEBUG:chemspipy.api:Request: https://www.chemspider.com/InChI.asmx/CSIDToMol {'csid': 9911}\n"
     ]
    },
    {
     "name": "stdout",
     "output_type": "stream",
     "text": [
      "26\n"
     ]
    },
    {
     "name": "stderr",
     "output_type": "stream",
     "text": [
      "DEBUG:urllib3.connectionpool:https://www.chemspider.com:443 \"POST /InChI.asmx/CSIDToMol HTTP/1.1\" 200 None\n",
      "DEBUG:chemspipy.api:Request: https://www.chemspider.com/InChI.asmx/CSIDToMol {'csid': 441}\n"
     ]
    },
    {
     "name": "stdout",
     "output_type": "stream",
     "text": [
      "28\n"
     ]
    },
    {
     "ename": "KeyboardInterrupt",
     "evalue": "",
     "output_type": "error",
     "traceback": [
      "\u001b[1;31m---------------------------------------------------------------------------\u001b[0m",
      "\u001b[1;31mTypeError\u001b[0m                                 Traceback (most recent call last)",
      "\u001b[1;32mc:\\users\\maneet\\appdata\\local\\programs\\python\\python36\\lib\\site-packages\\urllib3\\connectionpool.py\u001b[0m in \u001b[0;36m_make_request\u001b[1;34m(self, conn, method, url, timeout, chunked, **httplib_request_kw)\u001b[0m\n\u001b[0;32m    379\u001b[0m             \u001b[1;32mtry\u001b[0m\u001b[1;33m:\u001b[0m  \u001b[1;31m# Python 2.7, use buffering of HTTP responses\u001b[0m\u001b[1;33m\u001b[0m\u001b[0m\n\u001b[1;32m--> 380\u001b[1;33m                 \u001b[0mhttplib_response\u001b[0m \u001b[1;33m=\u001b[0m \u001b[0mconn\u001b[0m\u001b[1;33m.\u001b[0m\u001b[0mgetresponse\u001b[0m\u001b[1;33m(\u001b[0m\u001b[0mbuffering\u001b[0m\u001b[1;33m=\u001b[0m\u001b[1;32mTrue\u001b[0m\u001b[1;33m)\u001b[0m\u001b[1;33m\u001b[0m\u001b[0m\n\u001b[0m\u001b[0;32m    381\u001b[0m             \u001b[1;32mexcept\u001b[0m \u001b[0mTypeError\u001b[0m\u001b[1;33m:\u001b[0m  \u001b[1;31m# Python 2.6 and older, Python 3\u001b[0m\u001b[1;33m\u001b[0m\u001b[0m\n",
      "\u001b[1;31mTypeError\u001b[0m: getresponse() got an unexpected keyword argument 'buffering'",
      "\nDuring handling of the above exception, another exception occurred:\n",
      "\u001b[1;31mKeyboardInterrupt\u001b[0m                         Traceback (most recent call last)",
      "\u001b[1;32m<ipython-input-19-4d97657639bf>\u001b[0m in \u001b[0;36m<module>\u001b[1;34m()\u001b[0m\n\u001b[1;32m----> 1\u001b[1;33m \u001b[0mmyChemParser\u001b[0m\u001b[1;33m.\u001b[0m\u001b[0msmile_it\u001b[0m\u001b[1;33m(\u001b[0m\u001b[1;34m\"CleanedOutput/augmented_reac_df_cleaned.csv\"\u001b[0m\u001b[1;33m,\u001b[0m \u001b[1;34m\"mol2d_df\"\u001b[0m\u001b[1;33m,\u001b[0m \u001b[1;34m\"reactant_df.h5\"\u001b[0m\u001b[1;33m)\u001b[0m  \u001b[1;31m# Stored in a Dataframe\u001b[0m\u001b[1;33m\u001b[0m\u001b[0m\n\u001b[0m",
      "\u001b[1;32mG:\\References\\MS1\\Spring2018\\CHBE\\Project\\WorkflowDemo\\chemicalparser.py\u001b[0m in \u001b[0;36msmile_it\u001b[1;34m(self, cleaned_csv_path, output_dataframe_name, hdf5_file_name)\u001b[0m\n\u001b[0;32m    137\u001b[0m                     \u001b[1;32mtry\u001b[0m\u001b[1;33m:\u001b[0m\u001b[1;33m\u001b[0m\u001b[0m\n\u001b[0;32m    138\u001b[0m                         \u001b[1;31m# extended_info[rid] = str(self.cs.get_extended_compound_info(under_radar[0]))\u001b[0m\u001b[1;33m\u001b[0m\u001b[1;33m\u001b[0m\u001b[0m\n\u001b[1;32m--> 139\u001b[1;33m                         \u001b[0mmol2d_data\u001b[0m\u001b[1;33m[\u001b[0m\u001b[0mrid\u001b[0m\u001b[1;33m]\u001b[0m \u001b[1;33m=\u001b[0m \u001b[0mself\u001b[0m\u001b[1;33m.\u001b[0m\u001b[0mcs\u001b[0m\u001b[1;33m.\u001b[0m\u001b[0mget_original_mol\u001b[0m\u001b[1;33m(\u001b[0m\u001b[0munder_radar\u001b[0m\u001b[1;33m[\u001b[0m\u001b[1;36m0\u001b[0m\u001b[1;33m]\u001b[0m\u001b[1;33m)\u001b[0m\u001b[1;33m\u001b[0m\u001b[0m\n\u001b[0m\u001b[0;32m    140\u001b[0m                         \u001b[1;31m# mol2d_data[rid] = self.cs.get_record_mol(under_radar[0], False)\u001b[0m\u001b[1;33m\u001b[0m\u001b[1;33m\u001b[0m\u001b[0m\n\u001b[0;32m    141\u001b[0m                         \u001b[0mprint\u001b[0m\u001b[1;33m(\u001b[0m\u001b[0mrid\u001b[0m\u001b[1;33m)\u001b[0m  \u001b[1;31m# Status check\u001b[0m\u001b[1;33m\u001b[0m\u001b[0m\n",
      "\u001b[1;32mc:\\users\\maneet\\appdata\\local\\programs\\python\\python36\\lib\\site-packages\\chemspipy\\api.py\u001b[0m in \u001b[0;36mget_original_mol\u001b[1;34m(self, csid)\u001b[0m\n\u001b[0;32m    478\u001b[0m         \u001b[1;33m:\u001b[0m\u001b[0mparam\u001b[0m \u001b[0mstring\u001b[0m\u001b[1;33m|\u001b[0m\u001b[0mint\u001b[0m \u001b[0mcsid\u001b[0m\u001b[1;33m:\u001b[0m \u001b[0mChemSpider\u001b[0m \u001b[0mID\u001b[0m\u001b[1;33m.\u001b[0m\u001b[1;33m\u001b[0m\u001b[0m\n\u001b[0;32m    479\u001b[0m         \"\"\"\n\u001b[1;32m--> 480\u001b[1;33m         \u001b[0mresponse\u001b[0m \u001b[1;33m=\u001b[0m \u001b[0mself\u001b[0m\u001b[1;33m.\u001b[0m\u001b[0mrequest\u001b[0m\u001b[1;33m(\u001b[0m\u001b[1;34m'InChI'\u001b[0m\u001b[1;33m,\u001b[0m \u001b[1;34m'CSIDToMol'\u001b[0m\u001b[1;33m,\u001b[0m \u001b[0mcsid\u001b[0m\u001b[1;33m=\u001b[0m\u001b[0mcsid\u001b[0m\u001b[1;33m)\u001b[0m\u001b[1;33m\u001b[0m\u001b[0m\n\u001b[0m\u001b[0;32m    481\u001b[0m         \u001b[1;32mreturn\u001b[0m \u001b[0mresponse\u001b[0m\u001b[1;33m.\u001b[0m\u001b[0mtext\u001b[0m\u001b[1;33m\u001b[0m\u001b[0m\n\u001b[0;32m    482\u001b[0m \u001b[1;33m\u001b[0m\u001b[0m\n",
      "\u001b[1;32mc:\\users\\maneet\\appdata\\local\\programs\\python\\python36\\lib\\site-packages\\chemspipy\\api.py\u001b[0m in \u001b[0;36mrequest\u001b[1;34m(self, api, endpoint, **params)\u001b[0m\n\u001b[0;32m    156\u001b[0m         \u001b[0mparams\u001b[0m\u001b[1;33m[\u001b[0m\u001b[1;34m'token'\u001b[0m\u001b[1;33m]\u001b[0m \u001b[1;33m=\u001b[0m \u001b[0mself\u001b[0m\u001b[1;33m.\u001b[0m\u001b[0msecurity_token\u001b[0m\u001b[1;33m\u001b[0m\u001b[0m\n\u001b[0;32m    157\u001b[0m         \u001b[1;32mtry\u001b[0m\u001b[1;33m:\u001b[0m\u001b[1;33m\u001b[0m\u001b[0m\n\u001b[1;32m--> 158\u001b[1;33m             \u001b[0mresponse\u001b[0m \u001b[1;33m=\u001b[0m \u001b[0mself\u001b[0m\u001b[1;33m.\u001b[0m\u001b[0mhttp\u001b[0m\u001b[1;33m.\u001b[0m\u001b[0mpost\u001b[0m\u001b[1;33m(\u001b[0m\u001b[0murl\u001b[0m\u001b[1;33m,\u001b[0m \u001b[0mdata\u001b[0m\u001b[1;33m=\u001b[0m\u001b[0mparams\u001b[0m\u001b[1;33m)\u001b[0m\u001b[1;33m\u001b[0m\u001b[0m\n\u001b[0m\u001b[0;32m    159\u001b[0m         \u001b[1;32mexcept\u001b[0m \u001b[0mrequests\u001b[0m\u001b[1;33m.\u001b[0m\u001b[0mRequestException\u001b[0m \u001b[1;32mas\u001b[0m \u001b[0me\u001b[0m\u001b[1;33m:\u001b[0m\u001b[1;33m\u001b[0m\u001b[0m\n\u001b[0;32m    160\u001b[0m             \u001b[1;32mraise\u001b[0m \u001b[0mChemSpiPyError\u001b[0m\u001b[1;33m(\u001b[0m\u001b[0msix\u001b[0m\u001b[1;33m.\u001b[0m\u001b[0mtext_type\u001b[0m\u001b[1;33m(\u001b[0m\u001b[0me\u001b[0m\u001b[1;33m)\u001b[0m\u001b[1;33m)\u001b[0m\u001b[1;33m\u001b[0m\u001b[0m\n",
      "\u001b[1;32mc:\\users\\maneet\\appdata\\local\\programs\\python\\python36\\lib\\site-packages\\requests\\sessions.py\u001b[0m in \u001b[0;36mpost\u001b[1;34m(self, url, data, json, **kwargs)\u001b[0m\n\u001b[0;32m    553\u001b[0m         \"\"\"\n\u001b[0;32m    554\u001b[0m \u001b[1;33m\u001b[0m\u001b[0m\n\u001b[1;32m--> 555\u001b[1;33m         \u001b[1;32mreturn\u001b[0m \u001b[0mself\u001b[0m\u001b[1;33m.\u001b[0m\u001b[0mrequest\u001b[0m\u001b[1;33m(\u001b[0m\u001b[1;34m'POST'\u001b[0m\u001b[1;33m,\u001b[0m \u001b[0murl\u001b[0m\u001b[1;33m,\u001b[0m \u001b[0mdata\u001b[0m\u001b[1;33m=\u001b[0m\u001b[0mdata\u001b[0m\u001b[1;33m,\u001b[0m \u001b[0mjson\u001b[0m\u001b[1;33m=\u001b[0m\u001b[0mjson\u001b[0m\u001b[1;33m,\u001b[0m \u001b[1;33m**\u001b[0m\u001b[0mkwargs\u001b[0m\u001b[1;33m)\u001b[0m\u001b[1;33m\u001b[0m\u001b[0m\n\u001b[0m\u001b[0;32m    556\u001b[0m \u001b[1;33m\u001b[0m\u001b[0m\n\u001b[0;32m    557\u001b[0m     \u001b[1;32mdef\u001b[0m \u001b[0mput\u001b[0m\u001b[1;33m(\u001b[0m\u001b[0mself\u001b[0m\u001b[1;33m,\u001b[0m \u001b[0murl\u001b[0m\u001b[1;33m,\u001b[0m \u001b[0mdata\u001b[0m\u001b[1;33m=\u001b[0m\u001b[1;32mNone\u001b[0m\u001b[1;33m,\u001b[0m \u001b[1;33m**\u001b[0m\u001b[0mkwargs\u001b[0m\u001b[1;33m)\u001b[0m\u001b[1;33m:\u001b[0m\u001b[1;33m\u001b[0m\u001b[0m\n",
      "\u001b[1;32mc:\\users\\maneet\\appdata\\local\\programs\\python\\python36\\lib\\site-packages\\requests\\sessions.py\u001b[0m in \u001b[0;36mrequest\u001b[1;34m(self, method, url, params, data, headers, cookies, files, auth, timeout, allow_redirects, proxies, hooks, stream, verify, cert, json)\u001b[0m\n\u001b[0;32m    506\u001b[0m         }\n\u001b[0;32m    507\u001b[0m         \u001b[0msend_kwargs\u001b[0m\u001b[1;33m.\u001b[0m\u001b[0mupdate\u001b[0m\u001b[1;33m(\u001b[0m\u001b[0msettings\u001b[0m\u001b[1;33m)\u001b[0m\u001b[1;33m\u001b[0m\u001b[0m\n\u001b[1;32m--> 508\u001b[1;33m         \u001b[0mresp\u001b[0m \u001b[1;33m=\u001b[0m \u001b[0mself\u001b[0m\u001b[1;33m.\u001b[0m\u001b[0msend\u001b[0m\u001b[1;33m(\u001b[0m\u001b[0mprep\u001b[0m\u001b[1;33m,\u001b[0m \u001b[1;33m**\u001b[0m\u001b[0msend_kwargs\u001b[0m\u001b[1;33m)\u001b[0m\u001b[1;33m\u001b[0m\u001b[0m\n\u001b[0m\u001b[0;32m    509\u001b[0m \u001b[1;33m\u001b[0m\u001b[0m\n\u001b[0;32m    510\u001b[0m         \u001b[1;32mreturn\u001b[0m \u001b[0mresp\u001b[0m\u001b[1;33m\u001b[0m\u001b[0m\n",
      "\u001b[1;32mc:\\users\\maneet\\appdata\\local\\programs\\python\\python36\\lib\\site-packages\\requests\\sessions.py\u001b[0m in \u001b[0;36msend\u001b[1;34m(self, request, **kwargs)\u001b[0m\n\u001b[0;32m    616\u001b[0m \u001b[1;33m\u001b[0m\u001b[0m\n\u001b[0;32m    617\u001b[0m         \u001b[1;31m# Send the request\u001b[0m\u001b[1;33m\u001b[0m\u001b[1;33m\u001b[0m\u001b[0m\n\u001b[1;32m--> 618\u001b[1;33m         \u001b[0mr\u001b[0m \u001b[1;33m=\u001b[0m \u001b[0madapter\u001b[0m\u001b[1;33m.\u001b[0m\u001b[0msend\u001b[0m\u001b[1;33m(\u001b[0m\u001b[0mrequest\u001b[0m\u001b[1;33m,\u001b[0m \u001b[1;33m**\u001b[0m\u001b[0mkwargs\u001b[0m\u001b[1;33m)\u001b[0m\u001b[1;33m\u001b[0m\u001b[0m\n\u001b[0m\u001b[0;32m    619\u001b[0m \u001b[1;33m\u001b[0m\u001b[0m\n\u001b[0;32m    620\u001b[0m         \u001b[1;31m# Total elapsed time of the request (approximately)\u001b[0m\u001b[1;33m\u001b[0m\u001b[1;33m\u001b[0m\u001b[0m\n",
      "\u001b[1;32mc:\\users\\maneet\\appdata\\local\\programs\\python\\python36\\lib\\site-packages\\requests\\adapters.py\u001b[0m in \u001b[0;36msend\u001b[1;34m(self, request, stream, timeout, verify, cert, proxies)\u001b[0m\n\u001b[0;32m    438\u001b[0m                     \u001b[0mdecode_content\u001b[0m\u001b[1;33m=\u001b[0m\u001b[1;32mFalse\u001b[0m\u001b[1;33m,\u001b[0m\u001b[1;33m\u001b[0m\u001b[0m\n\u001b[0;32m    439\u001b[0m                     \u001b[0mretries\u001b[0m\u001b[1;33m=\u001b[0m\u001b[0mself\u001b[0m\u001b[1;33m.\u001b[0m\u001b[0mmax_retries\u001b[0m\u001b[1;33m,\u001b[0m\u001b[1;33m\u001b[0m\u001b[0m\n\u001b[1;32m--> 440\u001b[1;33m                     \u001b[0mtimeout\u001b[0m\u001b[1;33m=\u001b[0m\u001b[0mtimeout\u001b[0m\u001b[1;33m\u001b[0m\u001b[0m\n\u001b[0m\u001b[0;32m    441\u001b[0m                 )\n\u001b[0;32m    442\u001b[0m \u001b[1;33m\u001b[0m\u001b[0m\n",
      "\u001b[1;32mc:\\users\\maneet\\appdata\\local\\programs\\python\\python36\\lib\\site-packages\\urllib3\\connectionpool.py\u001b[0m in \u001b[0;36murlopen\u001b[1;34m(self, method, url, body, headers, retries, redirect, assert_same_host, timeout, pool_timeout, release_conn, chunked, body_pos, **response_kw)\u001b[0m\n\u001b[0;32m    599\u001b[0m                                                   \u001b[0mtimeout\u001b[0m\u001b[1;33m=\u001b[0m\u001b[0mtimeout_obj\u001b[0m\u001b[1;33m,\u001b[0m\u001b[1;33m\u001b[0m\u001b[0m\n\u001b[0;32m    600\u001b[0m                                                   \u001b[0mbody\u001b[0m\u001b[1;33m=\u001b[0m\u001b[0mbody\u001b[0m\u001b[1;33m,\u001b[0m \u001b[0mheaders\u001b[0m\u001b[1;33m=\u001b[0m\u001b[0mheaders\u001b[0m\u001b[1;33m,\u001b[0m\u001b[1;33m\u001b[0m\u001b[0m\n\u001b[1;32m--> 601\u001b[1;33m                                                   chunked=chunked)\n\u001b[0m\u001b[0;32m    602\u001b[0m \u001b[1;33m\u001b[0m\u001b[0m\n\u001b[0;32m    603\u001b[0m             \u001b[1;31m# If we're going to release the connection in ``finally:``, then\u001b[0m\u001b[1;33m\u001b[0m\u001b[1;33m\u001b[0m\u001b[0m\n",
      "\u001b[1;32mc:\\users\\maneet\\appdata\\local\\programs\\python\\python36\\lib\\site-packages\\urllib3\\connectionpool.py\u001b[0m in \u001b[0;36m_make_request\u001b[1;34m(self, conn, method, url, timeout, chunked, **httplib_request_kw)\u001b[0m\n\u001b[0;32m    381\u001b[0m             \u001b[1;32mexcept\u001b[0m \u001b[0mTypeError\u001b[0m\u001b[1;33m:\u001b[0m  \u001b[1;31m# Python 2.6 and older, Python 3\u001b[0m\u001b[1;33m\u001b[0m\u001b[0m\n\u001b[0;32m    382\u001b[0m                 \u001b[1;32mtry\u001b[0m\u001b[1;33m:\u001b[0m\u001b[1;33m\u001b[0m\u001b[0m\n\u001b[1;32m--> 383\u001b[1;33m                     \u001b[0mhttplib_response\u001b[0m \u001b[1;33m=\u001b[0m \u001b[0mconn\u001b[0m\u001b[1;33m.\u001b[0m\u001b[0mgetresponse\u001b[0m\u001b[1;33m(\u001b[0m\u001b[1;33m)\u001b[0m\u001b[1;33m\u001b[0m\u001b[0m\n\u001b[0m\u001b[0;32m    384\u001b[0m                 \u001b[1;32mexcept\u001b[0m \u001b[0mException\u001b[0m \u001b[1;32mas\u001b[0m \u001b[0me\u001b[0m\u001b[1;33m:\u001b[0m\u001b[1;33m\u001b[0m\u001b[0m\n\u001b[0;32m    385\u001b[0m                     \u001b[1;31m# Remove the TypeError from the exception chain in Python 3;\u001b[0m\u001b[1;33m\u001b[0m\u001b[1;33m\u001b[0m\u001b[0m\n",
      "\u001b[1;32mc:\\users\\maneet\\appdata\\local\\programs\\python\\python36\\lib\\http\\client.py\u001b[0m in \u001b[0;36mgetresponse\u001b[1;34m(self)\u001b[0m\n\u001b[0;32m   1329\u001b[0m         \u001b[1;32mtry\u001b[0m\u001b[1;33m:\u001b[0m\u001b[1;33m\u001b[0m\u001b[0m\n\u001b[0;32m   1330\u001b[0m             \u001b[1;32mtry\u001b[0m\u001b[1;33m:\u001b[0m\u001b[1;33m\u001b[0m\u001b[0m\n\u001b[1;32m-> 1331\u001b[1;33m                 \u001b[0mresponse\u001b[0m\u001b[1;33m.\u001b[0m\u001b[0mbegin\u001b[0m\u001b[1;33m(\u001b[0m\u001b[1;33m)\u001b[0m\u001b[1;33m\u001b[0m\u001b[0m\n\u001b[0m\u001b[0;32m   1332\u001b[0m             \u001b[1;32mexcept\u001b[0m \u001b[0mConnectionError\u001b[0m\u001b[1;33m:\u001b[0m\u001b[1;33m\u001b[0m\u001b[0m\n\u001b[0;32m   1333\u001b[0m                 \u001b[0mself\u001b[0m\u001b[1;33m.\u001b[0m\u001b[0mclose\u001b[0m\u001b[1;33m(\u001b[0m\u001b[1;33m)\u001b[0m\u001b[1;33m\u001b[0m\u001b[0m\n",
      "\u001b[1;32mc:\\users\\maneet\\appdata\\local\\programs\\python\\python36\\lib\\http\\client.py\u001b[0m in \u001b[0;36mbegin\u001b[1;34m(self)\u001b[0m\n\u001b[0;32m    319\u001b[0m             \u001b[1;32mraise\u001b[0m \u001b[0mUnknownProtocol\u001b[0m\u001b[1;33m(\u001b[0m\u001b[0mversion\u001b[0m\u001b[1;33m)\u001b[0m\u001b[1;33m\u001b[0m\u001b[0m\n\u001b[0;32m    320\u001b[0m \u001b[1;33m\u001b[0m\u001b[0m\n\u001b[1;32m--> 321\u001b[1;33m         \u001b[0mself\u001b[0m\u001b[1;33m.\u001b[0m\u001b[0mheaders\u001b[0m \u001b[1;33m=\u001b[0m \u001b[0mself\u001b[0m\u001b[1;33m.\u001b[0m\u001b[0mmsg\u001b[0m \u001b[1;33m=\u001b[0m \u001b[0mparse_headers\u001b[0m\u001b[1;33m(\u001b[0m\u001b[0mself\u001b[0m\u001b[1;33m.\u001b[0m\u001b[0mfp\u001b[0m\u001b[1;33m)\u001b[0m\u001b[1;33m\u001b[0m\u001b[0m\n\u001b[0m\u001b[0;32m    322\u001b[0m \u001b[1;33m\u001b[0m\u001b[0m\n\u001b[0;32m    323\u001b[0m         \u001b[1;32mif\u001b[0m \u001b[0mself\u001b[0m\u001b[1;33m.\u001b[0m\u001b[0mdebuglevel\u001b[0m \u001b[1;33m>\u001b[0m \u001b[1;36m0\u001b[0m\u001b[1;33m:\u001b[0m\u001b[1;33m\u001b[0m\u001b[0m\n",
      "\u001b[1;32mc:\\users\\maneet\\appdata\\local\\programs\\python\\python36\\lib\\http\\client.py\u001b[0m in \u001b[0;36mparse_headers\u001b[1;34m(fp, _class)\u001b[0m\n\u001b[0;32m    204\u001b[0m     \u001b[0mheaders\u001b[0m \u001b[1;33m=\u001b[0m \u001b[1;33m[\u001b[0m\u001b[1;33m]\u001b[0m\u001b[1;33m\u001b[0m\u001b[0m\n\u001b[0;32m    205\u001b[0m     \u001b[1;32mwhile\u001b[0m \u001b[1;32mTrue\u001b[0m\u001b[1;33m:\u001b[0m\u001b[1;33m\u001b[0m\u001b[0m\n\u001b[1;32m--> 206\u001b[1;33m         \u001b[0mline\u001b[0m \u001b[1;33m=\u001b[0m \u001b[0mfp\u001b[0m\u001b[1;33m.\u001b[0m\u001b[0mreadline\u001b[0m\u001b[1;33m(\u001b[0m\u001b[0m_MAXLINE\u001b[0m \u001b[1;33m+\u001b[0m \u001b[1;36m1\u001b[0m\u001b[1;33m)\u001b[0m\u001b[1;33m\u001b[0m\u001b[0m\n\u001b[0m\u001b[0;32m    207\u001b[0m         \u001b[1;32mif\u001b[0m \u001b[0mlen\u001b[0m\u001b[1;33m(\u001b[0m\u001b[0mline\u001b[0m\u001b[1;33m)\u001b[0m \u001b[1;33m>\u001b[0m \u001b[0m_MAXLINE\u001b[0m\u001b[1;33m:\u001b[0m\u001b[1;33m\u001b[0m\u001b[0m\n\u001b[0;32m    208\u001b[0m             \u001b[1;32mraise\u001b[0m \u001b[0mLineTooLong\u001b[0m\u001b[1;33m(\u001b[0m\u001b[1;34m\"header line\"\u001b[0m\u001b[1;33m)\u001b[0m\u001b[1;33m\u001b[0m\u001b[0m\n",
      "\u001b[1;32mc:\\users\\maneet\\appdata\\local\\programs\\python\\python36\\lib\\socket.py\u001b[0m in \u001b[0;36mreadinto\u001b[1;34m(self, b)\u001b[0m\n\u001b[0;32m    584\u001b[0m         \u001b[1;32mwhile\u001b[0m \u001b[1;32mTrue\u001b[0m\u001b[1;33m:\u001b[0m\u001b[1;33m\u001b[0m\u001b[0m\n\u001b[0;32m    585\u001b[0m             \u001b[1;32mtry\u001b[0m\u001b[1;33m:\u001b[0m\u001b[1;33m\u001b[0m\u001b[0m\n\u001b[1;32m--> 586\u001b[1;33m                 \u001b[1;32mreturn\u001b[0m \u001b[0mself\u001b[0m\u001b[1;33m.\u001b[0m\u001b[0m_sock\u001b[0m\u001b[1;33m.\u001b[0m\u001b[0mrecv_into\u001b[0m\u001b[1;33m(\u001b[0m\u001b[0mb\u001b[0m\u001b[1;33m)\u001b[0m\u001b[1;33m\u001b[0m\u001b[0m\n\u001b[0m\u001b[0;32m    587\u001b[0m             \u001b[1;32mexcept\u001b[0m \u001b[0mtimeout\u001b[0m\u001b[1;33m:\u001b[0m\u001b[1;33m\u001b[0m\u001b[0m\n\u001b[0;32m    588\u001b[0m                 \u001b[0mself\u001b[0m\u001b[1;33m.\u001b[0m\u001b[0m_timeout_occurred\u001b[0m \u001b[1;33m=\u001b[0m \u001b[1;32mTrue\u001b[0m\u001b[1;33m\u001b[0m\u001b[0m\n",
      "\u001b[1;32mc:\\users\\maneet\\appdata\\local\\programs\\python\\python36\\lib\\ssl.py\u001b[0m in \u001b[0;36mrecv_into\u001b[1;34m(self, buffer, nbytes, flags)\u001b[0m\n\u001b[0;32m   1007\u001b[0m                   \u001b[1;34m\"non-zero flags not allowed in calls to recv_into() on %s\"\u001b[0m \u001b[1;33m%\u001b[0m\u001b[1;33m\u001b[0m\u001b[0m\n\u001b[0;32m   1008\u001b[0m                   self.__class__)\n\u001b[1;32m-> 1009\u001b[1;33m             \u001b[1;32mreturn\u001b[0m \u001b[0mself\u001b[0m\u001b[1;33m.\u001b[0m\u001b[0mread\u001b[0m\u001b[1;33m(\u001b[0m\u001b[0mnbytes\u001b[0m\u001b[1;33m,\u001b[0m \u001b[0mbuffer\u001b[0m\u001b[1;33m)\u001b[0m\u001b[1;33m\u001b[0m\u001b[0m\n\u001b[0m\u001b[0;32m   1010\u001b[0m         \u001b[1;32melse\u001b[0m\u001b[1;33m:\u001b[0m\u001b[1;33m\u001b[0m\u001b[0m\n\u001b[0;32m   1011\u001b[0m             \u001b[1;32mreturn\u001b[0m \u001b[0msocket\u001b[0m\u001b[1;33m.\u001b[0m\u001b[0mrecv_into\u001b[0m\u001b[1;33m(\u001b[0m\u001b[0mself\u001b[0m\u001b[1;33m,\u001b[0m \u001b[0mbuffer\u001b[0m\u001b[1;33m,\u001b[0m \u001b[0mnbytes\u001b[0m\u001b[1;33m,\u001b[0m \u001b[0mflags\u001b[0m\u001b[1;33m)\u001b[0m\u001b[1;33m\u001b[0m\u001b[0m\n",
      "\u001b[1;32mc:\\users\\maneet\\appdata\\local\\programs\\python\\python36\\lib\\ssl.py\u001b[0m in \u001b[0;36mread\u001b[1;34m(self, len, buffer)\u001b[0m\n\u001b[0;32m    869\u001b[0m             \u001b[1;32mraise\u001b[0m \u001b[0mValueError\u001b[0m\u001b[1;33m(\u001b[0m\u001b[1;34m\"Read on closed or unwrapped SSL socket.\"\u001b[0m\u001b[1;33m)\u001b[0m\u001b[1;33m\u001b[0m\u001b[0m\n\u001b[0;32m    870\u001b[0m         \u001b[1;32mtry\u001b[0m\u001b[1;33m:\u001b[0m\u001b[1;33m\u001b[0m\u001b[0m\n\u001b[1;32m--> 871\u001b[1;33m             \u001b[1;32mreturn\u001b[0m \u001b[0mself\u001b[0m\u001b[1;33m.\u001b[0m\u001b[0m_sslobj\u001b[0m\u001b[1;33m.\u001b[0m\u001b[0mread\u001b[0m\u001b[1;33m(\u001b[0m\u001b[0mlen\u001b[0m\u001b[1;33m,\u001b[0m \u001b[0mbuffer\u001b[0m\u001b[1;33m)\u001b[0m\u001b[1;33m\u001b[0m\u001b[0m\n\u001b[0m\u001b[0;32m    872\u001b[0m         \u001b[1;32mexcept\u001b[0m \u001b[0mSSLError\u001b[0m \u001b[1;32mas\u001b[0m \u001b[0mx\u001b[0m\u001b[1;33m:\u001b[0m\u001b[1;33m\u001b[0m\u001b[0m\n\u001b[0;32m    873\u001b[0m             \u001b[1;32mif\u001b[0m \u001b[0mx\u001b[0m\u001b[1;33m.\u001b[0m\u001b[0margs\u001b[0m\u001b[1;33m[\u001b[0m\u001b[1;36m0\u001b[0m\u001b[1;33m]\u001b[0m \u001b[1;33m==\u001b[0m \u001b[0mSSL_ERROR_EOF\u001b[0m \u001b[1;32mand\u001b[0m \u001b[0mself\u001b[0m\u001b[1;33m.\u001b[0m\u001b[0msuppress_ragged_eofs\u001b[0m\u001b[1;33m:\u001b[0m\u001b[1;33m\u001b[0m\u001b[0m\n",
      "\u001b[1;32mc:\\users\\maneet\\appdata\\local\\programs\\python\\python36\\lib\\ssl.py\u001b[0m in \u001b[0;36mread\u001b[1;34m(self, len, buffer)\u001b[0m\n\u001b[0;32m    629\u001b[0m         \"\"\"\n\u001b[0;32m    630\u001b[0m         \u001b[1;32mif\u001b[0m \u001b[0mbuffer\u001b[0m \u001b[1;32mis\u001b[0m \u001b[1;32mnot\u001b[0m \u001b[1;32mNone\u001b[0m\u001b[1;33m:\u001b[0m\u001b[1;33m\u001b[0m\u001b[0m\n\u001b[1;32m--> 631\u001b[1;33m             \u001b[0mv\u001b[0m \u001b[1;33m=\u001b[0m \u001b[0mself\u001b[0m\u001b[1;33m.\u001b[0m\u001b[0m_sslobj\u001b[0m\u001b[1;33m.\u001b[0m\u001b[0mread\u001b[0m\u001b[1;33m(\u001b[0m\u001b[0mlen\u001b[0m\u001b[1;33m,\u001b[0m \u001b[0mbuffer\u001b[0m\u001b[1;33m)\u001b[0m\u001b[1;33m\u001b[0m\u001b[0m\n\u001b[0m\u001b[0;32m    632\u001b[0m         \u001b[1;32melse\u001b[0m\u001b[1;33m:\u001b[0m\u001b[1;33m\u001b[0m\u001b[0m\n\u001b[0;32m    633\u001b[0m             \u001b[0mv\u001b[0m \u001b[1;33m=\u001b[0m \u001b[0mself\u001b[0m\u001b[1;33m.\u001b[0m\u001b[0m_sslobj\u001b[0m\u001b[1;33m.\u001b[0m\u001b[0mread\u001b[0m\u001b[1;33m(\u001b[0m\u001b[0mlen\u001b[0m\u001b[1;33m)\u001b[0m\u001b[1;33m\u001b[0m\u001b[0m\n",
      "\u001b[1;31mKeyboardInterrupt\u001b[0m: "
     ]
    }
   ],
   "source": [
    "myChemParser.smile_it(\"CleanedOutput/augmented_reac_df_cleaned.csv\", \"mol2d_df\", \"reactant_df.h5\")  # Stored in a Dataframe"
   ]
  },
  {
   "cell_type": "markdown",
   "metadata": {},
   "source": [
    "<p>This is how the augmented dataframes look:</p>"
   ]
  },
  {
   "cell_type": "code",
   "execution_count": 1,
   "metadata": {},
   "outputs": [
    {
     "name": "stdout",
     "output_type": "stream",
     "text": [
      "These dataframes are present in the data_store HDF5 file:\n",
      "\n",
      "['/mol2d_df', '/reac_df', '/smiling_df']\n",
      "\n",
      "\n",
      "DF with MOL2D data\n",
      "                                  Reactant  Occurences     CSIDs  \\\n",
      "ReactantID                                                         \n",
      "0                  5,5'-Bicyclopentadienyl           1  [499905]   \n",
      "1               1,2-Propanediol, dinitrate           1   [21472]   \n",
      "2           4-tert-butylphenoxyacetic acid           1   [14947]   \n",
      "\n",
      "                                                      Message  \\\n",
      "ReactantID                                                      \n",
      "0           Found by conversion query string to chemical s...   \n",
      "1                                   Found by approved synonym   \n",
      "2                                            Found by synonym   \n",
      "\n",
      "                                                        Mol2d  \n",
      "ReactantID                                                     \n",
      "0           574980\\n  -OEChem-02070708282D\\n\\n 20 21  0   ...  \n",
      "1           22933\\n  -OEChem-02070708212D\\n\\n 17 16  0    ...  \n",
      "2                                                              \n",
      "\n",
      "\n",
      "DF with SMILE, Mol. Wt, etc.\n",
      "                                  Reactant  Occurences     CSIDs  \\\n",
      "ReactantID                                                         \n",
      "0                  5,5'-Bicyclopentadienyl           1  [499905]   \n",
      "1               1,2-Propanediol, dinitrate           1   [21472]   \n",
      "2           4-tert-butylphenoxyacetic acid           1   [14947]   \n",
      "\n",
      "                                                      Message  \\\n",
      "ReactantID                                                      \n",
      "0           Found by conversion query string to chemical s...   \n",
      "1                                   Found by approved synonym   \n",
      "2                                            Found by synonym   \n",
      "\n",
      "                                                 ExtendedInfo  \n",
      "ReactantID                                                     \n",
      "0           {'csid': 499905, 'molecular_formula': 'C_{10}H...  \n",
      "1           {'csid': 21472, 'molecular_formula': 'C_{3}H_{...  \n",
      "2                                                              \n"
     ]
    }
   ],
   "source": [
    "import pandas as pd\n",
    "data_store = pd.HDFStore('CleanedOutput/reactant_df_with_extended_MOL.h5')  # Opening HDF5 File\n",
    "print('These dataframes are present in the data_store HDF5 file:\\n')\n",
    "print(data_store.keys())\n",
    "print('\\n')\n",
    "print('DF with MOL2D data')\n",
    "first_df = data_store['mol2d_df']  # Reading the desired DF\n",
    "print(first_df.head(3))\n",
    "print('\\n')\n",
    "print('DF with SMILE, Mol. Wt, etc.')\n",
    "second_df = data_store['smiling_df']  # Reading the desired DF\n",
    "print(second_df.head(3))\n",
    "data_store.close()"
   ]
  },
  {
   "cell_type": "code",
   "execution_count": 5,
   "metadata": {},
   "outputs": [
    {
     "name": "stdout",
     "output_type": "stream",
     "text": [
      "ReactantID\n",
      "0                                 5,5'-Bicyclopentadienyl\n",
      "1                              1,2-Propanediol, dinitrate\n",
      "2                          4-tert-butylphenoxyacetic acid\n",
      "3                                            (ClCH2CH2)2O\n",
      "4                Methanesulfonic acid 2-phenylethyl ester\n",
      "5                                            CH2C(Â·)CCCH\n",
      "6                                                t-C4H9As\n",
      "7                                    deuteriocyclopropane\n",
      "8           Rhodium carbonyl (5-2,4-cyclopentadien-1-yl)-\n",
      "9                                           cyc-CHCC(CCH)\n",
      "10                                             4H-Pyranyl\n",
      "11                                            (CH3)2CHNCO\n",
      "12                                    1-Methylcyclooctene\n",
      "13                                            CF2Br-CF2Br\n",
      "14       Benzoic acid, 4-chloro-, 1,1-dimethylethyl ester\n",
      "15                                                 CH2SOH\n",
      "16                                    SiH3Si(:)SiH(SiH3)2\n",
      "17                                                    NH3\n",
      "18                                              (CH3)2SeO\n",
      "19                                        (Z)-CH3CH=CHCHO\n",
      "20                                                   CaO3\n",
      "21                                      HC(O)CH(OH)CH=CH2\n",
      "22                                    (Â·)CH2CH2CH2CH2OOH\n",
      "23                                 Methyldioxy, dichloro-\n",
      "24                                                  IONO2\n",
      "25                                                  CSCl2\n",
      "26                             Butane, 1-chloro-3-methyl-\n",
      "27                                    CH3C(O)CH2C(O)OC2H5\n",
      "28                               Phenol, 2,4,5-trimethyl-\n",
      "29                                              n-octanal\n",
      "                              ...                        \n",
      "7549                                            Ga(CH3)2H\n",
      "7550                                                CNCCO\n",
      "7551     1-methyl-2-hydroxy-cyclohex-3,5-dien-1-yl-dioxyl\n",
      "7552                                          NH2CH2CH2OH\n",
      "7553                             C(CH3)2(OOÂ·)CH2CH(CH3)2\n",
      "7554                          5-Methyl-2-cyclopenten-2-yl\n",
      "7555                                                 SiH4\n",
      "7556                               (CH3)2GaNHGa(CH3)(NH2)\n",
      "7557                           cis-CH2=CHCH2CH2=CHC(Â·)=O\n",
      "7558                     Benzoic acid 1-methylethyl ester\n",
      "7559                       Isopropyl-2-Pyridine Sulfonate\n",
      "7560                                     CH3CHBrCH2CH=CH2\n",
      "7561                                 Cyclopropylacetylene\n",
      "7562                                            CH3CHClCN\n",
      "7563    Bicyclo[2.1.0]pemt-2-ene-5-carboxylic acid, 5-...\n",
      "7564                                        BrCH2CH2C:::N\n",
      "7565                                (E)-(CH3)2NN=NN(CH3)2\n",
      "7566                                Â·CH2CH(CH3)CH2CH2OOH\n",
      "7567        Benzyl alcohol, o-chloro-Î±-methyl-, benzoate\n",
      "7568                              CH3CH2CH2CH2CH2C(O)OCH3\n",
      "7569                            3,3'-dibromodiphenylether\n",
      "7570                                              CH2I-Cl\n",
      "7571                              CH3CH2CH(CH3)CH2CH2OOÂ·\n",
      "7572                                            NC-CH-NH2\n",
      "7573                                                   K2\n",
      "7574                                (CH3)2C(OÂ·)CH2CH2CH3\n",
      "7575                          3-vinylmethylenecyclobutane\n",
      "7576                              CH3C(O)OC(CH3)2C(O)OCH3\n",
      "7577                                            CHBr2O(.)\n",
      "7578    Benzyl alcohol, Î±-methyl-p-(phenylthio)-, ace...\n",
      "Name: Reactant, Length: 7579, dtype: object\n"
     ]
    }
   ],
   "source": [
    "import pandas as pd\n",
    "data_store = pd.HDFStore('CleanedOutput/reactant_df_with_extended_MOL.h5')  # Opening HDF5 File\n",
    "first_df = data_store['mol2d_df']  # Reading the desired DF\n",
    "data_store.close()\n",
    "print(first_df['Reactant'])"
   ]
  },
  {
   "cell_type": "code",
   "execution_count": null,
   "metadata": {},
   "outputs": [],
   "source": []
  }
 ],
 "metadata": {
  "kernelspec": {
   "display_name": "Python 3",
   "language": "python",
   "name": "python3"
  },
  "language_info": {
   "codemirror_mode": {
    "name": "ipython",
    "version": 3
   },
   "file_extension": ".py",
   "mimetype": "text/x-python",
   "name": "python",
   "nbconvert_exporter": "python",
   "pygments_lexer": "ipython3",
   "version": "3.6.4"
  }
 },
 "nbformat": 4,
 "nbformat_minor": 2
}
