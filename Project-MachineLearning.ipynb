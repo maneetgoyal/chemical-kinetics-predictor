{
 "cells": [
  {
   "cell_type": "markdown",
   "metadata": {},
   "source": [
    "<h2>A Data Driven Approach to Predicting Chemical Reaction Kinetics: Machine Learning</h2>\n",
    "<br>\n",
    "Maneet Goyal<sup>1</sup>, Keren Zhang<sup>2</sup>\n",
    "<br>\n",
    "<i><sup>1</sup>School of Civil and Environmental Engineering, <sup>2</sup>School of Chemical and Biomolecular Engineering, Georgia Institute of Technology, Atlanta, GA</i>\n",
    "<hr>"
   ]
  },
  {
   "cell_type": "code",
   "execution_count": 1,
   "metadata": {},
   "outputs": [
    {
     "data": {
      "text/html": [
       "\n",
       "        <iframe\n",
       "            width=\"1000\"\n",
       "            height=\"500\"\n",
       "            src=\"Report/Report.pdf\"\n",
       "            frameborder=\"0\"\n",
       "            allowfullscreen\n",
       "        ></iframe>\n",
       "        "
      ],
      "text/plain": [
       "<IPython.lib.display.IFrame at 0x284b0f37518>"
      ]
     },
     "execution_count": 1,
     "metadata": {},
     "output_type": "execute_result"
    }
   ],
   "source": [
    "# Displaying the report\n",
    "from IPython.display import IFrame\n",
    "IFrame(\"Report/Report.pdf\", width=1000, height=500)"
   ]
  },
  {
   "cell_type": "code",
   "execution_count": 40,
   "metadata": {},
   "outputs": [],
   "source": [
    "# Importing Libs/Packages\n",
    "import pandas as pd\n",
    "import numpy as np\n",
    "import matplotlib.pyplot as plt\n",
    "import seaborn\n",
    "import itertools\n",
    "from collections import Counter\n",
    "from imblearn.over_sampling import RandomOverSampler\n",
    "from imblearn.over_sampling import SMOTE\n",
    "from sklearn.preprocessing import StandardScaler\n",
    "from sklearn.decomposition import PCA\n",
    "from sklearn.ensemble import RandomForestClassifier\n",
    "from sklearn.model_selection import cross_val_score\n",
    "from sklearn.model_selection import GridSearchCV\n",
    "from sklearn.model_selection import train_test_split\n",
    "from sklearn.metrics import confusion_matrix"
   ]
  },
  {
   "cell_type": "code",
   "execution_count": 3,
   "metadata": {},
   "outputs": [
    {
     "name": "stdout",
     "output_type": "stream",
     "text": [
      "----- No. of Data points (rows) imported: 1979 -----\n"
     ]
    }
   ],
   "source": [
    "# Reading data for reaction order classification experiments\n",
    "# This notebook doesn't perform regression studies for acttivation energy prediction; refer to our report for more details on it.\n",
    "reac_df = pd.read_excel(\"MLDataDump/TrainingDataNewSpecies.xlsx\", header=0, index_col=0)\n",
    "print('----- No. of Data points (rows) imported: {} -----'.format(len(reac_df.index)))"
   ]
  },
  {
   "cell_type": "code",
   "execution_count": 4,
   "metadata": {},
   "outputs": [
    {
     "name": "stdout",
     "output_type": "stream",
     "text": [
      "----- No. of Data points (rows) available for experiments: 1962 -----\n"
     ]
    },
    {
     "data": {
      "text/html": [
       "<div>\n",
       "<style scoped>\n",
       "    .dataframe tbody tr th:only-of-type {\n",
       "        vertical-align: middle;\n",
       "    }\n",
       "\n",
       "    .dataframe tbody tr th {\n",
       "        vertical-align: top;\n",
       "    }\n",
       "\n",
       "    .dataframe thead th {\n",
       "        text-align: right;\n",
       "    }\n",
       "</style>\n",
       "<table border=\"1\" class=\"dataframe\">\n",
       "  <thead>\n",
       "    <tr style=\"text-align: right;\">\n",
       "      <th></th>\n",
       "      <th>Reaction Link</th>\n",
       "      <th>Records</th>\n",
       "      <th>Reactants</th>\n",
       "      <th>Products</th>\n",
       "      <th>Reactants_List</th>\n",
       "      <th>Products_List</th>\n",
       "      <th>Reactants_SIDs_List</th>\n",
       "      <th>Products_SIDs_List</th>\n",
       "      <th>Products_Available</th>\n",
       "      <th>Status_50</th>\n",
       "      <th>Status_75</th>\n",
       "      <th>Status_100</th>\n",
       "      <th>ReactionOrder</th>\n",
       "      <th>ActivationEnergy</th>\n",
       "      <th>ReactantCID</th>\n",
       "      <th>ProductCID</th>\n",
       "      <th>FeatureVector</th>\n",
       "    </tr>\n",
       "    <tr>\n",
       "      <th>RID</th>\n",
       "      <th></th>\n",
       "      <th></th>\n",
       "      <th></th>\n",
       "      <th></th>\n",
       "      <th></th>\n",
       "      <th></th>\n",
       "      <th></th>\n",
       "      <th></th>\n",
       "      <th></th>\n",
       "      <th></th>\n",
       "      <th></th>\n",
       "      <th></th>\n",
       "      <th></th>\n",
       "      <th></th>\n",
       "      <th></th>\n",
       "      <th></th>\n",
       "      <th></th>\n",
       "    </tr>\n",
       "  </thead>\n",
       "  <tbody>\n",
       "    <tr>\n",
       "      <th>776</th>\n",
       "      <td>http://kinetics.nist.gov/kinetics/ReactionSear...</td>\n",
       "      <td>2</td>\n",
       "      <td>Â·CH2 + Â·CH2</td>\n",
       "      <td>C2H2 + HÂ· + HÂ·</td>\n",
       "      <td>['·CH2', '·CH2']</td>\n",
       "      <td>['C2H2', 'H·', 'H·']</td>\n",
       "      <td>[10972, 10972]</td>\n",
       "      <td>[3537, 8457, 8457]</td>\n",
       "      <td>True</td>\n",
       "      <td>True</td>\n",
       "      <td>True</td>\n",
       "      <td>True</td>\n",
       "      <td>2.0</td>\n",
       "      <td>46000.0</td>\n",
       "      <td>[123164, 123164]</td>\n",
       "      <td>[6326, 5362549, 5362549]</td>\n",
       "      <td>[ 0.  0.  0. -1.  0.  0.  0.  0.  0.  0.  0.  ...</td>\n",
       "    </tr>\n",
       "    <tr>\n",
       "      <th>777</th>\n",
       "      <td>http://kinetics.nist.gov/kinetics/ReactionSear...</td>\n",
       "      <td>3</td>\n",
       "      <td>Â·CH2 + Â·CH2</td>\n",
       "      <td>C2H2 + H2</td>\n",
       "      <td>['·CH2', '·CH2']</td>\n",
       "      <td>['C2H2', 'H2']</td>\n",
       "      <td>[10972, 10972]</td>\n",
       "      <td>[3537, 7937]</td>\n",
       "      <td>True</td>\n",
       "      <td>True</td>\n",
       "      <td>True</td>\n",
       "      <td>True</td>\n",
       "      <td>2.0</td>\n",
       "      <td>50000.0</td>\n",
       "      <td>[123164, 123164]</td>\n",
       "      <td>[6326, 783]</td>\n",
       "      <td>[-1.  0.  0. -1.  0.  0.  0.  0.  0.  0.  0.  ...</td>\n",
       "    </tr>\n",
       "    <tr>\n",
       "      <th>780</th>\n",
       "      <td>http://kinetics.nist.gov/kinetics/ReactionSear...</td>\n",
       "      <td>2</td>\n",
       "      <td>Â·CH2</td>\n",
       "      <td>Â·CH + HÂ·</td>\n",
       "      <td>['·CH2']</td>\n",
       "      <td>['·CH', 'H·']</td>\n",
       "      <td>[10972]</td>\n",
       "      <td>[10960, 8457]</td>\n",
       "      <td>True</td>\n",
       "      <td>True</td>\n",
       "      <td>True</td>\n",
       "      <td>True</td>\n",
       "      <td>2.0</td>\n",
       "      <td>361500.0</td>\n",
       "      <td>[123164]</td>\n",
       "      <td>[-1, 5362549]</td>\n",
       "      <td>[ 0.  0.  0.  0.  0.  0.  0.  0.  0.  0.  0.  ...</td>\n",
       "    </tr>\n",
       "    <tr>\n",
       "      <th>781</th>\n",
       "      <td>http://kinetics.nist.gov/kinetics/ReactionSear...</td>\n",
       "      <td>2</td>\n",
       "      <td>Â·CH2</td>\n",
       "      <td>H2 + C</td>\n",
       "      <td>['·CH2']</td>\n",
       "      <td>['H2', 'C']</td>\n",
       "      <td>[10972]</td>\n",
       "      <td>[7937, 3419]</td>\n",
       "      <td>True</td>\n",
       "      <td>True</td>\n",
       "      <td>True</td>\n",
       "      <td>True</td>\n",
       "      <td>2.0</td>\n",
       "      <td>257500.0</td>\n",
       "      <td>[123164]</td>\n",
       "      <td>[783, 5462310]</td>\n",
       "      <td>[-1.  0.  0.  0.  0.  0.  0.  0.  0.  0.  0.  ...</td>\n",
       "    </tr>\n",
       "    <tr>\n",
       "      <th>1594</th>\n",
       "      <td>http://kinetics.nist.gov/kinetics/ReactionSear...</td>\n",
       "      <td>1</td>\n",
       "      <td>Â·Cl + Â·CH2</td>\n",
       "      <td>Â·CH + HCl</td>\n",
       "      <td>['·Cl', '·CH2']</td>\n",
       "      <td>['·CH', 'HCl']</td>\n",
       "      <td>[11174, 10972]</td>\n",
       "      <td>[10960, 8171]</td>\n",
       "      <td>True</td>\n",
       "      <td>True</td>\n",
       "      <td>True</td>\n",
       "      <td>True</td>\n",
       "      <td>2.0</td>\n",
       "      <td>106000.0</td>\n",
       "      <td>[5360523, 123164]</td>\n",
       "      <td>[-1, 313]</td>\n",
       "      <td>[ 0.  0.  0.  0.  0.  0.  0.  0.  0.  0.  0.  ...</td>\n",
       "    </tr>\n",
       "  </tbody>\n",
       "</table>\n",
       "</div>"
      ],
      "text/plain": [
       "                                          Reaction Link  Records  \\\n",
       "RID                                                                \n",
       "776   http://kinetics.nist.gov/kinetics/ReactionSear...        2   \n",
       "777   http://kinetics.nist.gov/kinetics/ReactionSear...        3   \n",
       "780   http://kinetics.nist.gov/kinetics/ReactionSear...        2   \n",
       "781   http://kinetics.nist.gov/kinetics/ReactionSear...        2   \n",
       "1594  http://kinetics.nist.gov/kinetics/ReactionSear...        1   \n",
       "\n",
       "          Reactants          Products    Reactants_List         Products_List  \\\n",
       "RID                                                                             \n",
       "776   Â·CH2 + Â·CH2  C2H2 + HÂ· + HÂ·  ['·CH2', '·CH2']  ['C2H2', 'H·', 'H·']   \n",
       "777   Â·CH2 + Â·CH2         C2H2 + H2  ['·CH2', '·CH2']        ['C2H2', 'H2']   \n",
       "780           Â·CH2        Â·CH + HÂ·          ['·CH2']         ['·CH', 'H·']   \n",
       "781           Â·CH2            H2 + C          ['·CH2']           ['H2', 'C']   \n",
       "1594   Â·Cl + Â·CH2        Â·CH + HCl   ['·Cl', '·CH2']        ['·CH', 'HCl']   \n",
       "\n",
       "     Reactants_SIDs_List  Products_SIDs_List  Products_Available  Status_50  \\\n",
       "RID                                                                           \n",
       "776       [10972, 10972]  [3537, 8457, 8457]                True       True   \n",
       "777       [10972, 10972]        [3537, 7937]                True       True   \n",
       "780              [10972]       [10960, 8457]                True       True   \n",
       "781              [10972]        [7937, 3419]                True       True   \n",
       "1594      [11174, 10972]       [10960, 8171]                True       True   \n",
       "\n",
       "      Status_75  Status_100  ReactionOrder  ActivationEnergy  \\\n",
       "RID                                                            \n",
       "776        True        True            2.0           46000.0   \n",
       "777        True        True            2.0           50000.0   \n",
       "780        True        True            2.0          361500.0   \n",
       "781        True        True            2.0          257500.0   \n",
       "1594       True        True            2.0          106000.0   \n",
       "\n",
       "            ReactantCID                ProductCID  \\\n",
       "RID                                                 \n",
       "776    [123164, 123164]  [6326, 5362549, 5362549]   \n",
       "777    [123164, 123164]               [6326, 783]   \n",
       "780            [123164]             [-1, 5362549]   \n",
       "781            [123164]            [783, 5462310]   \n",
       "1594  [5360523, 123164]                 [-1, 313]   \n",
       "\n",
       "                                          FeatureVector  \n",
       "RID                                                      \n",
       "776   [ 0.  0.  0. -1.  0.  0.  0.  0.  0.  0.  0.  ...  \n",
       "777   [-1.  0.  0. -1.  0.  0.  0.  0.  0.  0.  0.  ...  \n",
       "780   [ 0.  0.  0.  0.  0.  0.  0.  0.  0.  0.  0.  ...  \n",
       "781   [-1.  0.  0.  0.  0.  0.  0.  0.  0.  0.  0.  ...  \n",
       "1594  [ 0.  0.  0.  0.  0.  0.  0.  0.  0.  0.  0.  ...  "
      ]
     },
     "execution_count": 4,
     "metadata": {},
     "output_type": "execute_result"
    }
   ],
   "source": [
    "# Filtering subset of the dataframe which has reaction order reported\n",
    "subset_reac_df = reac_df.query('ReactionOrder >= 0')\n",
    "print('----- No. of Data points (rows) available for experiments: {} -----'.format(len(subset_reac_df.index)))\n",
    "subset_reac_df.head(5)"
   ]
  },
  {
   "cell_type": "code",
   "execution_count": 5,
   "metadata": {},
   "outputs": [
    {
     "data": {
      "text/html": [
       "<div>\n",
       "<style scoped>\n",
       "    .dataframe tbody tr th:only-of-type {\n",
       "        vertical-align: middle;\n",
       "    }\n",
       "\n",
       "    .dataframe tbody tr th {\n",
       "        vertical-align: top;\n",
       "    }\n",
       "\n",
       "    .dataframe thead th {\n",
       "        text-align: right;\n",
       "    }\n",
       "</style>\n",
       "<table border=\"1\" class=\"dataframe\">\n",
       "  <thead>\n",
       "    <tr style=\"text-align: right;\">\n",
       "      <th></th>\n",
       "      <th>FeatureVector</th>\n",
       "      <th>ReactionOrder</th>\n",
       "    </tr>\n",
       "    <tr>\n",
       "      <th>RID</th>\n",
       "      <th></th>\n",
       "      <th></th>\n",
       "    </tr>\n",
       "  </thead>\n",
       "  <tbody>\n",
       "    <tr>\n",
       "      <th>776</th>\n",
       "      <td>[ 0.  0.  0. -1.  0.  0.  0.  0.  0.  0.  0.  ...</td>\n",
       "      <td>2.0</td>\n",
       "    </tr>\n",
       "    <tr>\n",
       "      <th>777</th>\n",
       "      <td>[-1.  0.  0. -1.  0.  0.  0.  0.  0.  0.  0.  ...</td>\n",
       "      <td>2.0</td>\n",
       "    </tr>\n",
       "    <tr>\n",
       "      <th>780</th>\n",
       "      <td>[ 0.  0.  0.  0.  0.  0.  0.  0.  0.  0.  0.  ...</td>\n",
       "      <td>2.0</td>\n",
       "    </tr>\n",
       "    <tr>\n",
       "      <th>781</th>\n",
       "      <td>[-1.  0.  0.  0.  0.  0.  0.  0.  0.  0.  0.  ...</td>\n",
       "      <td>2.0</td>\n",
       "    </tr>\n",
       "    <tr>\n",
       "      <th>1594</th>\n",
       "      <td>[ 0.  0.  0.  0.  0.  0.  0.  0.  0.  0.  0.  ...</td>\n",
       "      <td>2.0</td>\n",
       "    </tr>\n",
       "  </tbody>\n",
       "</table>\n",
       "</div>"
      ],
      "text/plain": [
       "                                          FeatureVector  ReactionOrder\n",
       "RID                                                                   \n",
       "776   [ 0.  0.  0. -1.  0.  0.  0.  0.  0.  0.  0.  ...            2.0\n",
       "777   [-1.  0.  0. -1.  0.  0.  0.  0.  0.  0.  0.  ...            2.0\n",
       "780   [ 0.  0.  0.  0.  0.  0.  0.  0.  0.  0.  0.  ...            2.0\n",
       "781   [-1.  0.  0.  0.  0.  0.  0.  0.  0.  0.  0.  ...            2.0\n",
       "1594  [ 0.  0.  0.  0.  0.  0.  0.  0.  0.  0.  0.  ...            2.0"
      ]
     },
     "execution_count": 5,
     "metadata": {},
     "output_type": "execute_result"
    }
   ],
   "source": [
    "# Filtering just the columns we need\n",
    "subset_for_exp = subset_reac_df[['FeatureVector', 'ReactionOrder']]\n",
    "subset_for_exp.head(5)"
   ]
  },
  {
   "cell_type": "code",
   "execution_count": 6,
   "metadata": {
    "scrolled": true
   },
   "outputs": [],
   "source": [
    "# Exploring Class Balance/Distribution and Creating X (featurevector) and y (labels)\n",
    "X_vec = []\n",
    "y_labl = []\n",
    "X_Axis = [0, 1, 2, 3]\n",
    "Y_Axis = [0]*len(X_Axis)\n",
    "for rid, rxn in subset_for_exp.iterrows():\n",
    "        Y_Axis[int(rxn['ReactionOrder'])] = Y_Axis[int(rxn['ReactionOrder'])] + 1\n",
    "        # Feature vectors got converted to string during our routine; converting them back to Numpy arrays\n",
    "        row_feat_vec = np.array(rxn['FeatureVector'].strip(' []').replace(\"\\n\", \"\").replace(\".\", \"\").split(), dtype=float)\n",
    "        X_vec.append(row_feat_vec)\n",
    "        y_labl.append(int(rxn['ReactionOrder']))\n"
   ]
  },
  {
   "cell_type": "code",
   "execution_count": 7,
   "metadata": {},
   "outputs": [],
   "source": [
    "# Performing Oversampling\n",
    "X_ror_vec, y_ror_labl = RandomOverSampler().fit_sample(X_vec, y_labl)\n",
    "X_smote_vec, y_smote_labl = SMOTE(kind='svm').fit_sample(X_vec, y_labl)\n",
    "axis_ror = (sorted(Counter(y_ror_labl).items()))\n",
    "axis_smote = (sorted(Counter(y_smote_labl).items()))"
   ]
  },
  {
   "cell_type": "code",
   "execution_count": 8,
   "metadata": {},
   "outputs": [
    {
     "data": {
      "image/png": "[encoded data removed]",
      "text/plain": [
       "<matplotlib.figure.Figure at 0x284c1da52e8>"
      ]
     },
     "metadata": {},
     "output_type": "display_data"
    }
   ],
   "source": [
    "# Plotting Old and New Class Distributions\n",
    "\n",
    "# Gloabal\n",
    "fig, ax = plt.subplots()\n",
    "\n",
    "# Sub1\n",
    "plt.subplot(131)\n",
    "plt.bar(X_Axis[1:], Y_Axis[1:])\n",
    "plt.xlabel('Reaction Order')\n",
    "plt.ylabel('Count')\n",
    "plt.title(\"Imbalanced\")\n",
    "\n",
    "# Sub2\n",
    "plt.subplot(132)\n",
    "plt.bar(X_Axis[1:], [ele[1] for ele in axis_ror])\n",
    "plt.xlabel('Reaction Order')\n",
    "plt.title(\"ROR Balanced\")\n",
    "\n",
    "# Sub3\n",
    "plt.subplot(133)\n",
    "plt.bar(X_Axis[1:], [ele[1] for ele in axis_smote])\n",
    "plt.xlabel('Reaction Order')\n",
    "plt.title(\"SMOTE Balanced\")\n",
    "\n",
    "# Global\n",
    "ax.set_yscale('log')\n",
    "plt.suptitle('Class Imbalance in Gas Phase Reactions Subset')\n",
    "plt.subplots_adjust(wspace=0.4, top=0.8)\n",
    "plt.savefig('MLResultFigures/ReactionClasses.png')\n",
    "plt.show()"
   ]
  },
  {
   "cell_type": "code",
   "execution_count": 9,
   "metadata": {},
   "outputs": [],
   "source": [
    "# Performing Dimensionality Reduction since we have a 42 dimensions\n",
    "\n",
    "# Initializing\n",
    "pca_imbalanced = PCA(svd_solver='full')\n",
    "pca_ror = PCA(svd_solver='full')\n",
    "pca_smote = PCA(svd_solver='full')\n",
    "\n",
    "# Fitting\n",
    "pca_imbalanced.fit(X_vec)\n",
    "pca_ror.fit(X_ror_vec)\n",
    "pca_smote.fit(X_smote_vec)\n",
    "\n",
    "# Scree Plots Data\n",
    "scree_imbalanced = pca_imbalanced.explained_variance_ratio_.cumsum()\n",
    "scree_ror = pca_ror.explained_variance_ratio_.cumsum()\n",
    "scree_smote = pca_smote.explained_variance_ratio_.cumsum()"
   ]
  },
  {
   "cell_type": "code",
   "execution_count": 10,
   "metadata": {},
   "outputs": [
    {
     "data": {
      "image/png": "[encoded data removed]",
      "text/plain": [
       "<matplotlib.figure.Figure at 0x284c0b0f588>"
      ]
     },
     "metadata": {},
     "output_type": "display_data"
    }
   ],
   "source": [
    "# Plotting Old and Oversampled data's scree plot | Uncentered data\n",
    "\n",
    "# Gloabal\n",
    "fig, ax = plt.subplots(figsize=(10,5))\n",
    "\n",
    "plt.plot(scree_imbalanced, linewidth=2.0, label=\"Imbalanced\")\n",
    "plt.plot(scree_ror, linewidth=2.0, label=\"ROR\")\n",
    "plt.plot(scree_smote, linewidth=2.0, label=\"SMOTE\")\n",
    "plt.xlabel('No. of Components')\n",
    "plt.ylabel('Variance Explained')\n",
    "plt.title(\"Imbalanced\")\n",
    "plt.legend()\n",
    "\n",
    "plt.title('Scree Plots of Unbalanced and Oversampled Data | Uncentered Data')\n",
    "plt.savefig('MLResultFigures/ScreePlotsUncentered.png')\n",
    "plt.show()"
   ]
  },
  {
   "cell_type": "markdown",
   "metadata": {},
   "source": [
    "The trend in the scree plots is expected as appending rows to a data matrix is expected to either increase the singular values or keep them same as before. This can be proved at least for the largest and the smallest singular values (Refer GVL4 Problem 2.4.9). Hence, the variance explained by the principal components of a matrix  are expected to either increase or remain the same when we compare imbalanced and oversampled data. Note that the `variance explained` or the `eigen values of the covariance matrix` are just the square of the singular values of the centered data matrix.\n",
    "<hr>\n",
    "The above discussion reminds us of an important part of PCA, i.e. `CENTERING` (via mean-averaging). IMHO, it is so important that it is perhaps one of the reasons that earned PCA a distinct name; without centering, it might have been referred to as just the `Eigen Value Decomposition` of symmetric matrices. You may have already noticed that centering was not performed over our data, so we have not yet done any PCA. "
   ]
  },
  {
   "cell_type": "code",
   "execution_count": 11,
   "metadata": {},
   "outputs": [],
   "source": [
    "# Standarding (centering + scaling) data matrix\n",
    "\n",
    "# Initializing\n",
    "centered_unbalanced = StandardScaler()\n",
    "centered_ror = StandardScaler()\n",
    "centered_smote = StandardScaler()\n",
    "\n",
    "# Standardizing\n",
    "X_vec_std = centered_unbalanced.fit_transform(X_vec)\n",
    "X_ror_vec_std = centered_unbalanced.fit_transform(X_ror_vec)\n",
    "X_smote_vec_std = centered_unbalanced.fit_transform(X_smote_vec)"
   ]
  },
  {
   "cell_type": "code",
   "execution_count": 12,
   "metadata": {},
   "outputs": [],
   "source": [
    "# Performing Dimensionality Reduction since we have a 42 dimensions\n",
    "\n",
    "# Initializing\n",
    "pca_imbalanced_std = PCA(svd_solver='full')\n",
    "pca_ror_std = PCA(svd_solver='full')\n",
    "pca_smote_std = PCA(svd_solver='full')\n",
    "\n",
    "# Fitting\n",
    "pca_imbalanced_std.fit(X_vec_std)\n",
    "pca_ror_std.fit(X_ror_vec_std)\n",
    "pca_smote_std.fit(X_smote_vec_std)\n",
    "\n",
    "# Scree Plots Data\n",
    "scree_imbalanced_std = pca_imbalanced_std.explained_variance_ratio_.cumsum()\n",
    "scree_ror_std = pca_ror_std.explained_variance_ratio_.cumsum()\n",
    "scree_smote_std = pca_smote_std.explained_variance_ratio_.cumsum()"
   ]
  },
  {
   "cell_type": "code",
   "execution_count": 13,
   "metadata": {},
   "outputs": [
    {
     "data": {
      "image/png": "[encoded data removed]",
      "text/plain": [
       "<matplotlib.figure.Figure at 0x284c63466a0>"
      ]
     },
     "metadata": {},
     "output_type": "display_data"
    }
   ],
   "source": [
    "# Plotting Old and Oversampled data's scree plot | Centered data\n",
    "\n",
    "# Global\n",
    "fig, ax = plt.subplots(figsize=(10,5))\n",
    "\n",
    "plt.plot(scree_imbalanced_std, linewidth=2.0, label=\"Imbalanced\")\n",
    "plt.plot(scree_ror_std, linewidth=2.0, label=\"ROR\")\n",
    "plt.plot(scree_smote_std, linewidth=2.0, label=\"SMOTE\")\n",
    "plt.xlabel('No. of Components')\n",
    "plt.ylabel('Variance Explained')\n",
    "plt.title(\"Imbalanced\")\n",
    "plt.legend()\n",
    "\n",
    "plt.title('Scree Plots of Unbalanced and Oversampled Data | Centered Data')\n",
    "plt.savefig('MLResultFigures/ScreePlotsCentered.png')\n",
    "plt.show()"
   ]
  },
  {
   "cell_type": "code",
   "execution_count": 14,
   "metadata": {},
   "outputs": [],
   "source": [
    "#Classification via Random Forests (RF)\n",
    "\n",
    "# Initializing\n",
    "clf_unbalanced = RandomForestClassifier(criterion=\"entropy\")\n",
    "clf_ror = RandomForestClassifier(criterion=\"entropy\")\n",
    "clf_smote = RandomForestClassifier(criterion=\"entropy\")\n",
    "\n",
    "# Training and Cross validating\n",
    "scores_unbalanced = np.mean(cross_val_score(clf_unbalanced, X_vec_std, y_labl, cv=10))\n",
    "scores_ror = np.mean(cross_val_score(clf_ror, X_ror_vec_std, y_ror_labl, cv=10))\n",
    "scores_smote = np.mean(cross_val_score(clf_smote, X_smote_vec_std, y_smote_labl, cv=10))"
   ]
  },
  {
   "cell_type": "code",
   "execution_count": 15,
   "metadata": {},
   "outputs": [
    {
     "data": {
      "image/png": "[encoded data removed]",
      "text/plain": [
       "<matplotlib.figure.Figure at 0x284c637d160>"
      ]
     },
     "metadata": {},
     "output_type": "display_data"
    }
   ],
   "source": [
    "# Plotting Cross validation scores\n",
    "\n",
    "# Global\n",
    "fig, ax = plt.subplots(figsize=(5,5))\n",
    "plt.bar(['Unbalanced', 'ROR', 'SMOTE'], [scores_unbalanced, scores_ror, scores_smote])\n",
    "plt.xlabel('Data Type')\n",
    "plt.ylabel('Accuracy Scores')\n",
    "plt.title('Addressing Data Quality \\n Cross-validation Scores for Full Dimension Data')\n",
    "ax.set_ylim(ymin=0.8)\n",
    "plt.savefig('MLResultFigures/CVScoreFull.png')\n",
    "plt.show()"
   ]
  },
  {
   "cell_type": "markdown",
   "metadata": {},
   "source": [
    "Two observations are worth discussing about: <span style=\"color:gray\">model trained over imbalanced data is performing better than that trained over ROR oversampled data</span>; and <span style=\"color:gray\">model trained over SMOTE data is performing better than the other 2 models</span>.\n",
    "<hr>\n",
    "Observation 1 is expected because due to disproportionate class distribution in the `Unbalanced` data, the model might be getting trained and tested over similar datasets, comprising majority of the $2^{nd}$ order data points/reactions. Observation 2 is more interesing; due to the `interpolation` component of the SMOTE algorithm, we might be getting a good representation of the minority classes and consequently, we might be obtaing a more robust random forest in each k-fold CV interation. "
   ]
  },
  {
   "cell_type": "code",
   "execution_count": 16,
   "metadata": {},
   "outputs": [],
   "source": [
    "# Perfoming k-Fold cross validation of Data with Reduced Dimension\n",
    "\n",
    "# Initializing PCA models\n",
    "pca_imbalanced_27 = PCA(n_components=27, svd_solver='full')\n",
    "pca_ror_27 = PCA(n_components=27, svd_solver='full')\n",
    "pca_smote_27 = PCA(n_components=27, svd_solver='full')\n",
    "\n",
    "# Getting tranformed data\n",
    "X_vec_std_27 = pca_imbalanced_27.fit_transform(X_vec_std)\n",
    "X_ror_vec_std_27 = pca_ror_27.fit_transform(X_ror_vec_std)\n",
    "X_smote_vec_std_27 = pca_smote_27.fit_transform(X_smote_vec_std)"
   ]
  },
  {
   "cell_type": "markdown",
   "metadata": {},
   "source": [
    "<hr>\n",
    "`27 out of 42` principal components are chosen because they explain more than `99%` variance.\n",
    "<hr>"
   ]
  },
  {
   "cell_type": "code",
   "execution_count": 17,
   "metadata": {},
   "outputs": [],
   "source": [
    "#Classification via Random Forests (RF) | Reduced Dimension data\n",
    "\n",
    "# Initializing\n",
    "clf_unbalanced_27 = RandomForestClassifier(criterion=\"entropy\")\n",
    "clf_ror_27 = RandomForestClassifier(criterion=\"entropy\")\n",
    "clf_smote_27 = RandomForestClassifier(criterion=\"entropy\")\n",
    "\n",
    "# Training and Cross validating\n",
    "scores_unbalanced_27 = np.mean(cross_val_score(clf_unbalanced_27, X_vec_std_27, y_labl, cv=10))\n",
    "scores_ror_27 = np.mean(cross_val_score(clf_ror_27, X_ror_vec_std_27, y_ror_labl, cv=10))\n",
    "scores_smote_27 = np.mean(cross_val_score(clf_smote_27, X_smote_vec_std_27, y_smote_labl, cv=10))"
   ]
  },
  {
   "cell_type": "code",
   "execution_count": 18,
   "metadata": {},
   "outputs": [
    {
     "data": {
      "image/png": "[encoded data removed]",
      "text/plain": [
       "<matplotlib.figure.Figure at 0x284c64515f8>"
      ]
     },
     "metadata": {},
     "output_type": "display_data"
    }
   ],
   "source": [
    "# Plotting Cross validation scores | Reduced Dimension data\n",
    "\n",
    "# Global\n",
    "fig, ax = plt.subplots(figsize=(5,5))\n",
    "plt.bar(['Unbalanced', 'ROR', 'SMOTE'], [scores_unbalanced_27, scores_ror_27, scores_smote_27])\n",
    "plt.xlabel('Data Type')\n",
    "plt.ylabel('Accuracy Scores')\n",
    "plt.title('Addressing Data Quality \\n Cross-validation Scores for Reduced Dimension Data')\n",
    "ax.set_ylim(ymin=0.8)\n",
    "plt.savefig('MLResultFigures/CVScoreReduced.png')\n",
    "plt.show()"
   ]
  },
  {
   "cell_type": "markdown",
   "metadata": {},
   "source": [
    "The above results are similar to what were obtained for the full dimensional data. Now we plot the covariance matrices of the reducted dimension data to look for covariance between individual dimensions."
   ]
  },
  {
   "cell_type": "code",
   "execution_count": 19,
   "metadata": {},
   "outputs": [
    {
     "data": {
      "image/png": "[encoded data removed]",
      "text/plain": [
       "<matplotlib.figure.Figure at 0x284c1e0ae48>"
      ]
     },
     "metadata": {},
     "output_type": "display_data"
    }
   ],
   "source": [
    "# Plotting Covariance Matrices\n",
    "fig, ax = plt.subplots(figsize=(6,6))\n",
    "seaborn.heatmap(np.cov(X_smote_vec_std_27.T), cmap=\"YlGnBu\", ax=ax)\n",
    "plt.title('Covariance Matrix Reduced Dimension SMOTE Data')\n",
    "plt.savefig('MLResultFigures/CovMat.png')\n",
    "plt.show()"
   ]
  },
  {
   "cell_type": "markdown",
   "metadata": {},
   "source": [
    "The covariance matrix suggests that the standardized and reduced data matrix, `X_smote_vec_std_27.T`,  was orthogonal which is quite probably since we are dealing with sparse matrices. Further, typically, the presence of 1 type of chemical bond (say, C-H) is independent to the presence of another type of bond (say, C=O)."
   ]
  },
  {
   "cell_type": "code",
   "execution_count": 20,
   "metadata": {},
   "outputs": [
    {
     "data": {
      "text/plain": [
       "GridSearchCV(cv=10, error_score='raise',\n",
       "       estimator=RandomForestClassifier(bootstrap=True, class_weight=None, criterion='entropy',\n",
       "            max_depth=None, max_features='auto', max_leaf_nodes=None,\n",
       "            min_impurity_decrease=0.0, min_impurity_split=None,\n",
       "            min_samples_leaf=1, min_samples_split=2,\n",
       "            min_weight_fraction_leaf=0.0, n_estimators=10, n_jobs=1,\n",
       "            oob_score=False, random_state=None, verbose=0,\n",
       "            warm_start=False),\n",
       "       fit_params=None, iid=True, n_jobs=1,\n",
       "       param_grid=[{'criterion': ['gini', 'entropy']}],\n",
       "       pre_dispatch='2*n_jobs', refit=True, return_train_score='warn',\n",
       "       scoring=None, verbose=0)"
      ]
     },
     "execution_count": 20,
     "metadata": {},
     "output_type": "execute_result"
    }
   ],
   "source": [
    "# Since, SMOTE trained Random Forest performed the best, we now attempt to optmize it's hyper parameters to try and come up\n",
    "# more accurate model.\n",
    "param_grid = [{'criterion': ['gini', 'entropy']}]\n",
    "clf = GridSearchCV(clf_smote_27, param_grid, cv=10)\n",
    "clf.fit(X_smote_vec_std_27, y_smote_labl)"
   ]
  },
  {
   "cell_type": "code",
   "execution_count": 21,
   "metadata": {},
   "outputs": [
    {
     "data": {
      "image/png": "[encoded data removed]",
      "text/plain": [
       "<matplotlib.figure.Figure at 0x284c657b5c0>"
      ]
     },
     "metadata": {},
     "output_type": "display_data"
    }
   ],
   "source": [
    "# Here is the best criterion\n",
    "fig, ax = plt.subplots(figsize=(5,5))\n",
    "plt.bar(['Gini', 'Entropy'], clf.cv_results_['mean_test_score'])\n",
    "plt.xlabel('RF Criterion')\n",
    "plt.ylabel('Accuracy Scores')\n",
    "plt.title('Model Optimization | With Reduced SMOTE Data')\n",
    "ax.set_ylim(ymin=0.8)\n",
    "plt.savefig('MLResultFigures/RFOptimize.png')\n",
    "plt.show()"
   ]
  },
  {
   "cell_type": "code",
   "execution_count": 22,
   "metadata": {},
   "outputs": [
    {
     "data": {
      "text/plain": [
       "GridSearchCV(cv=10, error_score='raise',\n",
       "       estimator=RandomForestClassifier(bootstrap=True, class_weight=None, criterion='entropy',\n",
       "            max_depth=None, max_features='auto', max_leaf_nodes=None,\n",
       "            min_impurity_decrease=0.0, min_impurity_split=None,\n",
       "            min_samples_leaf=1, min_samples_split=2,\n",
       "            min_weight_fraction_leaf=0.0, n_estimators=10, n_jobs=1,\n",
       "            oob_score=False, random_state=None, verbose=0,\n",
       "            warm_start=False),\n",
       "       fit_params=None, iid=True, n_jobs=1,\n",
       "       param_grid=[{'n_estimators': [1, 11, 21, 31, 41, 51, 61, 71, 81, 91], 'max_depth': [1, 11, 21, 31, 41, 51, 61, 71, 81, 91], 'criterion': ['gini']}],\n",
       "       pre_dispatch='2*n_jobs', refit=True, return_train_score='warn',\n",
       "       scoring=None, verbose=0)"
      ]
     },
     "execution_count": 22,
     "metadata": {},
     "output_type": "execute_result"
    }
   ],
   "source": [
    "# Finally, we perform complexity optmization to figure out the optmium number of tree and tree depth\n",
    "# We are using grid_search for complexity optimiztion\n",
    "param_grid_2 = [{'n_estimators': list(range(1,100,10)),\n",
    "                'max_depth': list(range(1,100,10)),\n",
    "                'criterion': ['gini']}]  # gini chosen because it was found to be better hyperparameter\n",
    "clf = GridSearchCV(clf_smote_27, param_grid_2, cv=10)\n",
    "clf.fit(X_smote_vec_std_27, y_smote_labl)"
   ]
  },
  {
   "cell_type": "code",
   "execution_count": 39,
   "metadata": {},
   "outputs": [
    {
     "data": {
      "image/png": "[encoded data removed]",
      "text/plain": [
       "<matplotlib.figure.Figure at 0x284c1e0a208>"
      ]
     },
     "metadata": {},
     "output_type": "display_data"
    }
   ],
   "source": [
    "# Plotting Score vs Complexity (No of Trees, Tree Depth) Plot\n",
    "x_val_opti_study = clf.cv_results_['params']\n",
    "y_val_opti_study = clf.cv_results_['mean_test_score']\n",
    "fig, ax = plt.subplots(figsize=(10,5))\n",
    "for i in range(10):\n",
    "    plt.plot([ele['n_estimators'] for ele in x_val_opti_study[10*i:10*(i+1)]] , y_val_opti_study[10*i:10*(i+1)], \n",
    "             label=x_val_opti_study[10*i]['max_depth'])\n",
    "ax.set_xlabel('No. of Trees')\n",
    "ax.set_ylabel('10-Fold CV Score')\n",
    "plt.legend()\n",
    "plt.title(\"Optimizing Model Compelxity\")\n",
    "plt.savefig('MLResultFigures/ComplexityOptimize.png')\n",
    "plt.show()"
   ]
  },
  {
   "cell_type": "markdown",
   "metadata": {},
   "source": [
    "<hr>\n",
    "For optimization, we chose to first minimize the number of tree and then the tree depth. We propose `11 trees with max_depth of 11` as the optmium complexity random forest.\n",
    "<hr>"
   ]
  },
  {
   "cell_type": "code",
   "execution_count": 41,
   "metadata": {},
   "outputs": [],
   "source": [
    "# Finally, here's the confusion matrix with optmium complexity model\n",
    "clf_smote_27_std_opt = RandomForestClassifier(criterion=\"gini\", n_estimators=11, max_depth=11)\n",
    "X_train, X_test, y_train, y_test = train_test_split(X_smote_vec_std_27, y_smote_labl, test_size=0.33, random_state=42)"
   ]
  },
  {
   "cell_type": "code",
   "execution_count": 42,
   "metadata": {},
   "outputs": [],
   "source": [
    "# Training the model with optimal parameters\n",
    "clf_smote_27_std_opt.fit(X_train, y_train)\n",
    "y_pred = clf_smote_27_std_opt.predict(X_test)\n",
    "cnf_matrix = confusion_matrix(y_test, y_pred)"
   ]
  },
  {
   "cell_type": "code",
   "execution_count": 43,
   "metadata": {},
   "outputs": [],
   "source": [
    "def plot_confusion_matrix(cm, classes,\n",
    "                          normalize=True,\n",
    "                          title='Confusion matrix',\n",
    "                          cmap=plt.cm.Blues):\n",
    "    \"\"\"\n",
    "    This function prints and plots the confusion matrix.\n",
    "    Normalization can be applied by setting `normalize=True`.\n",
    "    \"\"\"\n",
    "    if normalize:\n",
    "        cm = cm.astype('float') / cm.sum(axis=1)[:, np.newaxis]\n",
    "        print(\"Normalized confusion matrix\")\n",
    "    else:\n",
    "        print('Confusion matrix, without normalization')\n",
    "\n",
    "    print(cm)\n",
    "\n",
    "    plt.imshow(cm, interpolation='nearest', cmap=cmap)\n",
    "    plt.title(title)\n",
    "    plt.colorbar()\n",
    "    tick_marks = np.arange(len(classes))\n",
    "    plt.xticks(tick_marks, classes, rotation=45)\n",
    "    plt.yticks(tick_marks, classes)\n",
    "\n",
    "    fmt = '.2f' if normalize else 'd'\n",
    "    thresh = cm.max() / 2.\n",
    "    for i, j in itertools.product(range(cm.shape[0]), range(cm.shape[1])):\n",
    "        plt.text(j, i, format(cm[i, j], fmt),\n",
    "                 horizontalalignment=\"center\",\n",
    "                 color=\"white\" if cm[i, j] > thresh else \"black\")\n",
    "\n",
    "    plt.ylabel('True label')\n",
    "    plt.xlabel('Predicted label')"
   ]
  },
  {
   "cell_type": "code",
   "execution_count": 45,
   "metadata": {},
   "outputs": [
    {
     "name": "stdout",
     "output_type": "stream",
     "text": [
      "Normalized confusion matrix\n",
      "[[ 0.98305085  0.01355932  0.00338983]\n",
      " [ 0.0190779   0.96343402  0.01748808]\n",
      " [ 0.          0.01232394  0.98767606]]\n"
     ]
    },
    {
     "data": {
      "image/png": "[encoded data removed]",
      "text/plain": [
       "<matplotlib.figure.Figure at 0x284c8692eb8>"
      ]
     },
     "metadata": {},
     "output_type": "display_data"
    }
   ],
   "source": [
    "plt.figure()\n",
    "plot_confusion_matrix(cnf_matrix, classes=[1,2,3], title='Confusion matrix \\n SMOTE | Reduced, Stanadrdized Data')\n",
    "plt.savefig('ConfusionMatrix.png')\n",
    "plt.show()"
   ]
  },
  {
   "cell_type": "markdown",
   "metadata": {},
   "source": [
    "As seen from the figure above, we got a great accuracy of `33:67` Test:Train Split."
   ]
  },
  {
   "cell_type": "code",
   "execution_count": null,
   "metadata": {},
   "outputs": [],
   "source": []
  }
 ],
 "metadata": {
  "kernelspec": {
   "display_name": "Python 3",
   "language": "python",
   "name": "python3"
  },
  "language_info": {
   "codemirror_mode": {
    "name": "ipython",
    "version": 3
   },
   "file_extension": ".py",
   "mimetype": "text/x-python",
   "name": "python",
   "nbconvert_exporter": "python",
   "pygments_lexer": "ipython3",
   "version": "3.6.4"
  }
 },
 "nbformat": 4,
 "nbformat_minor": 2
}
